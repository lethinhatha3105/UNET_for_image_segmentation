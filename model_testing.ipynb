{
 "cells": [
  {
   "cell_type": "markdown",
   "metadata": {},
   "source": [
    "## Import libraries"
   ]
  },
  {
   "cell_type": "code",
   "execution_count": 1,
   "metadata": {},
   "outputs": [
    {
     "name": "stderr",
     "output_type": "stream",
     "text": [
      "2024-08-26 09:20:27.279591: I tensorflow/core/platform/cpu_feature_guard.cc:182] This TensorFlow binary is optimized to use available CPU instructions in performance-critical operations.\n",
      "To enable the following instructions: SSE4.1 SSE4.2 AVX AVX2 FMA, in other operations, rebuild TensorFlow with the appropriate compiler flags.\n"
     ]
    }
   ],
   "source": [
    "import tensorflow as tf\n",
    "import numpy as np\n",
    "import os"
   ]
  },
  {
   "cell_type": "markdown",
   "metadata": {
    "id": "A-3z_Dpg-vv7"
   },
   "source": [
    "## Prepare paths of input images and target segmentation masks"
   ]
  },
  {
   "cell_type": "code",
   "execution_count": 2,
   "metadata": {
    "id": "_p6BwiY3-vv8"
   },
   "outputs": [
    {
     "name": "stdout",
     "output_type": "stream",
     "text": [
      "Number of samples: 7390\n",
      "images/Abyssinian_1.jpg | annotations/trimaps/Abyssinian_1.png\n",
      "images/Abyssinian_10.jpg | annotations/trimaps/Abyssinian_10.png\n",
      "images/Abyssinian_100.jpg | annotations/trimaps/Abyssinian_100.png\n",
      "images/Abyssinian_101.jpg | annotations/trimaps/Abyssinian_101.png\n",
      "images/Abyssinian_102.jpg | annotations/trimaps/Abyssinian_102.png\n",
      "images/Abyssinian_103.jpg | annotations/trimaps/Abyssinian_103.png\n",
      "images/Abyssinian_104.jpg | annotations/trimaps/Abyssinian_104.png\n",
      "images/Abyssinian_105.jpg | annotations/trimaps/Abyssinian_105.png\n",
      "images/Abyssinian_106.jpg | annotations/trimaps/Abyssinian_106.png\n",
      "images/Abyssinian_107.jpg | annotations/trimaps/Abyssinian_107.png\n"
     ]
    }
   ],
   "source": [
    "input_dir = \"images/\"\n",
    "target_dir = \"annotations/trimaps/\"\n",
    "img_size = (160, 160)\n",
    "num_classes = 3\n",
    "batch_size = 32\n",
    "\n",
    "input_img_paths = sorted(\n",
    "    [\n",
    "        os.path.join(input_dir, fname)\n",
    "        for fname in os.listdir(input_dir)\n",
    "        if fname.endswith(\".jpg\")\n",
    "    ]\n",
    ")\n",
    "target_img_paths = sorted(\n",
    "    [\n",
    "        os.path.join(target_dir, fname)\n",
    "        for fname in os.listdir(target_dir)\n",
    "        if fname.endswith(\".png\") and not fname.startswith(\".\")\n",
    "    ]\n",
    ")\n",
    "\n",
    "print(\"Number of samples:\", len(input_img_paths))\n",
    "\n",
    "for input_path, target_path in zip(input_img_paths[:10], target_img_paths[:10]):\n",
    "    print(input_path, \"|\", target_path)"
   ]
  },
  {
   "cell_type": "markdown",
   "metadata": {},
   "source": [
    "## Load data paths"
   ]
  },
  {
   "cell_type": "code",
   "execution_count": 3,
   "metadata": {},
   "outputs": [
    {
     "name": "stdout",
     "output_type": "stream",
     "text": [
      "Data paths loaded\n",
      "['images/samoyed_64.jpg', 'images/yorkshire_terrier_21.jpg', 'images/shiba_inu_143.jpg', 'images/pomeranian_86.jpg', 'images/boxer_85.jpg', 'images/Birman_17.jpg', 'images/beagle_64.jpg', 'images/german_shorthaired_182.jpg', 'images/staffordshire_bull_terrier_194.jpg', 'images/Egyptian_Mau_218.jpg', 'images/wheaten_terrier_92.jpg', 'images/basset_hound_115.jpg', 'images/chihuahua_152.jpg', 'images/Siamese_18.jpg', 'images/beagle_196.jpg', 'images/Bengal_120.jpg', 'images/newfoundland_6.jpg', 'images/english_cocker_spaniel_95.jpg', 'images/Siamese_34.jpg', 'images/havanese_7.jpg', 'images/samoyed_174.jpg', 'images/american_bulldog_59.jpg', 'images/english_cocker_spaniel_139.jpg', 'images/havanese_54.jpg', 'images/chihuahua_191.jpg', 'images/saint_bernard_197.jpg', 'images/japanese_chin_110.jpg', 'images/pug_169.jpg', 'images/basset_hound_22.jpg', 'images/British_Shorthair_92.jpg', 'images/Siamese_179.jpg', 'images/miniature_pinscher_24.jpg', 'images/german_shorthaired_155.jpg', 'images/Siamese_43.jpg', 'images/basset_hound_138.jpg', 'images/basset_hound_141.jpg', 'images/american_bulldog_205.jpg', 'images/shiba_inu_161.jpg', 'images/newfoundland_39.jpg', 'images/scottish_terrier_122.jpg', 'images/staffordshire_bull_terrier_191.jpg', 'images/saint_bernard_173.jpg', 'images/Sphynx_232.jpg', 'images/Siamese_120.jpg', 'images/newfoundland_97.jpg', 'images/Ragdoll_224.jpg', 'images/Abyssinian_132.jpg', 'images/chihuahua_174.jpg', 'images/Egyptian_Mau_51.jpg', 'images/basset_hound_131.jpg', 'images/Egyptian_Mau_134.jpg', 'images/german_shorthaired_187.jpg', 'images/great_pyrenees_61.jpg', 'images/havanese_13.jpg', 'images/Ragdoll_77.jpg', 'images/newfoundland_121.jpg', 'images/Ragdoll_160.jpg', 'images/japanese_chin_64.jpg', 'images/beagle_107.jpg', 'images/British_Shorthair_60.jpg', 'images/boxer_16.jpg', 'images/Birman_169.jpg', 'images/english_cocker_spaniel_183.jpg', 'images/Bengal_54.jpg', 'images/english_setter_197.jpg', 'images/chihuahua_78.jpg', 'images/Siamese_33.jpg', 'images/scottish_terrier_99.jpg', 'images/basset_hound_76.jpg', 'images/Abyssinian_201.jpg', 'images/Russian_Blue_119.jpg', 'images/Siamese_51.jpg', 'images/miniature_pinscher_37.jpg', 'images/scottish_terrier_97.jpg', 'images/keeshond_165.jpg', 'images/pug_20.jpg', 'images/chihuahua_179.jpg', 'images/British_Shorthair_212.jpg', 'images/Bombay_188.jpg', 'images/wheaten_terrier_163.jpg', 'images/english_setter_79.jpg', 'images/keeshond_91.jpg', 'images/american_pit_bull_terrier_192.jpg', 'images/chihuahua_175.jpg', 'images/beagle_31.jpg', 'images/Egyptian_Mau_109.jpg', 'images/american_pit_bull_terrier_42.jpg', 'images/great_pyrenees_126.jpg', 'images/japanese_chin_122.jpg', 'images/beagle_93.jpg', 'images/Ragdoll_100.jpg', 'images/miniature_pinscher_78.jpg', 'images/staffordshire_bull_terrier_105.jpg', 'images/Egyptian_Mau_173.jpg', 'images/scottish_terrier_174.jpg', 'images/Siamese_130.jpg', 'images/keeshond_17.jpg', 'images/Bengal_94.jpg', 'images/Bombay_34.jpg', 'images/Bengal_79.jpg', 'images/boxer_54.jpg', 'images/german_shorthaired_64.jpg', 'images/Abyssinian_136.jpg', 'images/yorkshire_terrier_147.jpg', 'images/Ragdoll_191.jpg', 'images/Abyssinian_51.jpg', 'images/german_shorthaired_163.jpg', 'images/pomeranian_197.jpg', 'images/american_pit_bull_terrier_52.jpg', 'images/Siamese_82.jpg', 'images/samoyed_162.jpg', 'images/pomeranian_196.jpg', 'images/german_shorthaired_42.jpg', 'images/Bombay_10.jpg', 'images/Ragdoll_165.jpg', 'images/german_shorthaired_67.jpg', 'images/Maine_Coon_161.jpg', 'images/Bengal_39.jpg', 'images/boxer_67.jpg', 'images/japanese_chin_93.jpg', 'images/english_setter_20.jpg', 'images/Bombay_179.jpg', 'images/Russian_Blue_150.jpg', 'images/Bombay_23.jpg', 'images/saint_bernard_162.jpg', 'images/great_pyrenees_107.jpg', 'images/Birman_7.jpg', 'images/British_Shorthair_9.jpg', 'images/Bombay_80.jpg', 'images/beagle_195.jpg', 'images/Bombay_115.jpg', 'images/boxer_193.jpg', 'images/pug_133.jpg', 'images/Abyssinian_78.jpg', 'images/american_pit_bull_terrier_72.jpg', 'images/Bombay_217.jpg', 'images/leonberger_158.jpg', 'images/Bombay_137.jpg', 'images/american_pit_bull_terrier_106.jpg', 'images/newfoundland_55.jpg', 'images/Ragdoll_195.jpg', 'images/Ragdoll_171.jpg', 'images/staffordshire_bull_terrier_72.jpg', 'images/wheaten_terrier_108.jpg', 'images/american_bulldog_26.jpg', 'images/Siamese_231.jpg', 'images/Siamese_80.jpg', 'images/British_Shorthair_75.jpg', 'images/great_pyrenees_146.jpg', 'images/Egyptian_Mau_100.jpg', 'images/Ragdoll_138.jpg', 'images/wheaten_terrier_121.jpg', 'images/wheaten_terrier_151.jpg', 'images/yorkshire_terrier_196.jpg', 'images/wheaten_terrier_136.jpg', 'images/american_bulldog_209.jpg', 'images/Ragdoll_56.jpg', 'images/beagle_96.jpg', 'images/english_cocker_spaniel_159.jpg', 'images/Abyssinian_196.jpg', 'images/Abyssinian_123.jpg', 'images/shiba_inu_181.jpg', 'images/boxer_139.jpg', 'images/havanese_80.jpg', 'images/american_bulldog_122.jpg', 'images/american_bulldog_96.jpg', 'images/havanese_21.jpg', 'images/boxer_169.jpg', 'images/saint_bernard_161.jpg', 'images/Bombay_151.jpg', 'images/Maine_Coon_64.jpg', 'images/samoyed_103.jpg', 'images/pug_69.jpg', 'images/British_Shorthair_55.jpg', 'images/Egyptian_Mau_77.jpg', 'images/american_pit_bull_terrier_170.jpg', 'images/basset_hound_44.jpg', 'images/newfoundland_70.jpg', 'images/Sphynx_78.jpg', 'images/keeshond_129.jpg', 'images/scottish_terrier_151.jpg', 'images/Bombay_5.jpg', 'images/Birman_11.jpg', 'images/wheaten_terrier_148.jpg', 'images/american_pit_bull_terrier_202.jpg', 'images/leonberger_94.jpg', 'images/german_shorthaired_71.jpg', 'images/Maine_Coon_213.jpg', 'images/wheaten_terrier_53.jpg', 'images/english_cocker_spaniel_37.jpg', 'images/Egyptian_Mau_136.jpg', 'images/Ragdoll_161.jpg', 'images/Persian_115.jpg', 'images/pomeranian_20.jpg', 'images/Maine_Coon_187.jpg', 'images/english_setter_142.jpg', 'images/american_bulldog_93.jpg', 'images/great_pyrenees_34.jpg', 'images/Abyssinian_165.jpg', 'images/american_pit_bull_terrier_163.jpg', 'images/wheaten_terrier_155.jpg', 'images/British_Shorthair_159.jpg', 'images/shiba_inu_82.jpg', 'images/samoyed_110.jpg', 'images/Ragdoll_69.jpg', 'images/keeshond_121.jpg', 'images/saint_bernard_147.jpg', 'images/pomeranian_154.jpg', 'images/Egyptian_Mau_164.jpg', 'images/newfoundland_122.jpg', 'images/boxer_11.jpg', 'images/pug_143.jpg', 'images/wheaten_terrier_96.jpg', 'images/american_bulldog_52.jpg', 'images/Persian_258.jpg', 'images/British_Shorthair_241.jpg', 'images/Ragdoll_156.jpg', 'images/Abyssinian_18.jpg', 'images/Sphynx_240.jpg', 'images/chihuahua_100.jpg', 'images/wheaten_terrier_111.jpg', 'images/havanese_188.jpg', 'images/British_Shorthair_176.jpg', 'images/yorkshire_terrier_82.jpg', 'images/havanese_111.jpg', 'images/staffordshire_bull_terrier_55.jpg', 'images/basset_hound_183.jpg', 'images/newfoundland_199.jpg', 'images/scottish_terrier_20.jpg', 'images/staffordshire_bull_terrier_200.jpg', 'images/great_pyrenees_30.jpg', 'images/boxer_56.jpg', 'images/american_bulldog_89.jpg', 'images/Sphynx_199.jpg', 'images/Russian_Blue_203.jpg', 'images/Bengal_174.jpg', 'images/shiba_inu_41.jpg', 'images/miniature_pinscher_99.jpg', 'images/beagle_161.jpg', 'images/samoyed_25.jpg', 'images/german_shorthaired_185.jpg', 'images/Sphynx_1.jpg', 'images/Persian_63.jpg', 'images/japanese_chin_165.jpg', 'images/leonberger_51.jpg', 'images/Bombay_112.jpg', 'images/american_bulldog_126.jpg', 'images/Egyptian_Mau_221.jpg', 'images/english_cocker_spaniel_41.jpg', 'images/pug_98.jpg', 'images/japanese_chin_53.jpg', 'images/boxer_41.jpg', 'images/havanese_70.jpg', 'images/havanese_5.jpg', 'images/samoyed_68.jpg', 'images/chihuahua_110.jpg', 'images/wheaten_terrier_89.jpg', 'images/leonberger_39.jpg', 'images/shiba_inu_27.jpg', 'images/Siamese_60.jpg', 'images/leonberger_65.jpg', 'images/Abyssinian_91.jpg', 'images/pomeranian_21.jpg', 'images/Egyptian_Mau_150.jpg', 'images/Ragdoll_164.jpg', 'images/japanese_chin_14.jpg', 'images/Siamese_152.jpg', 'images/Birman_92.jpg', 'images/beagle_143.jpg', 'images/staffordshire_bull_terrier_40.jpg', 'images/keeshond_167.jpg', 'images/leonberger_102.jpg', 'images/german_shorthaired_136.jpg', 'images/Abyssinian_4.jpg', 'images/havanese_163.jpg', 'images/Sphynx_203.jpg', 'images/Siamese_205.jpg', 'images/Abyssinian_153.jpg', 'images/american_pit_bull_terrier_121.jpg', 'images/german_shorthaired_195.jpg', 'images/scottish_terrier_157.jpg', 'images/basset_hound_194.jpg', 'images/beagle_57.jpg', 'images/Ragdoll_124.jpg', 'images/Bombay_97.jpg', 'images/Abyssinian_45.jpg', 'images/Birman_191.jpg', 'images/miniature_pinscher_110.jpg', 'images/Maine_Coon_19.jpg', 'images/samoyed_170.jpg', 'images/British_Shorthair_187.jpg', 'images/american_pit_bull_terrier_94.jpg', 'images/miniature_pinscher_124.jpg', 'images/pug_172.jpg', 'images/Persian_196.jpg', 'images/Egyptian_Mau_62.jpg', 'images/japanese_chin_50.jpg', 'images/Russian_Blue_68.jpg', 'images/keeshond_64.jpg', 'images/Bombay_56.jpg', 'images/Bombay_87.jpg', 'images/newfoundland_11.jpg', 'images/leonberger_37.jpg', 'images/scottish_terrier_105.jpg', 'images/Egyptian_Mau_63.jpg', 'images/Egyptian_Mau_172.jpg', 'images/american_pit_bull_terrier_148.jpg', 'images/german_shorthaired_28.jpg', 'images/shiba_inu_101.jpg', 'images/scottish_terrier_15.jpg', 'images/beagle_191.jpg', 'images/japanese_chin_46.jpg', 'images/english_cocker_spaniel_28.jpg', 'images/Russian_Blue_50.jpg', 'images/boxer_183.jpg', 'images/beagle_26.jpg', 'images/boxer_130.jpg', 'images/yorkshire_terrier_23.jpg', 'images/Maine_Coon_91.jpg', 'images/leonberger_9.jpg', 'images/Sphynx_2.jpg', 'images/samoyed_176.jpg', 'images/scottish_terrier_59.jpg', 'images/Siamese_128.jpg', 'images/basset_hound_198.jpg', 'images/Persian_135.jpg', 'images/saint_bernard_192.jpg', 'images/great_pyrenees_151.jpg', 'images/Maine_Coon_249.jpg', 'images/scottish_terrier_177.jpg', 'images/Bombay_58.jpg', 'images/Bengal_33.jpg', 'images/japanese_chin_101.jpg', 'images/newfoundland_49.jpg', 'images/Siamese_181.jpg', 'images/miniature_pinscher_55.jpg', 'images/shiba_inu_126.jpg', 'images/shiba_inu_55.jpg', 'images/german_shorthaired_78.jpg', 'images/Birman_1.jpg', 'images/yorkshire_terrier_61.jpg', 'images/beagle_142.jpg', 'images/Siamese_161.jpg', 'images/shiba_inu_119.jpg', 'images/basset_hound_34.jpg', 'images/american_bulldog_137.jpg', 'images/miniature_pinscher_118.jpg', 'images/Bombay_39.jpg', 'images/japanese_chin_44.jpg', 'images/Abyssinian_197.jpg', 'images/havanese_135.jpg', 'images/japanese_chin_60.jpg', 'images/Siamese_54.jpg', 'images/chihuahua_163.jpg', 'images/miniature_pinscher_101.jpg', 'images/shiba_inu_85.jpg', 'images/yorkshire_terrier_155.jpg', 'images/Ragdoll_88.jpg', 'images/shiba_inu_112.jpg', 'images/boxer_161.jpg', 'images/Bengal_21.jpg', 'images/great_pyrenees_71.jpg', 'images/yorkshire_terrier_192.jpg', 'images/Sphynx_119.jpg', 'images/Bombay_64.jpg', 'images/german_shorthaired_101.jpg', 'images/Sphynx_182.jpg', 'images/Russian_Blue_132.jpg', 'images/samoyed_48.jpg', 'images/Sphynx_71.jpg', 'images/leonberger_121.jpg', 'images/Persian_111.jpg', 'images/pug_168.jpg', 'images/Ragdoll_151.jpg', 'images/english_cocker_spaniel_157.jpg', 'images/german_shorthaired_74.jpg', 'images/boxer_104.jpg', 'images/pug_135.jpg', 'images/pomeranian_125.jpg', 'images/boxer_76.jpg', 'images/yorkshire_terrier_49.jpg', 'images/chihuahua_46.jpg', 'images/staffordshire_bull_terrier_186.jpg', 'images/Siamese_154.jpg', 'images/Maine_Coon_141.jpg', 'images/yorkshire_terrier_129.jpg', 'images/Abyssinian_207.jpg', 'images/Egyptian_Mau_39.jpg', 'images/samoyed_133.jpg', 'images/great_pyrenees_45.jpg', 'images/Abyssinian_70.jpg', 'images/Siamese_114.jpg', 'images/pomeranian_3.jpg', 'images/newfoundland_53.jpg', 'images/Persian_200.jpg', 'images/basset_hound_101.jpg', 'images/Bombay_122.jpg', 'images/Birman_91.jpg', 'images/Bengal_172.jpg', 'images/wheaten_terrier_152.jpg', 'images/Egyptian_Mau_120.jpg', 'images/leonberger_123.jpg', 'images/beagle_141.jpg', 'images/chihuahua_170.jpg', 'images/leonberger_124.jpg', 'images/Sphynx_15.jpg', 'images/Ragdoll_47.jpg', 'images/havanese_3.jpg', 'images/boxer_12.jpg', 'images/miniature_pinscher_52.jpg', 'images/havanese_82.jpg', 'images/shiba_inu_45.jpg', 'images/Bengal_129.jpg', 'images/beagle_44.jpg', 'images/japanese_chin_92.jpg', 'images/english_setter_23.jpg', 'images/Bengal_184.jpg', 'images/Siamese_127.jpg', 'images/leonberger_199.jpg', 'images/yorkshire_terrier_122.jpg', 'images/pug_122.jpg', 'images/Egyptian_Mau_132.jpg', 'images/pomeranian_105.jpg', 'images/yorkshire_terrier_58.jpg', 'images/Russian_Blue_78.jpg', 'images/wheaten_terrier_181.jpg', 'images/Bengal_110.jpg', 'images/Egyptian_Mau_89.jpg', 'images/Birman_19.jpg', 'images/keeshond_52.jpg', 'images/saint_bernard_83.jpg', 'images/Abyssinian_54.jpg', 'images/wheaten_terrier_43.jpg', 'images/miniature_pinscher_167.jpg', 'images/Siamese_64.jpg', 'images/boxer_73.jpg', 'images/leonberger_134.jpg', 'images/Persian_188.jpg', 'images/miniature_pinscher_45.jpg', 'images/pug_45.jpg', 'images/pomeranian_198.jpg', 'images/havanese_67.jpg', 'images/chihuahua_113.jpg', 'images/Russian_Blue_91.jpg', 'images/saint_bernard_169.jpg', 'images/japanese_chin_119.jpg', 'images/Russian_Blue_107.jpg', 'images/pomeranian_63.jpg', 'images/Siamese_188.jpg', 'images/Bengal_28.jpg', 'images/shiba_inu_50.jpg', 'images/basset_hound_53.jpg', 'images/basset_hound_133.jpg', 'images/miniature_pinscher_28.jpg', 'images/boxer_34.jpg', 'images/shiba_inu_3.jpg', 'images/great_pyrenees_191.jpg', 'images/havanese_88.jpg', 'images/yorkshire_terrier_190.jpg', 'images/British_Shorthair_160.jpg', 'images/english_cocker_spaniel_32.jpg', 'images/saint_bernard_96.jpg', 'images/Sphynx_94.jpg', 'images/pug_62.jpg', 'images/Siamese_32.jpg', 'images/staffordshire_bull_terrier_125.jpg', 'images/english_cocker_spaniel_179.jpg', 'images/samoyed_7.jpg', 'images/pomeranian_55.jpg', 'images/boxer_107.jpg', 'images/basset_hound_36.jpg', 'images/Siamese_29.jpg', 'images/Bengal_17.jpg', 'images/Sphynx_179.jpg', 'images/basset_hound_185.jpg', 'images/scottish_terrier_27.jpg', 'images/Bengal_13.jpg', 'images/american_bulldog_208.jpg', 'images/leonberger_90.jpg', 'images/leonberger_33.jpg', 'images/Maine_Coon_163.jpg', 'images/american_bulldog_203.jpg', 'images/saint_bernard_77.jpg', 'images/japanese_chin_39.jpg', 'images/Persian_213.jpg', 'images/Abyssinian_154.jpg', 'images/Siamese_193.jpg', 'images/american_pit_bull_terrier_117.jpg', 'images/Abyssinian_49.jpg', 'images/Bengal_124.jpg', 'images/basset_hound_23.jpg', 'images/Maine_Coon_116.jpg', 'images/english_setter_83.jpg', 'images/Russian_Blue_206.jpg', 'images/keeshond_70.jpg', 'images/basset_hound_193.jpg', 'images/British_Shorthair_274.jpg', 'images/pomeranian_15.jpg', 'images/english_cocker_spaniel_34.jpg', 'images/japanese_chin_132.jpg', 'images/japanese_chin_41.jpg', 'images/miniature_pinscher_94.jpg', 'images/pug_57.jpg', 'images/Maine_Coon_94.jpg', 'images/Bombay_146.jpg', 'images/american_bulldog_92.jpg', 'images/Bengal_18.jpg', 'images/shiba_inu_207.jpg', 'images/german_shorthaired_175.jpg', 'images/staffordshire_bull_terrier_132.jpg', 'images/english_setter_154.jpg', 'images/shiba_inu_74.jpg', 'images/english_cocker_spaniel_97.jpg', 'images/samoyed_150.jpg', 'images/chihuahua_154.jpg', 'images/chihuahua_120.jpg', 'images/scottish_terrier_37.jpg', 'images/pug_96.jpg', 'images/japanese_chin_106.jpg', 'images/Abyssinian_22.jpg', 'images/samoyed_85.jpg', 'images/english_cocker_spaniel_89.jpg', 'images/chihuahua_50.jpg', 'images/saint_bernard_19.jpg', 'images/Egyptian_Mau_97.jpg', 'images/english_cocker_spaniel_14.jpg', 'images/yorkshire_terrier_174.jpg', 'images/havanese_34.jpg', 'images/keeshond_43.jpg', 'images/Sphynx_241.jpg', 'images/Egyptian_Mau_7.jpg', 'images/miniature_pinscher_81.jpg', 'images/german_shorthaired_146.jpg', 'images/japanese_chin_84.jpg', 'images/Maine_Coon_63.jpg', 'images/havanese_173.jpg', 'images/shiba_inu_35.jpg', 'images/english_cocker_spaniel_25.jpg', 'images/Persian_71.jpg', 'images/Russian_Blue_216.jpg', 'images/miniature_pinscher_59.jpg', 'images/Russian_Blue_222.jpg', 'images/leonberger_32.jpg', 'images/Birman_35.jpg', 'images/english_cocker_spaniel_94.jpg', 'images/shiba_inu_79.jpg', 'images/keeshond_45.jpg', 'images/Maine_Coon_60.jpg', 'images/american_pit_bull_terrier_51.jpg', 'images/Russian_Blue_133.jpg', 'images/Maine_Coon_103.jpg', 'images/english_setter_152.jpg', 'images/Birman_144.jpg', 'images/basset_hound_105.jpg', 'images/Abyssinian_94.jpg', 'images/Maine_Coon_6.jpg', 'images/Sphynx_195.jpg', 'images/pomeranian_120.jpg', 'images/samoyed_53.jpg', 'images/Birman_103.jpg', 'images/chihuahua_61.jpg', 'images/staffordshire_bull_terrier_166.jpg', 'images/yorkshire_terrier_187.jpg', 'images/Egyptian_Mau_201.jpg', 'images/leonberger_141.jpg', 'images/staffordshire_bull_terrier_32.jpg', 'images/Abyssinian_213.jpg', 'images/american_pit_bull_terrier_157.jpg', 'images/Ragdoll_64.jpg', 'images/miniature_pinscher_168.jpg', 'images/pomeranian_159.jpg', 'images/British_Shorthair_140.jpg', 'images/basset_hound_38.jpg', 'images/great_pyrenees_11.jpg', 'images/British_Shorthair_168.jpg', 'images/shiba_inu_96.jpg', 'images/miniature_pinscher_54.jpg', 'images/shiba_inu_110.jpg', 'images/pug_9.jpg', 'images/British_Shorthair_22.jpg', 'images/havanese_152.jpg', 'images/boxer_131.jpg', 'images/Abyssinian_82.jpg', 'images/Abyssinian_160.jpg', 'images/beagle_60.jpg', 'images/boxer_66.jpg', 'images/boxer_82.jpg', 'images/British_Shorthair_78.jpg', 'images/Maine_Coon_192.jpg', 'images/scottish_terrier_50.jpg', 'images/Birman_115.jpg', 'images/Russian_Blue_110.jpg', 'images/great_pyrenees_100.jpg', 'images/samoyed_124.jpg', 'images/Abyssinian_7.jpg', 'images/miniature_pinscher_90.jpg', 'images/Persian_15.jpg', 'images/Birman_192.jpg', 'images/english_cocker_spaniel_3.jpg', 'images/yorkshire_terrier_191.jpg', 'images/Russian_Blue_32.jpg', 'images/staffordshire_bull_terrier_18.jpg', 'images/saint_bernard_174.jpg', 'images/great_pyrenees_90.jpg', 'images/Sphynx_231.jpg', 'images/scottish_terrier_19.jpg', 'images/Bengal_7.jpg', 'images/chihuahua_54.jpg', 'images/boxer_94.jpg', 'images/german_shorthaired_164.jpg', 'images/samoyed_100.jpg', 'images/Ragdoll_48.jpg', 'images/pug_186.jpg', 'images/japanese_chin_186.jpg', 'images/keeshond_23.jpg', 'images/scottish_terrier_30.jpg', 'images/english_cocker_spaniel_194.jpg', 'images/basset_hound_18.jpg', 'images/keeshond_68.jpg', 'images/pomeranian_29.jpg', 'images/leonberger_81.jpg', 'images/Bengal_2.jpg', 'images/chihuahua_48.jpg', 'images/miniature_pinscher_171.jpg', 'images/shiba_inu_109.jpg', 'images/Bombay_86.jpg', 'images/Persian_161.jpg', 'images/Siamese_186.jpg', 'images/american_bulldog_144.jpg', 'images/pomeranian_54.jpg', 'images/english_setter_127.jpg', 'images/english_setter_64.jpg', 'images/pug_139.jpg', 'images/staffordshire_bull_terrier_82.jpg', 'images/Siamese_28.jpg', 'images/samoyed_22.jpg', 'images/german_shorthaired_50.jpg', 'images/leonberger_157.jpg', 'images/Ragdoll_111.jpg', 'images/wheaten_terrier_120.jpg', 'images/Ragdoll_260.jpg', 'images/great_pyrenees_69.jpg', 'images/wheaten_terrier_58.jpg', 'images/miniature_pinscher_109.jpg', 'images/staffordshire_bull_terrier_60.jpg', 'images/Siamese_36.jpg', 'images/Russian_Blue_49.jpg', 'images/miniature_pinscher_125.jpg', 'images/american_pit_bull_terrier_174.jpg', 'images/havanese_61.jpg', 'images/american_pit_bull_terrier_113.jpg', 'images/basset_hound_77.jpg', 'images/Persian_224.jpg', 'images/samoyed_98.jpg', 'images/British_Shorthair_16.jpg', 'images/saint_bernard_81.jpg', 'images/leonberger_107.jpg', 'images/shiba_inu_146.jpg', 'images/British_Shorthair_180.jpg', 'images/Bombay_171.jpg', 'images/wheaten_terrier_4.jpg', 'images/saint_bernard_149.jpg', 'images/havanese_2.jpg', 'images/english_cocker_spaniel_187.jpg', 'images/yorkshire_terrier_89.jpg', 'images/Bombay_182.jpg', 'images/Maine_Coon_48.jpg', 'images/yorkshire_terrier_152.jpg', 'images/beagle_52.jpg', 'images/Bengal_177.jpg', 'images/staffordshire_bull_terrier_10.jpg', 'images/pomeranian_13.jpg', 'images/basset_hound_74.jpg', 'images/samoyed_86.jpg', 'images/Bombay_177.jpg', 'images/Siamese_146.jpg', 'images/yorkshire_terrier_93.jpg', 'images/British_Shorthair_123.jpg', 'images/pug_79.jpg', 'images/shiba_inu_76.jpg', 'images/boxer_134.jpg', 'images/Russian_Blue_1.jpg', 'images/boxer_45.jpg', 'images/english_cocker_spaniel_38.jpg', 'images/american_bulldog_136.jpg', 'images/newfoundland_151.jpg', 'images/Russian_Blue_192.jpg', 'images/saint_bernard_47.jpg', 'images/yorkshire_terrier_165.jpg', 'images/great_pyrenees_36.jpg', 'images/american_bulldog_172.jpg', 'images/Bengal_147.jpg', 'images/Persian_163.jpg', 'images/samoyed_12.jpg', 'images/leonberger_5.jpg', 'images/Persian_125.jpg', 'images/Maine_Coon_46.jpg', 'images/american_pit_bull_terrier_93.jpg', 'images/Persian_30.jpg', 'images/Abyssinian_184.jpg', 'images/leonberger_195.jpg', 'images/keeshond_177.jpg', 'images/pomeranian_9.jpg', 'images/leonberger_58.jpg', 'images/great_pyrenees_89.jpg', 'images/Ragdoll_235.jpg', 'images/saint_bernard_175.jpg', 'images/basset_hound_122.jpg', 'images/Maine_Coon_75.jpg', 'images/great_pyrenees_194.jpg', 'images/Maine_Coon_70.jpg', 'images/saint_bernard_186.jpg', 'images/Siamese_78.jpg', 'images/samoyed_94.jpg', 'images/saint_bernard_10.jpg', 'images/Bombay_175.jpg', 'images/samoyed_88.jpg', 'images/boxer_127.jpg', 'images/leonberger_93.jpg', 'images/german_shorthaired_90.jpg', 'images/japanese_chin_2.jpg', 'images/japanese_chin_13.jpg', 'images/chihuahua_199.jpg', 'images/great_pyrenees_94.jpg', 'images/beagle_190.jpg', 'images/miniature_pinscher_5.jpg', 'images/pug_40.jpg', 'images/yorkshire_terrier_29.jpg', 'images/german_shorthaired_94.jpg', 'images/Abyssinian_155.jpg', 'images/yorkshire_terrier_188.jpg', 'images/scottish_terrier_101.jpg', 'images/Abyssinian_139.jpg', 'images/Egyptian_Mau_181.jpg', 'images/english_setter_66.jpg', 'images/Russian_Blue_145.jpg', 'images/chihuahua_17.jpg', 'images/miniature_pinscher_200.jpg', 'images/american_pit_bull_terrier_10.jpg', 'images/american_bulldog_20.jpg', 'images/great_pyrenees_135.jpg', 'images/japanese_chin_71.jpg', 'images/newfoundland_29.jpg', 'images/german_shorthaired_126.jpg', 'images/Siamese_142.jpg', 'images/boxer_26.jpg', 'images/great_pyrenees_150.jpg', 'images/german_shorthaired_147.jpg', 'images/Sphynx_132.jpg', 'images/Bengal_113.jpg', 'images/keeshond_14.jpg', 'images/Bengal_111.jpg', 'images/boxer_87.jpg', 'images/miniature_pinscher_179.jpg', 'images/boxer_156.jpg', 'images/basset_hound_196.jpg', 'images/beagle_46.jpg', 'images/Abyssinian_216.jpg', 'images/japanese_chin_17.jpg', 'images/pomeranian_96.jpg', 'images/scottish_terrier_187.jpg', 'images/saint_bernard_103.jpg', 'images/boxer_69.jpg', 'images/Bombay_131.jpg', 'images/beagle_171.jpg', 'images/havanese_125.jpg', 'images/pomeranian_85.jpg', 'images/British_Shorthair_100.jpg', 'images/american_bulldog_33.jpg', 'images/Sphynx_107.jpg', 'images/Siamese_96.jpg', 'images/keeshond_59.jpg', 'images/Persian_12.jpg', 'images/samoyed_144.jpg', 'images/newfoundland_128.jpg', 'images/american_pit_bull_terrier_40.jpg', 'images/Ragdoll_162.jpg', 'images/miniature_pinscher_6.jpg', 'images/Egyptian_Mau_87.jpg', 'images/Persian_19.jpg', 'images/Bombay_128.jpg', 'images/american_bulldog_139.jpg', 'images/Abyssinian_75.jpg', 'images/Maine_Coon_13.jpg', 'images/Persian_164.jpg', 'images/newfoundland_103.jpg', 'images/newfoundland_124.jpg', 'images/Bengal_56.jpg', 'images/Egyptian_Mau_187.jpg', 'images/Maine_Coon_25.jpg', 'images/Maine_Coon_148.jpg', 'images/Persian_190.jpg', 'images/japanese_chin_28.jpg', 'images/samoyed_19.jpg', 'images/wheaten_terrier_141.jpg', 'images/boxer_109.jpg', 'images/Abyssinian_185.jpg', 'images/Russian_Blue_209.jpg', 'images/Russian_Blue_12.jpg', 'images/beagle_126.jpg', 'images/scottish_terrier_78.jpg', 'images/keeshond_103.jpg', 'images/Bengal_164.jpg', 'images/Ragdoll_12.jpg', 'images/saint_bernard_139.jpg', 'images/pomeranian_192.jpg', 'images/scottish_terrier_56.jpg', 'images/newfoundland_184.jpg', 'images/saint_bernard_120.jpg', 'images/german_shorthaired_158.jpg', 'images/great_pyrenees_124.jpg', 'images/english_cocker_spaniel_123.jpg', 'images/newfoundland_92.jpg', 'images/Birman_102.jpg', 'images/British_Shorthair_210.jpg', 'images/chihuahua_184.jpg', 'images/Sphynx_112.jpg', 'images/basset_hound_46.jpg', 'images/wheaten_terrier_100.jpg', 'images/Maine_Coon_57.jpg', 'images/saint_bernard_7.jpg', 'images/British_Shorthair_161.jpg', 'images/pug_60.jpg', 'images/havanese_41.jpg', 'images/Maine_Coon_68.jpg', 'images/leonberger_103.jpg', 'images/Sphynx_202.jpg', 'images/yorkshire_terrier_37.jpg', 'images/Persian_260.jpg', 'images/american_bulldog_48.jpg', 'images/boxer_140.jpg', 'images/pomeranian_156.jpg', 'images/British_Shorthair_28.jpg', 'images/Birman_178.jpg', 'images/Abyssinian_179.jpg', 'images/wheaten_terrier_19.jpg', 'images/staffordshire_bull_terrier_199.jpg', 'images/Abyssinian_52.jpg', 'images/Birman_101.jpg', 'images/British_Shorthair_104.jpg', 'images/english_setter_53.jpg', 'images/Sphynx_21.jpg', 'images/shiba_inu_90.jpg', 'images/Abyssinian_19.jpg', 'images/boxer_63.jpg', 'images/keeshond_170.jpg', 'images/Sphynx_104.jpg', 'images/american_pit_bull_terrier_167.jpg', 'images/Russian_Blue_240.jpg', 'images/Siamese_199.jpg', 'images/german_shorthaired_96.jpg', 'images/english_setter_52.jpg', 'images/great_pyrenees_105.jpg', 'images/Abyssinian_58.jpg', 'images/american_pit_bull_terrier_67.jpg', 'images/Bombay_214.jpg', 'images/miniature_pinscher_132.jpg', 'images/boxer_78.jpg', 'images/saint_bernard_18.jpg', 'images/Birman_8.jpg', 'images/Persian_122.jpg', 'images/Siamese_185.jpg', 'images/great_pyrenees_180.jpg', 'images/Birman_41.jpg', 'images/Bengal_200.jpg', 'images/leonberger_116.jpg', 'images/japanese_chin_24.jpg', 'images/english_setter_181.jpg', 'images/Maine_Coon_184.jpg', 'images/miniature_pinscher_148.jpg', 'images/Ragdoll_41.jpg', 'images/chihuahua_156.jpg', 'images/keeshond_48.jpg', 'images/pug_107.jpg', 'images/keeshond_72.jpg', 'images/Russian_Blue_187.jpg', 'images/samoyed_114.jpg', 'images/Abyssinian_228.jpg', 'images/american_bulldog_42.jpg', 'images/english_setter_32.jpg', 'images/staffordshire_bull_terrier_53.jpg', 'images/chihuahua_73.jpg', 'images/american_pit_bull_terrier_32.jpg', 'images/english_setter_112.jpg', 'images/havanese_183.jpg', 'images/pomeranian_131.jpg', 'images/english_cocker_spaniel_74.jpg', 'images/basset_hound_32.jpg', 'images/german_shorthaired_125.jpg', 'images/Ragdoll_85.jpg', 'images/american_bulldog_47.jpg', 'images/Maine_Coon_109.jpg', 'images/english_setter_37.jpg', 'images/havanese_77.jpg', 'images/great_pyrenees_47.jpg', 'images/keeshond_50.jpg', 'images/saint_bernard_9.jpg', 'images/german_shorthaired_133.jpg', 'images/german_shorthaired_200.jpg', 'images/havanese_58.jpg', 'images/miniature_pinscher_95.jpg', 'images/saint_bernard_87.jpg', 'images/Ragdoll_114.jpg', 'images/keeshond_29.jpg', 'images/havanese_33.jpg', 'images/Russian_Blue_183.jpg', 'images/pomeranian_133.jpg', 'images/yorkshire_terrier_135.jpg', 'images/wheaten_terrier_187.jpg', 'images/havanese_1.jpg', 'images/Maine_Coon_66.jpg', 'images/Siamese_84.jpg', 'images/pug_147.jpg', 'images/yorkshire_terrier_112.jpg', 'images/staffordshire_bull_terrier_28.jpg', 'images/Ragdoll_105.jpg', 'images/miniature_pinscher_7.jpg', 'images/Persian_51.jpg', 'images/chihuahua_111.jpg', 'images/american_bulldog_217.jpg', 'images/american_pit_bull_terrier_38.jpg', 'images/yorkshire_terrier_27.jpg', 'images/Bengal_163.jpg', 'images/american_bulldog_106.jpg', 'images/Siamese_141.jpg', 'images/beagle_87.jpg', 'images/great_pyrenees_17.jpg', 'images/pomeranian_109.jpg', 'images/Abyssinian_193.jpg', 'images/beagle_38.jpg', 'images/pug_41.jpg', 'images/yorkshire_terrier_63.jpg', 'images/yorkshire_terrier_28.jpg', 'images/Birman_3.jpg', 'images/american_pit_bull_terrier_201.jpg', 'images/shiba_inu_14.jpg', 'images/keeshond_185.jpg', 'images/samoyed_67.jpg', 'images/leonberger_143.jpg', 'images/Bombay_90.jpg', 'images/Abyssinian_119.jpg', 'images/British_Shorthair_84.jpg', 'images/leonberger_170.jpg', 'images/British_Shorthair_64.jpg', 'images/chihuahua_56.jpg', 'images/samoyed_159.jpg', 'images/Abyssinian_104.jpg', 'images/english_setter_191.jpg', 'images/samoyed_65.jpg', 'images/Siamese_162.jpg', 'images/american_pit_bull_terrier_69.jpg', 'images/Sphynx_61.jpg', 'images/samoyed_57.jpg', 'images/saint_bernard_90.jpg', 'images/Abyssinian_130.jpg', 'images/english_setter_50.jpg', 'images/Persian_202.jpg', 'images/samoyed_52.jpg', 'images/yorkshire_terrier_167.jpg', 'images/pomeranian_130.jpg', 'images/german_shorthaired_41.jpg', 'images/yorkshire_terrier_83.jpg', 'images/saint_bernard_179.jpg', 'images/scottish_terrier_75.jpg', 'images/newfoundland_46.jpg', 'images/Egyptian_Mau_107.jpg', 'images/american_bulldog_27.jpg', 'images/basset_hound_112.jpg', 'images/shiba_inu_123.jpg', 'images/english_setter_22.jpg', 'images/pug_105.jpg', 'images/Bombay_12.jpg', 'images/japanese_chin_34.jpg', 'images/yorkshire_terrier_193.jpg', 'images/english_setter_9.jpg', 'images/Birman_135.jpg', 'images/Egyptian_Mau_209.jpg', 'images/Bombay_83.jpg', 'images/english_cocker_spaniel_7.jpg', 'images/japanese_chin_104.jpg', 'images/american_bulldog_8.jpg', 'images/Bengal_38.jpg', 'images/British_Shorthair_95.jpg', 'images/english_cocker_spaniel_165.jpg', 'images/havanese_53.jpg', 'images/yorkshire_terrier_101.jpg', 'images/pug_127.jpg', 'images/staffordshire_bull_terrier_4.jpg', 'images/saint_bernard_2.jpg', 'images/pomeranian_31.jpg', 'images/american_bulldog_2.jpg', 'images/boxer_89.jpg', 'images/keeshond_65.jpg', 'images/basset_hound_40.jpg', 'images/shiba_inu_5.jpg', 'images/boxer_125.jpg', 'images/Persian_90.jpg', 'images/japanese_chin_181.jpg', 'images/german_shorthaired_10.jpg', 'images/Egyptian_Mau_42.jpg', 'images/saint_bernard_78.jpg', 'images/Birman_132.jpg', 'images/japanese_chin_96.jpg', 'images/american_pit_bull_terrier_43.jpg', 'images/yorkshire_terrier_110.jpg', 'images/Russian_Blue_194.jpg', 'images/Sphynx_117.jpg', 'images/wheaten_terrier_33.jpg', 'images/boxer_13.jpg', 'images/Bombay_85.jpg', 'images/Abyssinian_21.jpg', 'images/basset_hound_87.jpg', 'images/samoyed_125.jpg', 'images/english_cocker_spaniel_144.jpg', 'images/yorkshire_terrier_81.jpg', 'images/staffordshire_bull_terrier_26.jpg', 'images/newfoundland_186.jpg', 'images/english_setter_77.jpg', 'images/Siamese_254.jpg', 'images/Maine_Coon_146.jpg', 'images/basset_hound_27.jpg', 'images/Sphynx_54.jpg', 'images/scottish_terrier_67.jpg', 'images/basset_hound_79.jpg', 'images/Maine_Coon_56.jpg', 'images/Sphynx_166.jpg', 'images/Russian_Blue_144.jpg', 'images/yorkshire_terrier_140.jpg', 'images/Sphynx_28.jpg', 'images/english_setter_138.jpg', 'images/Russian_Blue_262.jpg', 'images/great_pyrenees_25.jpg', 'images/shiba_inu_107.jpg', 'images/samoyed_93.jpg', 'images/Birman_49.jpg', 'images/Abyssinian_223.jpg', 'images/Bombay_59.jpg', 'images/British_Shorthair_158.jpg', 'images/Ragdoll_228.jpg', 'images/Abyssinian_230.jpg', 'images/British_Shorthair_56.jpg', 'images/basset_hound_92.jpg', 'images/wheaten_terrier_130.jpg', 'images/miniature_pinscher_189.jpg', 'images/yorkshire_terrier_6.jpg', 'images/Abyssinian_47.jpg', 'images/american_bulldog_22.jpg', 'images/pomeranian_84.jpg', 'images/samoyed_197.jpg', 'images/american_pit_bull_terrier_184.jpg', 'images/Persian_38.jpg', 'images/pug_170.jpg', 'images/Abyssinian_159.jpg', 'images/Maine_Coon_97.jpg', 'images/staffordshire_bull_terrier_47.jpg', 'images/leonberger_142.jpg', 'images/american_bulldog_135.jpg', 'images/pomeranian_142.jpg', 'images/german_shorthaired_120.jpg', 'images/chihuahua_195.jpg', 'images/leonberger_189.jpg', 'images/american_bulldog_79.jpg', 'images/pug_81.jpg', 'images/shiba_inu_201.jpg', 'images/saint_bernard_59.jpg', 'images/boxer_6.jpg', 'images/yorkshire_terrier_90.jpg', 'images/scottish_terrier_147.jpg', 'images/scottish_terrier_87.jpg', 'images/Egyptian_Mau_215.jpg', 'images/samoyed_161.jpg', 'images/Egyptian_Mau_192.jpg', 'images/scottish_terrier_108.jpg', 'images/yorkshire_terrier_72.jpg', 'images/pomeranian_80.jpg', 'images/Ragdoll_7.jpg', 'images/english_cocker_spaniel_112.jpg', 'images/pug_22.jpg', 'images/Bengal_80.jpg', 'images/Bombay_78.jpg', 'images/japanese_chin_156.jpg', 'images/Abyssinian_10.jpg', 'images/leonberger_174.jpg', 'images/miniature_pinscher_174.jpg', 'images/english_setter_195.jpg', 'images/basset_hound_33.jpg', 'images/german_shorthaired_122.jpg', 'images/scottish_terrier_166.jpg', 'images/Egyptian_Mau_184.jpg', 'images/newfoundland_67.jpg', 'images/Bengal_34.jpg', 'images/staffordshire_bull_terrier_49.jpg', 'images/english_setter_10.jpg', 'images/Bombay_159.jpg', 'images/havanese_137.jpg', 'images/pug_46.jpg', 'images/Bengal_89.jpg', 'images/keeshond_44.jpg', 'images/basset_hound_47.jpg', 'images/beagle_92.jpg', 'images/chihuahua_168.jpg', 'images/yorkshire_terrier_88.jpg', 'images/keeshond_85.jpg', 'images/boxer_162.jpg', 'images/english_cocker_spaniel_162.jpg', 'images/Bombay_75.jpg', 'images/shiba_inu_97.jpg', 'images/Bengal_95.jpg', 'images/boxer_120.jpg', 'images/english_setter_122.jpg', 'images/Ragdoll_37.jpg', 'images/samoyed_17.jpg', 'images/British_Shorthair_99.jpg', 'images/yorkshire_terrier_20.jpg', 'images/japanese_chin_19.jpg', 'images/leonberger_42.jpg', 'images/chihuahua_60.jpg', 'images/japanese_chin_171.jpg', 'images/Egyptian_Mau_22.jpg', 'images/american_bulldog_60.jpg', 'images/saint_bernard_29.jpg', 'images/Sphynx_55.jpg', 'images/keeshond_145.jpg', 'images/chihuahua_188.jpg', 'images/Egyptian_Mau_68.jpg', 'images/scottish_terrier_32.jpg', 'images/saint_bernard_178.jpg', 'images/staffordshire_bull_terrier_116.jpg', 'images/Sphynx_177.jpg', 'images/yorkshire_terrier_17.jpg', 'images/japanese_chin_111.jpg', 'images/boxer_42.jpg', 'images/British_Shorthair_109.jpg', 'images/german_shorthaired_104.jpg', 'images/Ragdoll_113.jpg', 'images/scottish_terrier_141.jpg', 'images/Sphynx_99.jpg', 'images/Bombay_160.jpg', 'images/english_cocker_spaniel_39.jpg', 'images/saint_bernard_71.jpg', 'images/scottish_terrier_86.jpg', 'images/boxer_91.jpg', 'images/Siamese_50.jpg', 'images/miniature_pinscher_20.jpg', 'images/Birman_104.jpg', 'images/Bombay_109.jpg', 'images/British_Shorthair_86.jpg', 'images/great_pyrenees_149.jpg', 'images/Bengal_144.jpg', 'images/chihuahua_146.jpg', 'images/Persian_97.jpg', 'images/english_setter_173.jpg', 'images/Bengal_30.jpg', 'images/pomeranian_199.jpg', 'images/japanese_chin_125.jpg', 'images/scottish_terrier_148.jpg', 'images/Sphynx_213.jpg', 'images/pomeranian_188.jpg', 'images/newfoundland_173.jpg', 'images/chihuahua_178.jpg', 'images/havanese_158.jpg', 'images/staffordshire_bull_terrier_128.jpg', 'images/chihuahua_53.jpg', 'images/yorkshire_terrier_12.jpg', 'images/Persian_46.jpg', 'images/Siamese_79.jpg', 'images/Birman_199.jpg', 'images/staffordshire_bull_terrier_77.jpg', 'images/Abyssinian_121.jpg', 'images/wheaten_terrier_109.jpg', 'images/boxer_19.jpg', 'images/shiba_inu_87.jpg', 'images/keeshond_1.jpg', 'images/samoyed_76.jpg', 'images/Egyptian_Mau_210.jpg', 'images/scottish_terrier_185.jpg', 'images/yorkshire_terrier_149.jpg', 'images/english_cocker_spaniel_6.jpg', 'images/shiba_inu_125.jpg', 'images/japanese_chin_70.jpg', 'images/Abyssinian_67.jpg', 'images/american_bulldog_212.jpg', 'images/staffordshire_bull_terrier_36.jpg', 'images/scottish_terrier_7.jpg', 'images/Siamese_180.jpg', 'images/wheaten_terrier_39.jpg', 'images/Bombay_134.jpg', 'images/Siamese_225.jpg', 'images/yorkshire_terrier_55.jpg', 'images/samoyed_109.jpg', 'images/Egyptian_Mau_108.jpg', 'images/english_cocker_spaniel_130.jpg', 'images/samoyed_70.jpg', 'images/Persian_98.jpg', 'images/keeshond_133.jpg', 'images/newfoundland_172.jpg', 'images/boxer_14.jpg', 'images/Maine_Coon_266.jpg', 'images/Persian_149.jpg', 'images/Birman_79.jpg', 'images/Bengal_107.jpg', 'images/american_bulldog_185.jpg', 'images/english_cocker_spaniel_161.jpg', 'images/great_pyrenees_178.jpg', 'images/japanese_chin_158.jpg', 'images/Bengal_20.jpg', 'images/samoyed_175.jpg', 'images/great_pyrenees_18.jpg', 'images/newfoundland_10.jpg', 'images/Maine_Coon_152.jpg', 'images/Maine_Coon_195.jpg', 'images/British_Shorthair_276.jpg', 'images/japanese_chin_56.jpg', 'images/shiba_inu_91.jpg', 'images/Birman_93.jpg', 'images/Persian_145.jpg', 'images/basset_hound_94.jpg', 'images/Persian_99.jpg', 'images/yorkshire_terrier_13.jpg', 'images/British_Shorthair_151.jpg', 'images/Siamese_17.jpg', 'images/havanese_75.jpg', 'images/samoyed_115.jpg', 'images/havanese_103.jpg', 'images/miniature_pinscher_199.jpg', 'images/american_pit_bull_terrier_158.jpg', 'images/shiba_inu_80.jpg', 'images/american_bulldog_189.jpg', 'images/saint_bernard_163.jpg', 'images/Persian_45.jpg', 'images/shiba_inu_61.jpg', 'images/Ragdoll_169.jpg', 'images/Sphynx_83.jpg', 'images/Russian_Blue_84.jpg', 'images/Siamese_198.jpg', 'images/saint_bernard_105.jpg', 'images/newfoundland_174.jpg', 'images/keeshond_180.jpg', 'images/Bengal_87.jpg', 'images/Sphynx_153.jpg', 'images/basset_hound_116.jpg', 'images/basset_hound_39.jpg', 'images/newfoundland_62.jpg', 'images/english_cocker_spaniel_51.jpg', 'images/scottish_terrier_31.jpg', 'images/British_Shorthair_186.jpg', 'images/Abyssinian_115.jpg', 'images/Bombay_110.jpg', 'images/english_setter_67.jpg', 'images/Egyptian_Mau_105.jpg', 'images/Persian_165.jpg', 'images/english_setter_47.jpg', 'images/chihuahua_41.jpg', 'images/Birman_88.jpg', 'images/scottish_terrier_132.jpg', 'images/basset_hound_70.jpg', 'images/american_bulldog_142.jpg', 'images/saint_bernard_165.jpg', 'images/miniature_pinscher_192.jpg', 'images/Bombay_118.jpg', 'images/staffordshire_bull_terrier_120.jpg', 'images/Maine_Coon_85.jpg', 'images/yorkshire_terrier_168.jpg', 'images/newfoundland_145.jpg', 'images/great_pyrenees_142.jpg', 'images/Siamese_209.jpg', 'images/Abyssinian_84.jpg', 'images/staffordshire_bull_terrier_97.jpg', 'images/scottish_terrier_194.jpg', 'images/saint_bernard_194.jpg', 'images/american_bulldog_87.jpg', 'images/staffordshire_bull_terrier_23.jpg', 'images/Persian_104.jpg', 'images/staffordshire_bull_terrier_67.jpg', 'images/chihuahua_172.jpg', 'images/Egyptian_Mau_54.jpg', 'images/american_bulldog_82.jpg', 'images/scottish_terrier_72.jpg', 'images/american_pit_bull_terrier_21.jpg', 'images/german_shorthaired_83.jpg', 'images/havanese_96.jpg', 'images/english_cocker_spaniel_15.jpg', 'images/Maine_Coon_29.jpg', 'images/german_shorthaired_65.jpg', 'images/shiba_inu_175.jpg', 'images/havanese_84.jpg', 'images/miniature_pinscher_17.jpg', 'images/wheaten_terrier_17.jpg', 'images/keeshond_21.jpg', 'images/Bombay_33.jpg', 'images/Abyssinian_166.jpg', 'images/wheaten_terrier_22.jpg', 'images/english_cocker_spaniel_27.jpg', 'images/miniature_pinscher_19.jpg', 'images/Ragdoll_175.jpg', 'images/keeshond_115.jpg', 'images/english_cocker_spaniel_84.jpg', 'images/great_pyrenees_43.jpg', 'images/wheaten_terrier_21.jpg', 'images/american_bulldog_6.jpg', 'images/samoyed_46.jpg', 'images/Bombay_13.jpg', 'images/Bombay_98.jpg', 'images/wheaten_terrier_28.jpg', 'images/beagle_22.jpg', 'images/boxer_150.jpg', 'images/american_bulldog_80.jpg', 'images/scottish_terrier_121.jpg', 'images/saint_bernard_99.jpg', 'images/english_cocker_spaniel_148.jpg', 'images/miniature_pinscher_84.jpg', 'images/Sphynx_169.jpg', 'images/newfoundland_150.jpg', 'images/Persian_152.jpg', 'images/havanese_196.jpg', 'images/Abyssinian_29.jpg', 'images/Abyssinian_95.jpg', 'images/scottish_terrier_169.jpg', 'images/miniature_pinscher_165.jpg', 'images/Bengal_46.jpg', 'images/newfoundland_12.jpg', 'images/Ragdoll_155.jpg', 'images/havanese_40.jpg', 'images/Persian_26.jpg', 'images/Bengal_15.jpg', 'images/american_bulldog_125.jpg', 'images/boxer_106.jpg', 'images/english_cocker_spaniel_127.jpg', 'images/pomeranian_118.jpg', 'images/yorkshire_terrier_59.jpg', 'images/Egyptian_Mau_162.jpg', 'images/Sphynx_105.jpg', 'images/Bombay_47.jpg', 'images/British_Shorthair_25.jpg', 'images/miniature_pinscher_141.jpg', 'images/havanese_127.jpg', 'images/german_shorthaired_142.jpg', 'images/Maine_Coon_142.jpg', 'images/Birman_51.jpg', 'images/havanese_166.jpg', 'images/Maine_Coon_32.jpg', 'images/american_pit_bull_terrier_130.jpg', 'images/basset_hound_107.jpg', 'images/Sphynx_72.jpg', 'images/staffordshire_bull_terrier_96.jpg', 'images/english_setter_39.jpg', 'images/Abyssinian_65.jpg', 'images/keeshond_141.jpg', 'images/english_setter_126.jpg', 'images/chihuahua_69.jpg', 'images/newfoundland_161.jpg', 'images/staffordshire_bull_terrier_45.jpg', 'images/yorkshire_terrier_78.jpg', 'images/boxer_114.jpg', 'images/Ragdoll_139.jpg', 'images/Russian_Blue_166.jpg', 'images/Bengal_187.jpg', 'images/Siamese_147.jpg', 'images/saint_bernard_48.jpg', 'images/wheaten_terrier_115.jpg', 'images/pug_197.jpg', 'images/chihuahua_150.jpg', 'images/yorkshire_terrier_132.jpg', 'images/British_Shorthair_265.jpg', 'images/american_bulldog_130.jpg', 'images/american_pit_bull_terrier_58.jpg', 'images/keeshond_8.jpg', 'images/staffordshire_bull_terrier_5.jpg', 'images/Ragdoll_112.jpg', 'images/great_pyrenees_33.jpg', 'images/shiba_inu_63.jpg', 'images/Ragdoll_81.jpg', 'images/great_pyrenees_37.jpg', 'images/english_setter_159.jpg', 'images/Persian_186.jpg', 'images/english_setter_139.jpg', 'images/keeshond_20.jpg', 'images/pomeranian_6.jpg', 'images/keeshond_73.jpg', 'images/British_Shorthair_149.jpg', 'images/Abyssinian_135.jpg', 'images/Bombay_202.jpg', 'images/american_pit_bull_terrier_120.jpg', 'images/Ragdoll_208.jpg', 'images/havanese_36.jpg', 'images/keeshond_22.jpg', 'images/wheaten_terrier_67.jpg', 'images/english_cocker_spaniel_158.jpg', 'images/pug_130.jpg', 'images/British_Shorthair_270.jpg', 'images/basset_hound_83.jpg', 'images/boxer_30.jpg', 'images/american_bulldog_184.jpg', 'images/pomeranian_42.jpg', 'images/havanese_171.jpg', 'images/Abyssinian_226.jpg', 'images/Bengal_4.jpg', 'images/Bengal_100.jpg', 'images/wheaten_terrier_23.jpg', 'images/staffordshire_bull_terrier_198.jpg', 'images/pomeranian_10.jpg', 'images/english_setter_55.jpg', 'images/Birman_201.jpg', 'images/miniature_pinscher_82.jpg', 'images/British_Shorthair_96.jpg', 'images/shiba_inu_72.jpg', 'images/leonberger_176.jpg', 'images/staffordshire_bull_terrier_89.jpg', 'images/Maine_Coon_205.jpg', 'images/pug_13.jpg', 'images/saint_bernard_54.jpg', 'images/pomeranian_189.jpg', 'images/staffordshire_bull_terrier_188.jpg', 'images/Persian_37.jpg', 'images/english_setter_38.jpg', 'images/Russian_Blue_101.jpg', 'images/Sphynx_128.jpg', 'images/shiba_inu_202.jpg', 'images/beagle_146.jpg', 'images/scottish_terrier_170.jpg', 'images/great_pyrenees_154.jpg', 'images/american_bulldog_43.jpg', 'images/wheaten_terrier_198.jpg', 'images/yorkshire_terrier_97.jpg', 'images/wheaten_terrier_103.jpg', 'images/yorkshire_terrier_178.jpg', 'images/american_pit_bull_terrier_124.jpg', 'images/staffordshire_bull_terrier_124.jpg', 'images/yorkshire_terrier_148.jpg', 'images/beagle_173.jpg', 'images/japanese_chin_135.jpg', 'images/miniature_pinscher_187.jpg', 'images/Ragdoll_150.jpg', 'images/pomeranian_158.jpg', 'images/great_pyrenees_165.jpg', 'images/beagle_157.jpg', 'images/wheaten_terrier_94.jpg', 'images/Ragdoll_72.jpg', 'images/British_Shorthair_174.jpg', 'images/Persian_262.jpg', 'images/yorkshire_terrier_176.jpg', 'images/english_cocker_spaniel_193.jpg', 'images/japanese_chin_129.jpg', 'images/Maine_Coon_159.jpg', 'images/Russian_Blue_191.jpg', 'images/leonberger_125.jpg', 'images/Birman_176.jpg', 'images/basset_hound_128.jpg', 'images/Egyptian_Mau_223.jpg', 'images/Bengal_84.jpg', 'images/saint_bernard_102.jpg', 'images/japanese_chin_138.jpg', 'images/pug_97.jpg', 'images/beagle_169.jpg', 'images/staffordshire_bull_terrier_15.jpg', 'images/Egyptian_Mau_9.jpg', 'images/scottish_terrier_94.jpg', 'images/english_setter_135.jpg', 'images/boxer_170.jpg', 'images/shiba_inu_136.jpg', 'images/basset_hound_51.jpg', 'images/Persian_11.jpg', 'images/Persian_41.jpg', 'images/staffordshire_bull_terrier_83.jpg', 'images/Ragdoll_133.jpg', 'images/scottish_terrier_162.jpg', 'images/Bengal_140.jpg', 'images/British_Shorthair_33.jpg', 'images/miniature_pinscher_33.jpg', 'images/samoyed_61.jpg', 'images/wheaten_terrier_61.jpg', 'images/keeshond_26.jpg', 'images/basset_hound_100.jpg', 'images/samoyed_104.jpg', 'images/boxer_144.jpg', 'images/samoyed_50.jpg', 'images/British_Shorthair_172.jpg', 'images/english_setter_86.jpg', 'images/Abyssinian_212.jpg', 'images/yorkshire_terrier_164.jpg', 'images/great_pyrenees_40.jpg', 'images/american_pit_bull_terrier_28.jpg', 'images/British_Shorthair_113.jpg', 'images/Siamese_157.jpg', 'images/boxer_181.jpg', 'images/Persian_265.jpg', 'images/Egyptian_Mau_103.jpg', 'images/american_pit_bull_terrier_151.jpg', 'images/keeshond_56.jpg', 'images/Persian_206.jpg', 'images/beagle_61.jpg', 'images/Maine_Coon_176.jpg', 'images/german_shorthaired_17.jpg', 'images/Persian_52.jpg', 'images/newfoundland_176.jpg', 'images/Egyptian_Mau_204.jpg', 'images/saint_bernard_145.jpg', 'images/miniature_pinscher_23.jpg', 'images/samoyed_27.jpg', 'images/wheaten_terrier_153.jpg', 'images/Sphynx_40.jpg', 'images/scottish_terrier_84.jpg', 'images/english_setter_21.jpg', 'images/Persian_77.jpg', 'images/chihuahua_197.jpg', 'images/miniature_pinscher_96.jpg', 'images/chihuahua_98.jpg', 'images/Birman_20.jpg', 'images/beagle_174.jpg', 'images/Ragdoll_73.jpg', 'images/Siamese_168.jpg', 'images/basset_hound_188.jpg', 'images/yorkshire_terrier_108.jpg', 'images/pug_11.jpg', 'images/newfoundland_75.jpg', 'images/keeshond_104.jpg', 'images/Siamese_249.jpg', 'images/german_shorthaired_69.jpg', 'images/american_pit_bull_terrier_70.jpg', 'images/Maine_Coon_99.jpg', 'images/havanese_134.jpg', 'images/staffordshire_bull_terrier_165.jpg', 'images/beagle_15.jpg', 'images/Birman_141.jpg', 'images/boxer_24.jpg', 'images/american_bulldog_124.jpg', 'images/scottish_terrier_139.jpg', 'images/american_pit_bull_terrier_179.jpg', 'images/english_setter_34.jpg', 'images/Siamese_59.jpg', 'images/Bombay_2.jpg', 'images/Maine_Coon_78.jpg', 'images/japanese_chin_142.jpg', 'images/Ragdoll_90.jpg', 'images/Birman_89.jpg', 'images/english_setter_133.jpg', 'images/japanese_chin_172.jpg', 'images/beagle_19.jpg', 'images/Sphynx_183.jpg', 'images/german_shorthaired_135.jpg', 'images/shiba_inu_190.jpg', 'images/english_setter_42.jpg', 'images/British_Shorthair_15.jpg', 'images/samoyed_15.jpg', 'images/english_cocker_spaniel_43.jpg', 'images/english_setter_57.jpg', 'images/pug_176.jpg', 'images/Birman_145.jpg', 'images/american_pit_bull_terrier_27.jpg', 'images/Bombay_84.jpg', 'images/Abyssinian_37.jpg', 'images/Russian_Blue_160.jpg', 'images/Bengal_133.jpg', 'images/pug_93.jpg', 'images/staffordshire_bull_terrier_81.jpg', 'images/Maine_Coon_10.jpg', 'images/newfoundland_200.jpg', 'images/german_shorthaired_194.jpg', 'images/British_Shorthair_37.jpg', 'images/pug_75.jpg', 'images/wheaten_terrier_51.jpg', 'images/yorkshire_terrier_60.jpg', 'images/Russian_Blue_44.jpg', 'images/pug_36.jpg', 'images/shiba_inu_53.jpg', 'images/great_pyrenees_177.jpg', 'images/newfoundland_166.jpg', 'images/japanese_chin_196.jpg', 'images/german_shorthaired_139.jpg', 'images/Egyptian_Mau_197.jpg', 'images/Ragdoll_43.jpg', 'images/beagle_189.jpg', 'images/great_pyrenees_132.jpg', 'images/saint_bernard_60.jpg', 'images/great_pyrenees_190.jpg', 'images/Ragdoll_93.jpg', 'images/Abyssinian_5.jpg', 'images/Egyptian_Mau_44.jpg', 'images/staffordshire_bull_terrier_202.jpg', 'images/samoyed_26.jpg', 'images/german_shorthaired_22.jpg', 'images/samoyed_3.jpg', 'images/beagle_85.jpg', 'images/saint_bernard_45.jpg', 'images/Egyptian_Mau_79.jpg', 'images/basset_hound_35.jpg', 'images/beagle_9.jpg', 'images/keeshond_137.jpg', 'images/pug_131.jpg', 'images/newfoundland_51.jpg', 'images/english_cocker_spaniel_198.jpg', 'images/pug_91.jpg', 'images/japanese_chin_105.jpg', 'images/Russian_Blue_131.jpg', 'images/wheaten_terrier_200.jpg', 'images/Persian_192.jpg', 'images/boxer_103.jpg', 'images/german_shorthaired_123.jpg', 'images/Abyssinian_85.jpg', 'images/Russian_Blue_116.jpg', 'images/newfoundland_101.jpg', 'images/Persian_255.jpg', 'images/Abyssinian_127.jpg', 'images/miniature_pinscher_153.jpg', 'images/basset_hound_19.jpg', 'images/Maine_Coon_1.jpg', 'images/leonberger_56.jpg', 'images/japanese_chin_188.jpg', 'images/Maine_Coon_69.jpg', 'images/Bombay_26.jpg', 'images/wheaten_terrier_118.jpg', 'images/Persian_95.jpg', 'images/pug_146.jpg', 'images/Abyssinian_79.jpg', 'images/beagle_145.jpg', 'images/Sphynx_90.jpg', 'images/scottish_terrier_172.jpg', 'images/german_shorthaired_132.jpg', 'images/newfoundland_60.jpg', 'images/wheaten_terrier_195.jpg', 'images/Maine_Coon_79.jpg', 'images/keeshond_36.jpg', 'images/english_setter_81.jpg', 'images/keeshond_2.jpg', 'images/Persian_132.jpg', 'images/english_setter_100.jpg', 'images/wheaten_terrier_179.jpg', 'images/Siamese_139.jpg', 'images/Russian_Blue_179.jpg', 'images/saint_bernard_159.jpg', 'images/scottish_terrier_134.jpg', 'images/english_cocker_spaniel_57.jpg', 'images/chihuahua_8.jpg', 'images/Maine_Coon_41.jpg', 'images/scottish_terrier_171.jpg', 'images/miniature_pinscher_40.jpg', 'images/British_Shorthair_209.jpg', 'images/pug_153.jpg', 'images/shiba_inu_130.jpg', 'images/Siamese_58.jpg', 'images/samoyed_79.jpg', 'images/Abyssinian_220.jpg', 'images/pomeranian_77.jpg', 'images/chihuahua_116.jpg', 'images/pomeranian_50.jpg', 'images/pomeranian_52.jpg', 'images/Maine_Coon_38.jpg', 'images/havanese_130.jpg', 'images/yorkshire_terrier_161.jpg', 'images/Bombay_88.jpg', 'images/Russian_Blue_122.jpg', 'images/great_pyrenees_6.jpg', 'images/Sphynx_89.jpg', 'images/Siamese_94.jpg', 'images/yorkshire_terrier_52.jpg', 'images/beagle_74.jpg', 'images/leonberger_129.jpg', 'images/Abyssinian_3.jpg', 'images/chihuahua_4.jpg', 'images/British_Shorthair_199.jpg', 'images/havanese_126.jpg', 'images/newfoundland_63.jpg', 'images/Sphynx_58.jpg', 'images/shiba_inu_9.jpg', 'images/english_cocker_spaniel_8.jpg', 'images/chihuahua_40.jpg', 'images/boxer_113.jpg', 'images/american_pit_bull_terrier_16.jpg', 'images/wheaten_terrier_93.jpg', 'images/boxer_142.jpg', 'images/Persian_150.jpg', 'images/american_pit_bull_terrier_61.jpg', 'images/english_setter_85.jpg', 'images/saint_bernard_49.jpg', 'images/american_pit_bull_terrier_68.jpg', 'images/boxer_36.jpg', 'images/great_pyrenees_159.jpg', 'images/japanese_chin_33.jpg', 'images/english_setter_108.jpg', 'images/staffordshire_bull_terrier_163.jpg', 'images/wheaten_terrier_49.jpg', 'images/staffordshire_bull_terrier_11.jpg', 'images/american_pit_bull_terrier_143.jpg', 'images/basset_hound_10.jpg', 'images/beagle_36.jpg', 'images/german_shorthaired_29.jpg', 'images/pug_141.jpg', 'images/english_setter_198.jpg', 'images/beagle_80.jpg', 'images/Ragdoll_89.jpg', 'images/shiba_inu_13.jpg', 'images/american_bulldog_111.jpg', 'images/beagle_43.jpg', 'images/Persian_147.jpg', 'images/yorkshire_terrier_31.jpg', 'images/basset_hound_175.jpg', 'images/Ragdoll_35.jpg', 'images/newfoundland_130.jpg', 'images/staffordshire_bull_terrier_150.jpg', 'images/Russian_Blue_80.jpg', 'images/pomeranian_99.jpg', 'images/leonberger_57.jpg', 'images/leonberger_132.jpg', 'images/shiba_inu_129.jpg', 'images/samoyed_54.jpg', 'images/Egyptian_Mau_41.jpg', 'images/saint_bernard_37.jpg', 'images/Egyptian_Mau_29.jpg', 'images/shiba_inu_84.jpg', 'images/boxer_46.jpg', 'images/Persian_44.jpg', 'images/american_bulldog_38.jpg', 'images/Maine_Coon_93.jpg', 'images/saint_bernard_189.jpg', 'images/saint_bernard_39.jpg', 'images/japanese_chin_152.jpg', 'images/chihuahua_183.jpg', 'images/english_setter_44.jpg', 'images/german_shorthaired_108.jpg', 'images/leonberger_1.jpg', 'images/chihuahua_77.jpg', 'images/english_setter_5.jpg', 'images/Maine_Coon_3.jpg', 'images/japanese_chin_103.jpg', 'images/Bengal_23.jpg', 'images/keeshond_128.jpg', 'images/Russian_Blue_199.jpg', 'images/great_pyrenees_176.jpg', 'images/keeshond_98.jpg', 'images/yorkshire_terrier_56.jpg', 'images/shiba_inu_67.jpg', 'images/Sphynx_96.jpg', 'images/chihuahua_18.jpg', 'images/Sphynx_46.jpg', 'images/Siamese_149.jpg', 'images/samoyed_13.jpg', 'images/Bengal_136.jpg', 'images/leonberger_152.jpg', 'images/german_shorthaired_159.jpg', 'images/Abyssinian_111.jpg', 'images/german_shorthaired_30.jpg', 'images/havanese_141.jpg', 'images/Persian_158.jpg', 'images/american_bulldog_224.jpg', 'images/pug_103.jpg', 'images/boxer_22.jpg', 'images/British_Shorthair_137.jpg', 'images/leonberger_186.jpg', 'images/japanese_chin_77.jpg', 'images/Siamese_49.jpg', 'images/Siamese_232.jpg', 'images/Birman_168.jpg', 'images/basset_hound_181.jpg', 'images/leonberger_69.jpg', 'images/leonberger_190.jpg', 'images/scottish_terrier_116.jpg', 'images/wheaten_terrier_90.jpg', 'images/boxer_59.jpg', 'images/Egyptian_Mau_80.jpg', 'images/leonberger_146.jpg', 'images/boxer_121.jpg', 'images/wheaten_terrier_124.jpg', 'images/Persian_263.jpg', 'images/english_cocker_spaniel_134.jpg', 'images/beagle_114.jpg', 'images/Bombay_22.jpg', 'images/boxer_195.jpg', 'images/Persian_72.jpg', 'images/basset_hound_55.jpg', 'images/beagle_6.jpg', 'images/Ragdoll_145.jpg', 'images/wheaten_terrier_7.jpg', 'images/British_Shorthair_183.jpg', 'images/keeshond_161.jpg', 'images/scottish_terrier_34.jpg', 'images/american_pit_bull_terrier_147.jpg', 'images/Bombay_61.jpg', 'images/British_Shorthair_167.jpg', 'images/american_pit_bull_terrier_39.jpg', 'images/Sphynx_43.jpg', 'images/pomeranian_178.jpg', 'images/great_pyrenees_157.jpg', 'images/english_cocker_spaniel_160.jpg', 'images/pug_138.jpg', 'images/newfoundland_126.jpg', 'images/leonberger_80.jpg', 'images/english_cocker_spaniel_19.jpg', 'images/Bengal_159.jpg', 'images/staffordshire_bull_terrier_14.jpg', 'images/miniature_pinscher_26.jpg', 'images/beagle_37.jpg', 'images/keeshond_82.jpg', 'images/Persian_39.jpg', 'images/wheaten_terrier_55.jpg', 'images/Egyptian_Mau_185.jpg', 'images/Ragdoll_104.jpg', 'images/staffordshire_bull_terrier_102.jpg', 'images/Maine_Coon_132.jpg', 'images/chihuahua_14.jpg', 'images/great_pyrenees_170.jpg', 'images/beagle_200.jpg', 'images/english_setter_132.jpg', 'images/keeshond_108.jpg', 'images/shiba_inu_43.jpg', 'images/english_cocker_spaniel_114.jpg', 'images/english_setter_76.jpg', 'images/saint_bernard_180.jpg', 'images/american_pit_bull_terrier_63.jpg', 'images/Ragdoll_6.jpg', 'images/Egyptian_Mau_167.jpg', 'images/keeshond_61.jpg', 'images/saint_bernard_42.jpg', 'images/miniature_pinscher_188.jpg', 'images/english_cocker_spaniel_111.jpg', 'images/basset_hound_164.jpg', 'images/miniature_pinscher_87.jpg', 'images/Birman_162.jpg', 'images/great_pyrenees_87.jpg', 'images/samoyed_127.jpg', 'images/leonberger_101.jpg', 'images/British_Shorthair_277.jpg', 'images/miniature_pinscher_111.jpg', 'images/chihuahua_144.jpg', 'images/Persian_189.jpg', 'images/leonberger_73.jpg', 'images/miniature_pinscher_115.jpg', 'images/pomeranian_179.jpg', 'images/saint_bernard_92.jpg', 'images/Maine_Coon_186.jpg', 'images/shiba_inu_46.jpg', 'images/japanese_chin_7.jpg', 'images/Ragdoll_182.jpg', 'images/Egyptian_Mau_93.jpg', 'images/basset_hound_26.jpg', 'images/Bengal_183.jpg', 'images/chihuahua_96.jpg', 'images/newfoundland_146.jpg', 'images/Ragdoll_201.jpg', 'images/Birman_143.jpg', 'images/Bengal_53.jpg', 'images/Russian_Blue_186.jpg', 'images/english_setter_68.jpg', 'images/basset_hound_59.jpg', 'images/samoyed_178.jpg', 'images/miniature_pinscher_119.jpg', 'images/wheaten_terrier_169.jpg', 'images/Abyssinian_77.jpg', 'images/yorkshire_terrier_26.jpg', 'images/japanese_chin_112.jpg', 'images/english_cocker_spaniel_186.jpg', 'images/pug_80.jpg', 'images/wheaten_terrier_193.jpg', 'images/yorkshire_terrier_172.jpg', 'images/german_shorthaired_89.jpg', 'images/havanese_81.jpg', 'images/leonberger_44.jpg', 'images/japanese_chin_124.jpg', 'images/boxer_96.jpg', 'images/english_cocker_spaniel_154.jpg', 'images/leonberger_36.jpg', 'images/american_pit_bull_terrier_105.jpg', 'images/Bengal_45.jpg', 'images/pug_156.jpg', 'images/wheaten_terrier_95.jpg', 'images/pug_64.jpg', 'images/Siamese_165.jpg', 'images/leonberger_15.jpg', 'images/Egyptian_Mau_145.jpg', 'images/newfoundland_83.jpg', 'images/Sphynx_23.jpg', 'images/samoyed_101.jpg', 'images/staffordshire_bull_terrier_160.jpg', 'images/Egyptian_Mau_76.jpg', 'images/miniature_pinscher_9.jpg', 'images/Abyssinian_182.jpg', 'images/leonberger_113.jpg', 'images/Sphynx_200.jpg', 'images/american_bulldog_7.jpg', 'images/Sphynx_171.jpg', 'images/beagle_81.jpg', 'images/Bengal_36.jpg', 'images/havanese_146.jpg', 'images/Birman_127.jpg', 'images/British_Shorthair_82.jpg', 'images/leonberger_118.jpg', 'images/Maine_Coon_80.jpg', 'images/havanese_187.jpg', 'images/shiba_inu_23.jpg', 'images/wheaten_terrier_34.jpg', 'images/leonberger_48.jpg', 'images/Ragdoll_163.jpg', 'images/leonberger_92.jpg', 'images/staffordshire_bull_terrier_84.jpg', 'images/Sphynx_139.jpg', 'images/english_setter_35.jpg', 'images/Russian_Blue_236.jpg', 'images/boxer_147.jpg', 'images/Maine_Coon_136.jpg', 'images/american_pit_bull_terrier_188.jpg', 'images/american_bulldog_108.jpg', 'images/english_setter_115.jpg', 'images/samoyed_71.jpg', 'images/Birman_129.jpg', 'images/saint_bernard_150.jpg', 'images/japanese_chin_21.jpg', 'images/Egyptian_Mau_149.jpg', 'images/Abyssinian_6.jpg', 'images/Birman_163.jpg', 'images/havanese_178.jpg', 'images/Siamese_250.jpg', 'images/Bengal_175.jpg', 'images/newfoundland_57.jpg', 'images/Egyptian_Mau_123.jpg', 'images/shiba_inu_69.jpg', 'images/american_pit_bull_terrier_60.jpg', 'images/boxer_23.jpg', 'images/boxer_126.jpg', 'images/boxer_60.jpg', 'images/British_Shorthair_97.jpg', 'images/leonberger_13.jpg', 'images/pomeranian_1.jpg', 'images/staffordshire_bull_terrier_73.jpg', 'images/Bombay_25.jpg', 'images/Sphynx_167.jpg', 'images/leonberger_130.jpg', 'images/Birman_15.jpg', 'images/Russian_Blue_159.jpg', 'images/Bombay_72.jpg', 'images/Birman_22.jpg', 'images/newfoundland_41.jpg', 'images/wheaten_terrier_72.jpg', 'images/havanese_162.jpg', 'images/pug_35.jpg', 'images/keeshond_38.jpg', 'images/american_pit_bull_terrier_187.jpg', 'images/shiba_inu_134.jpg', 'images/Bombay_77.jpg', 'images/japanese_chin_61.jpg', 'images/american_bulldog_86.jpg', 'images/basset_hound_29.jpg', 'images/Sphynx_250.jpg', 'images/chihuahua_67.jpg', 'images/wheaten_terrier_159.jpg', 'images/pomeranian_113.jpg', 'images/great_pyrenees_196.jpg', 'images/keeshond_28.jpg', 'images/saint_bernard_101.jpg', 'images/Ragdoll_20.jpg', 'images/saint_bernard_20.jpg', 'images/staffordshire_bull_terrier_101.jpg', 'images/Persian_143.jpg', 'images/pomeranian_56.jpg', 'images/Bombay_16.jpg', 'images/Maine_Coon_27.jpg', 'images/great_pyrenees_81.jpg', 'images/Abyssinian_192.jpg', 'images/pug_48.jpg', 'images/pomeranian_4.jpg', 'images/Russian_Blue_18.jpg', 'images/yorkshire_terrier_71.jpg', 'images/wheaten_terrier_176.jpg', 'images/newfoundland_129.jpg', 'images/beagle_68.jpg', 'images/Russian_Blue_16.jpg', 'images/boxer_29.jpg', 'images/Birman_12.jpg', 'images/keeshond_150.jpg', 'images/Abyssinian_181.jpg', 'images/german_shorthaired_181.jpg', 'images/staffordshire_bull_terrier_192.jpg', 'images/keeshond_163.jpg', 'images/shiba_inu_204.jpg', 'images/american_bulldog_194.jpg', 'images/saint_bernard_84.jpg', 'images/wheaten_terrier_178.jpg', 'images/pug_54.jpg', 'images/american_pit_bull_terrier_8.jpg', 'images/chihuahua_190.jpg', 'images/pug_12.jpg', 'images/boxer_72.jpg', 'images/Persian_21.jpg', 'images/yorkshire_terrier_142.jpg', 'images/english_cocker_spaniel_124.jpg', 'images/pug_61.jpg', 'images/Sphynx_33.jpg', 'images/Maine_Coon_47.jpg', 'images/saint_bernard_168.jpg', 'images/Russian_Blue_36.jpg', 'images/Egyptian_Mau_59.jpg', 'images/german_shorthaired_48.jpg', 'images/saint_bernard_94.jpg', 'images/Sphynx_8.jpg', 'images/Bengal_178.jpg', 'images/Egyptian_Mau_148.jpg', 'images/beagle_48.jpg', 'images/Bengal_44.jpg', 'images/yorkshire_terrier_182.jpg', 'images/english_setter_167.jpg', 'images/pug_66.jpg', 'images/great_pyrenees_8.jpg', 'images/Ragdoll_33.jpg', 'images/chihuahua_194.jpg', 'images/keeshond_197.jpg', 'images/saint_bernard_167.jpg', 'images/Egyptian_Mau_124.jpg', 'images/beagle_33.jpg', 'images/pomeranian_180.jpg', 'images/pomeranian_183.jpg', 'images/scottish_terrier_54.jpg', 'images/pug_59.jpg', 'images/pug_121.jpg', 'images/basset_hound_3.jpg', 'images/Sphynx_194.jpg', 'images/great_pyrenees_99.jpg', 'images/great_pyrenees_121.jpg', 'images/beagle_165.jpg', 'images/Persian_8.jpg', 'images/Siamese_83.jpg', 'images/Birman_150.jpg', 'images/British_Shorthair_102.jpg', 'images/american_bulldog_182.jpg', 'images/pug_124.jpg', 'images/saint_bernard_171.jpg', 'images/Maine_Coon_34.jpg', 'images/British_Shorthair_63.jpg', 'images/american_bulldog_5.jpg', 'images/Russian_Blue_13.jpg', 'images/pug_23.jpg', 'images/Birman_39.jpg', 'images/Egyptian_Mau_28.jpg', 'images/pomeranian_119.jpg', 'images/Russian_Blue_157.jpg', 'images/samoyed_168.jpg', 'images/Siamese_247.jpg', 'images/english_cocker_spaniel_60.jpg', 'images/British_Shorthair_128.jpg', 'images/english_setter_49.jpg', 'images/japanese_chin_78.jpg', 'images/havanese_138.jpg', 'images/pug_162.jpg', 'images/keeshond_32.jpg', 'images/pomeranian_46.jpg', 'images/Ragdoll_36.jpg', 'images/american_bulldog_54.jpg', 'images/basset_hound_104.jpg', 'images/american_pit_bull_terrier_119.jpg', 'images/scottish_terrier_102.jpg', 'images/miniature_pinscher_155.jpg', 'images/basset_hound_81.jpg', 'images/shiba_inu_170.jpg', 'images/american_pit_bull_terrier_25.jpg', 'images/Egyptian_Mau_49.jpg', 'images/beagle_101.jpg', 'images/newfoundland_31.jpg', 'images/Birman_14.jpg', 'images/Russian_Blue_94.jpg', 'images/samoyed_187.jpg', 'images/Sphynx_181.jpg', 'images/yorkshire_terrier_74.jpg', 'images/havanese_190.jpg', 'images/Russian_Blue_67.jpg', 'images/Siamese_6.jpg', 'images/saint_bernard_141.jpg', 'images/Persian_179.jpg', 'images/miniature_pinscher_190.jpg', 'images/Ragdoll_87.jpg', 'images/British_Shorthair_230.jpg', 'images/Egyptian_Mau_106.jpg', 'images/samoyed_141.jpg', 'images/american_pit_bull_terrier_41.jpg', 'images/american_pit_bull_terrier_132.jpg', 'images/miniature_pinscher_56.jpg', 'images/leonberger_26.jpg', 'images/Persian_197.jpg', 'images/Bombay_120.jpg', 'images/newfoundland_36.jpg', 'images/Maine_Coon_39.jpg', 'images/wheaten_terrier_98.jpg', 'images/wheaten_terrier_182.jpg', 'images/german_shorthaired_15.jpg', 'images/german_shorthaired_193.jpg', 'images/leonberger_196.jpg', 'images/american_pit_bull_terrier_96.jpg', 'images/Birman_107.jpg', 'images/american_bulldog_23.jpg', 'images/english_cocker_spaniel_20.jpg', 'images/staffordshire_bull_terrier_79.jpg', 'images/havanese_90.jpg', 'images/japanese_chin_139.jpg', 'images/British_Shorthair_107.jpg', 'images/basset_hound_151.jpg', 'images/keeshond_9.jpg', 'images/shiba_inu_42.jpg', 'images/scottish_terrier_48.jpg', 'images/leonberger_66.jpg', 'images/Russian_Blue_19.jpg', 'images/english_cocker_spaniel_196.jpg', 'images/scottish_terrier_142.jpg', 'images/Sphynx_116.jpg', 'images/pug_191.jpg', 'images/miniature_pinscher_106.jpg', 'images/saint_bernard_14.jpg', 'images/samoyed_58.jpg', 'images/newfoundland_95.jpg', 'images/chihuahua_132.jpg', 'images/scottish_terrier_181.jpg', 'images/german_shorthaired_13.jpg', 'images/basset_hound_42.jpg', 'images/basset_hound_184.jpg', 'images/British_Shorthair_166.jpg', 'images/saint_bernard_104.jpg', 'images/yorkshire_terrier_33.jpg', 'images/german_shorthaired_2.jpg', 'images/Abyssinian_117.jpg', 'images/Abyssinian_73.jpg', 'images/shiba_inu_34.jpg', 'images/german_shorthaired_178.jpg', 'images/shiba_inu_160.jpg', 'images/english_setter_141.jpg', 'images/keeshond_149.jpg', 'images/pug_142.jpg', 'images/boxer_51.jpg', 'images/shiba_inu_150.jpg', 'images/newfoundland_190.jpg', 'images/boxer_10.jpg', 'images/Bombay_136.jpg', 'images/american_pit_bull_terrier_78.jpg', 'images/beagle_147.jpg', 'images/Ragdoll_119.jpg', 'images/Siamese_92.jpg', 'images/american_bulldog_187.jpg', 'images/beagle_128.jpg', 'images/Bengal_58.jpg', 'images/leonberger_144.jpg', 'images/Egyptian_Mau_88.jpg', 'images/Birman_13.jpg', 'images/samoyed_56.jpg', 'images/Persian_170.jpg', 'images/yorkshire_terrier_183.jpg', 'images/havanese_66.jpg', 'images/american_bulldog_143.jpg', 'images/yorkshire_terrier_76.jpg', 'images/keeshond_78.jpg', 'images/Persian_94.jpg', 'images/Abyssinian_164.jpg', 'images/american_pit_bull_terrier_50.jpg', 'images/Ragdoll_75.jpg', 'images/havanese_85.jpg', 'images/leonberger_106.jpg', 'images/leonberger_127.jpg', 'images/Ragdoll_172.jpg', 'images/japanese_chin_157.jpg', 'images/great_pyrenees_110.jpg', 'images/Bengal_179.jpg', 'images/pomeranian_75.jpg', 'images/Bombay_32.jpg', 'images/Sphynx_80.jpg', 'images/saint_bernard_53.jpg', 'images/beagle_115.jpg', 'images/great_pyrenees_117.jpg', 'images/great_pyrenees_35.jpg', 'images/japanese_chin_9.jpg', 'images/english_setter_147.jpg', 'images/pug_194.jpg', 'images/staffordshire_bull_terrier_167.jpg', 'images/Ragdoll_83.jpg', 'images/newfoundland_17.jpg', 'images/shiba_inu_4.jpg', 'images/pomeranian_82.jpg', 'images/Sphynx_110.jpg', 'images/British_Shorthair_169.jpg', 'images/japanese_chin_62.jpg', 'images/scottish_terrier_61.jpg', 'images/german_shorthaired_131.jpg', 'images/Bengal_93.jpg', 'images/saint_bernard_113.jpg', 'images/Sphynx_151.jpg', 'images/Maine_Coon_245.jpg', 'images/Bombay_89.jpg', 'images/Maine_Coon_112.jpg', 'images/pug_110.jpg', 'images/german_shorthaired_169.jpg', 'images/english_cocker_spaniel_120.jpg', 'images/Siamese_19.jpg', 'images/Siamese_22.jpg', 'images/newfoundland_100.jpg', 'images/Siamese_237.jpg', 'images/saint_bernard_154.jpg', 'images/miniature_pinscher_77.jpg', 'images/Egyptian_Mau_146.jpg', 'images/saint_bernard_152.jpg', 'images/Birman_157.jpg', 'images/english_cocker_spaniel_4.jpg', 'images/german_shorthaired_55.jpg', 'images/boxer_151.jpg', 'images/japanese_chin_72.jpg', 'images/samoyed_106.jpg', 'images/beagle_4.jpg', 'images/Persian_117.jpg', 'images/miniature_pinscher_36.jpg', 'images/yorkshire_terrier_32.jpg', 'images/miniature_pinscher_30.jpg', 'images/japanese_chin_31.jpg', 'images/japanese_chin_52.jpg', 'images/Maine_Coon_100.jpg', 'images/pug_150.jpg', 'images/great_pyrenees_2.jpg', 'images/japanese_chin_66.jpg', 'images/pug_39.jpg', 'images/english_cocker_spaniel_113.jpg', 'images/Persian_133.jpg', 'images/newfoundland_24.jpg', 'images/Sphynx_95.jpg', 'images/pug_53.jpg', 'images/Ragdoll_204.jpg', 'images/shiba_inu_68.jpg', 'images/german_shorthaired_99.jpg', 'images/Bengal_170.jpg', 'images/miniature_pinscher_43.jpg', 'images/Bombay_57.jpg', 'images/keeshond_113.jpg', 'images/yorkshire_terrier_141.jpg', 'images/Maine_Coon_219.jpg', 'images/japanese_chin_128.jpg', 'images/american_bulldog_32.jpg', 'images/Siamese_111.jpg', 'images/leonberger_47.jpg', 'images/Bengal_106.jpg', 'images/beagle_63.jpg', 'images/english_setter_74.jpg', 'images/leonberger_35.jpg', 'images/shiba_inu_111.jpg', 'images/Russian_Blue_21.jpg', 'images/Maine_Coon_5.jpg', 'images/pomeranian_64.jpg', 'images/japanese_chin_200.jpg', 'images/samoyed_21.jpg', 'images/Birman_38.jpg', 'images/scottish_terrier_175.jpg', 'images/yorkshire_terrier_146.jpg', 'images/wheaten_terrier_189.jpg', 'images/pug_132.jpg', 'images/saint_bernard_15.jpg', 'images/samoyed_112.jpg', 'images/Siamese_216.jpg', 'images/japanese_chin_193.jpg', 'images/shiba_inu_208.jpg', 'images/boxer_97.jpg', 'images/havanese_18.jpg', 'images/Russian_Blue_139.jpg', 'images/Sphynx_238.jpg', 'images/miniature_pinscher_72.jpg', 'images/British_Shorthair_103.jpg', 'images/miniature_pinscher_2.jpg', 'images/havanese_156.jpg', 'images/scottish_terrier_165.jpg', 'images/wheaten_terrier_171.jpg', 'images/British_Shorthair_130.jpg', 'images/Egyptian_Mau_125.jpg', 'images/yorkshire_terrier_64.jpg', 'images/great_pyrenees_108.jpg', 'images/leonberger_128.jpg', 'images/Ragdoll_210.jpg', 'images/basset_hound_91.jpg', 'images/shiba_inu_131.jpg', 'images/Abyssinian_92.jpg', 'images/Egyptian_Mau_8.jpg', 'images/great_pyrenees_56.jpg', 'images/basset_hound_163.jpg', 'images/shiba_inu_172.jpg', 'images/leonberger_22.jpg', 'images/american_pit_bull_terrier_56.jpg', 'images/Sphynx_73.jpg', 'images/chihuahua_171.jpg', 'images/yorkshire_terrier_186.jpg', 'images/Sphynx_12.jpg', 'images/British_Shorthair_136.jpg', 'images/german_shorthaired_92.jpg', 'images/scottish_terrier_195.jpg', 'images/leonberger_83.jpg', 'images/leonberger_120.jpg', 'images/english_cocker_spaniel_141.jpg', 'images/japanese_chin_136.jpg', 'images/Egyptian_Mau_19.jpg', 'images/pomeranian_137.jpg', 'images/Bengal_127.jpg', 'images/yorkshire_terrier_77.jpg', 'images/Birman_95.jpg', 'images/havanese_170.jpg', 'images/scottish_terrier_14.jpg', 'images/miniature_pinscher_169.jpg', 'images/Siamese_41.jpg', 'images/samoyed_181.jpg', 'images/newfoundland_50.jpg', 'images/beagle_54.jpg', 'images/american_pit_bull_terrier_118.jpg', 'images/Ragdoll_227.jpg', 'images/pomeranian_126.jpg', 'images/scottish_terrier_13.jpg', 'images/saint_bernard_93.jpg', 'images/Maine_Coon_262.jpg', 'images/Sphynx_127.jpg', 'images/Siamese_170.jpg', 'images/Bombay_31.jpg', 'images/english_cocker_spaniel_91.jpg', 'images/newfoundland_197.jpg', 'images/american_bulldog_199.jpg', 'images/yorkshire_terrier_4.jpg', 'images/japanese_chin_68.jpg', 'images/British_Shorthair_198.jpg', 'images/staffordshire_bull_terrier_38.jpg', 'images/Maine_Coon_196.jpg', 'images/english_setter_91.jpg', 'images/english_cocker_spaniel_199.jpg', 'images/Siamese_206.jpg', 'images/Ragdoll_192.jpg', 'images/havanese_89.jpg', 'images/newfoundland_22.jpg', 'images/chihuahua_1.jpg', 'images/american_pit_bull_terrier_17.jpg', 'images/Persian_102.jpg', 'images/saint_bernard_181.jpg', 'images/shiba_inu_212.jpg', 'images/boxer_62.jpg', 'images/staffordshire_bull_terrier_57.jpg', 'images/japanese_chin_87.jpg', 'images/miniature_pinscher_83.jpg', 'images/pomeranian_121.jpg', 'images/Persian_84.jpg', 'images/shiba_inu_32.jpg', 'images/Birman_31.jpg', 'images/keeshond_53.jpg', 'images/Bombay_29.jpg', 'images/pomeranian_102.jpg', 'images/american_bulldog_15.jpg', 'images/newfoundland_38.jpg', 'images/english_cocker_spaniel_200.jpg', 'images/scottish_terrier_93.jpg', 'images/english_cocker_spaniel_55.jpg', 'images/wheaten_terrier_127.jpg', 'images/yorkshire_terrier_169.jpg', 'images/staffordshire_bull_terrier_33.jpg', 'images/Siamese_172.jpg', 'images/samoyed_199.jpg', 'images/Russian_Blue_146.jpg', 'images/saint_bernard_76.jpg', 'images/Abyssinian_90.jpg', 'images/scottish_terrier_10.jpg', 'images/Birman_136.jpg', 'images/beagle_151.jpg', 'images/keeshond_54.jpg', 'images/Russian_Blue_173.jpg', 'images/english_cocker_spaniel_147.jpg', 'images/beagle_123.jpg', 'images/scottish_terrier_146.jpg', 'images/Bombay_70.jpg', 'images/wheaten_terrier_144.jpg', 'images/Egyptian_Mau_138.jpg', 'images/Birman_133.jpg', 'images/wheaten_terrier_74.jpg', 'images/Birman_77.jpg', 'images/keeshond_148.jpg', 'images/english_cocker_spaniel_50.jpg', 'images/american_bulldog_192.jpg', 'images/boxer_178.jpg', 'images/basset_hound_169.jpg', 'images/Siamese_37.jpg', 'images/Sphynx_150.jpg', 'images/beagle_102.jpg', 'images/Persian_16.jpg', 'images/Maine_Coon_98.jpg', 'images/Abyssinian_106.jpg', 'images/miniature_pinscher_129.jpg', 'images/newfoundland_135.jpg', 'images/saint_bernard_160.jpg', 'images/Russian_Blue_154.jpg', 'images/scottish_terrier_173.jpg', 'images/beagle_77.jpg', 'images/Sphynx_20.jpg', 'images/samoyed_111.jpg', 'images/Russian_Blue_161.jpg', 'images/yorkshire_terrier_102.jpg', 'images/scottish_terrier_47.jpg', 'images/scottish_terrier_41.jpg', 'images/pomeranian_51.jpg', 'images/great_pyrenees_199.jpg', 'images/beagle_105.jpg', 'images/Sphynx_211.jpg', 'images/Siamese_189.jpg', 'images/Maine_Coon_150.jpg', 'images/leonberger_198.jpg', 'images/Abyssinian_1.jpg', 'images/leonberger_25.jpg', 'images/pomeranian_124.jpg', 'images/Abyssinian_48.jpg', 'images/havanese_49.jpg', 'images/english_cocker_spaniel_181.jpg', 'images/saint_bernard_142.jpg', 'images/Abyssinian_167.jpg', 'images/leonberger_61.jpg', 'images/Birman_177.jpg', 'images/pomeranian_182.jpg', 'images/Russian_Blue_130.jpg', 'images/shiba_inu_145.jpg', 'images/newfoundland_117.jpg', 'images/Russian_Blue_135.jpg', 'images/Sphynx_39.jpg', 'images/pomeranian_138.jpg', 'images/american_pit_bull_terrier_64.jpg', 'images/pug_189.jpg', 'images/yorkshire_terrier_144.jpg', 'images/leonberger_76.jpg', 'images/Persian_49.jpg', 'images/havanese_24.jpg', 'images/yorkshire_terrier_98.jpg', 'images/Siamese_183.jpg', 'images/Bengal_104.jpg', 'images/wheaten_terrier_52.jpg', 'images/Maine_Coon_51.jpg', 'images/British_Shorthair_87.jpg', 'images/miniature_pinscher_18.jpg', 'images/pug_49.jpg', 'images/chihuahua_114.jpg', 'images/scottish_terrier_183.jpg', 'images/leonberger_34.jpg', 'images/Russian_Blue_237.jpg', 'images/chihuahua_119.jpg', 'images/great_pyrenees_31.jpg', 'images/Abyssinian_141.jpg', 'images/newfoundland_132.jpg', 'images/great_pyrenees_13.jpg', 'images/pomeranian_24.jpg', 'images/Persian_75.jpg', 'images/Persian_116.jpg', 'images/samoyed_92.jpg', 'images/samoyed_105.jpg', 'images/samoyed_44.jpg', 'images/newfoundland_19.jpg', 'images/havanese_147.jpg', 'images/Siamese_257.jpg', 'images/Maine_Coon_83.jpg', 'images/British_Shorthair_267.jpg', 'images/Sphynx_233.jpg', 'images/english_setter_174.jpg', 'images/german_shorthaired_197.jpg', 'images/english_setter_26.jpg', 'images/Maine_Coon_2.jpg', 'images/keeshond_51.jpg', 'images/english_setter_163.jpg', 'images/chihuahua_187.jpg', 'images/yorkshire_terrier_7.jpg', 'images/Ragdoll_186.jpg', 'images/havanese_37.jpg', 'images/samoyed_39.jpg', 'images/Russian_Blue_8.jpg', 'images/great_pyrenees_97.jpg', 'images/pug_5.jpg', 'images/shiba_inu_56.jpg', 'images/keeshond_30.jpg', 'images/Bombay_46.jpg', 'images/wheaten_terrier_156.jpg', 'images/Sphynx_248.jpg', 'images/samoyed_164.jpg', 'images/great_pyrenees_192.jpg', 'images/chihuahua_200.jpg', 'images/Birman_120.jpg', 'images/Bombay_15.jpg', 'images/Bengal_135.jpg', 'images/yorkshire_terrier_16.jpg', 'images/german_shorthaired_110.jpg', 'images/chihuahua_52.jpg', 'images/Ragdoll_263.jpg', 'images/Russian_Blue_59.jpg', 'images/japanese_chin_185.jpg', 'images/english_setter_93.jpg', 'images/basset_hound_12.jpg', 'images/leonberger_160.jpg', 'images/Ragdoll_142.jpg', 'images/havanese_200.jpg', 'images/pomeranian_67.jpg', 'images/newfoundland_15.jpg', 'images/german_shorthaired_34.jpg', 'images/Bengal_81.jpg', 'images/havanese_180.jpg', 'images/shiba_inu_155.jpg', 'images/boxer_133.jpg', 'images/german_shorthaired_43.jpg', 'images/Bombay_194.jpg', 'images/miniature_pinscher_177.jpg', 'images/scottish_terrier_3.jpg', 'images/shiba_inu_135.jpg', 'images/english_cocker_spaniel_96.jpg', 'images/keeshond_31.jpg', 'images/Ragdoll_42.jpg', 'images/Maine_Coon_191.jpg', 'images/chihuahua_57.jpg', 'images/Egyptian_Mau_90.jpg', 'images/keeshond_49.jpg', 'images/great_pyrenees_174.jpg', 'images/Birman_106.jpg', 'images/pug_14.jpg', 'images/yorkshire_terrier_48.jpg', 'images/basset_hound_182.jpg', 'images/Maine_Coon_110.jpg', 'images/chihuahua_177.jpg', 'images/British_Shorthair_44.jpg', 'images/Egyptian_Mau_144.jpg', 'images/beagle_14.jpg', 'images/saint_bernard_70.jpg', 'images/miniature_pinscher_75.jpg', 'images/Bengal_70.jpg', 'images/Bombay_108.jpg', 'images/Siamese_129.jpg', 'images/havanese_86.jpg', 'images/Birman_146.jpg', 'images/Bengal_67.jpg', 'images/staffordshire_bull_terrier_126.jpg', 'images/Abyssinian_109.jpg', 'images/British_Shorthair_58.jpg', 'images/Maine_Coon_50.jpg', 'images/samoyed_84.jpg', 'images/boxer_80.jpg', 'images/wheaten_terrier_123.jpg', 'images/Sphynx_152.jpg', 'images/Abyssinian_63.jpg', 'images/wheaten_terrier_1.jpg', 'images/wheaten_terrier_190.jpg', 'images/Ragdoll_180.jpg', 'images/Persian_171.jpg', 'images/miniature_pinscher_185.jpg', 'images/english_setter_89.jpg', 'images/yorkshire_terrier_100.jpg', 'images/British_Shorthair_117.jpg', 'images/scottish_terrier_45.jpg', 'images/pomeranian_95.jpg', 'images/Siamese_145.jpg', 'images/Birman_130.jpg', 'images/shiba_inu_196.jpg', 'images/shiba_inu_193.jpg', 'images/pug_180.jpg', 'images/miniature_pinscher_58.jpg', 'images/american_pit_bull_terrier_54.jpg', 'images/pomeranian_47.jpg', 'images/Ragdoll_25.jpg', 'images/english_cocker_spaniel_65.jpg', 'images/great_pyrenees_10.jpg', 'images/Egyptian_Mau_20.jpg', 'images/english_setter_46.jpg', 'images/wheaten_terrier_140.jpg', 'images/english_cocker_spaniel_16.jpg', 'images/Maine_Coon_137.jpg', 'images/german_shorthaired_38.jpg', 'images/miniature_pinscher_186.jpg', 'images/Bombay_123.jpg', 'images/german_shorthaired_138.jpg', 'images/Egyptian_Mau_130.jpg', 'images/japanese_chin_133.jpg', 'images/pomeranian_57.jpg', 'images/pug_2.jpg', 'images/Russian_Blue_118.jpg', 'images/basset_hound_153.jpg', 'images/wheaten_terrier_66.jpg', 'images/beagle_185.jpg', 'images/Abyssinian_175.jpg', 'images/american_pit_bull_terrier_46.jpg', 'images/Abyssinian_96.jpg', 'images/american_pit_bull_terrier_5.jpg', 'images/Abyssinian_99.jpg', 'images/saint_bernard_157.jpg', 'images/pomeranian_112.jpg', 'images/Egyptian_Mau_143.jpg', 'images/english_setter_193.jpg', 'images/beagle_148.jpg', 'images/Persian_217.jpg', 'images/japanese_chin_137.jpg', 'images/Bombay_189.jpg', 'images/shiba_inu_203.jpg', 'images/miniature_pinscher_131.jpg', 'images/havanese_93.jpg', 'images/shiba_inu_18.jpg', 'images/Birman_42.jpg', 'images/British_Shorthair_268.jpg', 'images/chihuahua_43.jpg', 'images/Abyssinian_173.jpg', 'images/english_cocker_spaniel_59.jpg', 'images/leonberger_184.jpg', 'images/american_pit_bull_terrier_35.jpg', 'images/Persian_176.jpg', 'images/Siamese_109.jpg', 'images/yorkshire_terrier_170.jpg', 'images/Birman_52.jpg', 'images/saint_bernard_64.jpg', 'images/shiba_inu_162.jpg', 'images/Siamese_47.jpg', 'images/saint_bernard_36.jpg', 'images/scottish_terrier_4.jpg', 'images/Russian_Blue_169.jpg', 'images/Egyptian_Mau_91.jpg', 'images/staffordshire_bull_terrier_169.jpg', 'images/Abyssinian_88.jpg', 'images/samoyed_134.jpg', 'images/pomeranian_90.jpg', 'images/shiba_inu_179.jpg', 'images/american_bulldog_11.jpg', 'images/great_pyrenees_140.jpg', 'images/german_shorthaired_171.jpg', 'images/keeshond_122.jpg', 'images/Birman_34.jpg', 'images/Maine_Coon_189.jpg', 'images/basset_hound_1.jpg', 'images/basset_hound_80.jpg', 'images/samoyed_180.jpg', 'images/american_bulldog_68.jpg', 'images/Abyssinian_113.jpg', 'images/Abyssinian_168.jpg', 'images/Bombay_81.jpg', 'images/keeshond_126.jpg', 'images/japanese_chin_98.jpg', 'images/Abyssinian_151.jpg', 'images/Persian_272.jpg', 'images/boxer_164.jpg', 'images/Siamese_87.jpg', 'images/Abyssinian_56.jpg', 'images/american_pit_bull_terrier_136.jpg', 'images/Persian_69.jpg', 'images/staffordshire_bull_terrier_7.jpg', 'images/shiba_inu_194.jpg', 'images/miniature_pinscher_29.jpg', 'images/chihuahua_68.jpg', 'images/keeshond_119.jpg', 'images/Ragdoll_78.jpg', 'images/american_bulldog_221.jpg', 'images/Birman_36.jpg', 'images/Bengal_63.jpg', 'images/german_shorthaired_16.jpg', 'images/Bombay_144.jpg', 'images/wheaten_terrier_168.jpg', 'images/newfoundland_109.jpg', 'images/British_Shorthair_163.jpg', 'images/pug_193.jpg', 'images/english_setter_158.jpg', 'images/Abyssinian_116.jpg', 'images/english_cocker_spaniel_105.jpg', 'images/great_pyrenees_22.jpg', 'images/saint_bernard_86.jpg', 'images/Bombay_27.jpg', 'images/samoyed_51.jpg', 'images/german_shorthaired_84.jpg', 'images/scottish_terrier_112.jpg', 'images/Bengal_37.jpg', 'images/pug_182.jpg', 'images/yorkshire_terrier_10.jpg', 'images/Birman_87.jpg', 'images/Russian_Blue_175.jpg', 'images/Sphynx_25.jpg', 'images/leonberger_185.jpg', 'images/great_pyrenees_59.jpg', 'images/scottish_terrier_17.jpg', 'images/staffordshire_bull_terrier_19.jpg', 'images/newfoundland_162.jpg', 'images/Bengal_118.jpg', 'images/Ragdoll_194.jpg', 'images/pomeranian_151.jpg', 'images/chihuahua_137.jpg', 'images/Persian_62.jpg', 'images/keeshond_63.jpg', 'images/Siamese_156.jpg', 'images/pug_120.jpg', 'images/pomeranian_97.jpg', 'images/Bengal_182.jpg', 'images/newfoundland_137.jpg', 'images/Sphynx_74.jpg', 'images/great_pyrenees_161.jpg', 'images/english_cocker_spaniel_117.jpg', 'images/pug_144.jpg', 'images/Russian_Blue_244.jpg', 'images/great_pyrenees_57.jpg', 'images/german_shorthaired_37.jpg', 'images/Maine_Coon_102.jpg', 'images/Sphynx_98.jpg', 'images/Egyptian_Mau_163.jpg', 'images/staffordshire_bull_terrier_93.jpg', 'images/wheaten_terrier_35.jpg', 'images/Ragdoll_259.jpg', 'images/Maine_Coon_160.jpg', 'images/shiba_inu_168.jpg', 'images/great_pyrenees_120.jpg', 'images/japanese_chin_183.jpg', 'images/havanese_74.jpg', 'images/american_pit_bull_terrier_171.jpg', 'images/yorkshire_terrier_124.jpg', 'images/leonberger_200.jpg', 'images/Sphynx_196.jpg', 'images/staffordshire_bull_terrier_151.jpg', 'images/wheaten_terrier_3.jpg', 'images/wheaten_terrier_36.jpg', 'images/Bengal_99.jpg', 'images/Maine_Coon_101.jpg', 'images/Bombay_45.jpg', 'images/shiba_inu_99.jpg', 'images/american_pit_bull_terrier_183.jpg', 'images/beagle_158.jpg', 'images/Maine_Coon_133.jpg', 'images/leonberger_99.jpg', 'images/saint_bernard_80.jpg', 'images/Russian_Blue_45.jpg', 'images/beagle_103.jpg', 'images/japanese_chin_42.jpg', 'images/keeshond_124.jpg', 'images/Persian_103.jpg', 'images/Bombay_79.jpg', 'images/samoyed_190.jpg', 'images/Sphynx_88.jpg', 'images/english_cocker_spaniel_80.jpg', 'images/boxer_119.jpg', 'images/Ragdoll_16.jpg', 'images/havanese_35.jpg', 'images/Egyptian_Mau_157.jpg', 'images/scottish_terrier_113.jpg', 'images/Siamese_144.jpg', 'images/english_cocker_spaniel_99.jpg', 'images/Abyssinian_204.jpg', 'images/english_cocker_spaniel_35.jpg', 'images/staffordshire_bull_terrier_16.jpg', 'images/newfoundland_90.jpg', 'images/saint_bernard_56.jpg', 'images/english_cocker_spaniel_2.jpg', 'images/keeshond_80.jpg', 'images/British_Shorthair_85.jpg', 'images/chihuahua_83.jpg', 'images/english_setter_70.jpg', 'images/boxer_101.jpg', 'images/Maine_Coon_127.jpg', 'images/pomeranian_108.jpg', 'images/japanese_chin_116.jpg', 'images/pomeranian_162.jpg', 'images/samoyed_59.jpg', 'images/japanese_chin_182.jpg', 'images/english_cocker_spaniel_132.jpg', 'images/Egyptian_Mau_30.jpg', 'images/newfoundland_181.jpg', 'images/chihuahua_65.jpg', 'images/wheaten_terrier_65.jpg', 'images/beagle_188.jpg', 'images/leonberger_150.jpg', 'images/Egyptian_Mau_57.jpg', 'images/basset_hound_178.jpg', 'images/yorkshire_terrier_69.jpg', 'images/pomeranian_171.jpg', 'images/Sphynx_204.jpg', 'images/Persian_3.jpg', 'images/shiba_inu_152.jpg', 'images/Siamese_203.jpg', 'images/Abyssinian_126.jpg', 'images/english_cocker_spaniel_70.jpg', 'images/english_setter_153.jpg', 'images/Ragdoll_128.jpg', 'images/american_bulldog_57.jpg', 'images/leonberger_166.jpg', 'images/staffordshire_bull_terrier_54.jpg', 'images/Russian_Blue_211.jpg', 'images/pomeranian_37.jpg', 'images/Egyptian_Mau_128.jpg', 'images/Russian_Blue_180.jpg', 'images/Persian_13.jpg', 'images/newfoundland_118.jpg', 'images/havanese_159.jpg', 'images/leonberger_180.jpg', 'images/yorkshire_terrier_137.jpg', 'images/shiba_inu_15.jpg', 'images/leonberger_104.jpg', 'images/pug_112.jpg', 'images/staffordshire_bull_terrier_171.jpg', 'images/leonberger_79.jpg', 'images/american_bulldog_164.jpg', 'images/german_shorthaired_162.jpg', 'images/basset_hound_17.jpg', 'images/english_cocker_spaniel_78.jpg', 'images/Russian_Blue_35.jpg', 'images/german_shorthaired_27.jpg', 'images/scottish_terrier_22.jpg', 'images/Siamese_21.jpg', 'images/Ragdoll_18.jpg', 'images/american_pit_bull_terrier_160.jpg', 'images/Egyptian_Mau_198.jpg', 'images/english_setter_62.jpg', 'images/havanese_113.jpg', 'images/japanese_chin_184.jpg', 'images/boxer_175.jpg', 'images/British_Shorthair_223.jpg', 'images/British_Shorthair_182.jpg', 'images/leonberger_28.jpg', 'images/miniature_pinscher_79.jpg', 'images/beagle_124.jpg', 'images/Persian_81.jpg', 'images/saint_bernard_198.jpg', 'images/english_cocker_spaniel_197.jpg', 'images/boxer_75.jpg', 'images/Egyptian_Mau_154.jpg', 'images/Bombay_166.jpg', 'images/Persian_108.jpg', 'images/Persian_134.jpg', 'images/havanese_55.jpg', 'images/leonberger_82.jpg', 'images/pug_38.jpg', 'images/beagle_40.jpg', 'images/Russian_Blue_127.jpg', 'images/wheaten_terrier_175.jpg', 'images/Siamese_102.jpg', 'images/basset_hound_16.jpg', 'images/British_Shorthair_90.jpg', 'images/yorkshire_terrier_87.jpg', 'images/great_pyrenees_24.jpg', 'images/Birman_197.jpg', 'images/american_pit_bull_terrier_100.jpg', 'images/Ragdoll_127.jpg', 'images/samoyed_188.jpg', 'images/great_pyrenees_26.jpg', 'images/havanese_62.jpg', 'images/havanese_149.jpg', 'images/British_Shorthair_114.jpg', 'images/leonberger_117.jpg', 'images/boxer_197.jpg', 'images/english_setter_129.jpg', 'images/Abyssinian_33.jpg', 'images/miniature_pinscher_63.jpg', 'images/saint_bernard_24.jpg', 'images/saint_bernard_13.jpg', 'images/beagle_83.jpg', 'images/boxer_117.jpg', 'images/Abyssinian_221.jpg', 'images/samoyed_195.jpg', 'images/pug_148.jpg', 'images/english_setter_4.jpg', 'images/Ragdoll_154.jpg', 'images/english_cocker_spaniel_142.jpg', 'images/newfoundland_84.jpg', 'images/pug_101.jpg', 'images/english_setter_12.jpg', 'images/Siamese_227.jpg', 'images/beagle_95.jpg', 'images/great_pyrenees_86.jpg', 'images/Siamese_233.jpg', 'images/keeshond_193.jpg', 'images/saint_bernard_32.jpg', 'images/British_Shorthair_170.jpg', 'images/wheaten_terrier_64.jpg', 'images/Bombay_71.jpg', 'images/english_cocker_spaniel_73.jpg', 'images/american_pit_bull_terrier_139.jpg', 'images/american_bulldog_180.jpg', 'images/Ragdoll_219.jpg', 'images/Egyptian_Mau_199.jpg', 'images/Maine_Coon_247.jpg', 'images/pug_32.jpg', 'images/Maine_Coon_134.jpg', 'images/german_shorthaired_5.jpg', 'images/german_shorthaired_198.jpg', 'images/Birman_100.jpg', 'images/basset_hound_103.jpg', 'images/basset_hound_145.jpg', 'images/havanese_123.jpg', 'images/yorkshire_terrier_113.jpg', 'images/staffordshire_bull_terrier_24.jpg', 'images/Maine_Coon_144.jpg', 'images/english_setter_151.jpg', 'images/beagle_164.jpg', 'images/chihuahua_124.jpg', 'images/chihuahua_140.jpg', 'images/miniature_pinscher_138.jpg', 'images/miniature_pinscher_61.jpg', 'images/keeshond_168.jpg', 'images/german_shorthaired_51.jpg', 'images/Maine_Coon_53.jpg', 'images/Ragdoll_122.jpg', 'images/scottish_terrier_26.jpg', 'images/great_pyrenees_123.jpg', 'images/basset_hound_136.jpg', 'images/scottish_terrier_199.jpg', 'images/english_cocker_spaniel_1.jpg', 'images/american_bulldog_36.jpg', 'images/Birman_9.jpg', 'images/japanese_chin_36.jpg', 'images/Egyptian_Mau_27.jpg', 'images/Bombay_203.jpg', 'images/staffordshire_bull_terrier_71.jpg', 'images/Russian_Blue_31.jpg', 'images/american_bulldog_197.jpg', 'images/saint_bernard_23.jpg', 'images/great_pyrenees_158.jpg', 'images/keeshond_33.jpg', 'images/boxer_167.jpg', 'images/Egyptian_Mau_179.jpg', 'images/Ragdoll_185.jpg', 'images/yorkshire_terrier_121.jpg', 'images/keeshond_15.jpg', 'images/Egyptian_Mau_73.jpg', 'images/miniature_pinscher_164.jpg', 'images/keeshond_194.jpg', 'images/great_pyrenees_160.jpg', 'images/boxer_129.jpg', 'images/great_pyrenees_104.jpg', 'images/english_setter_73.jpg', 'images/newfoundland_65.jpg', 'images/boxer_65.jpg', 'images/saint_bernard_12.jpg', 'images/samoyed_49.jpg', 'images/newfoundland_140.jpg', 'images/beagle_181.jpg', 'images/leonberger_145.jpg', 'images/leonberger_41.jpg', 'images/newfoundland_9.jpg', 'images/pomeranian_128.jpg', 'images/chihuahua_38.jpg', 'images/yorkshire_terrier_166.jpg', 'images/chihuahua_127.jpg', 'images/pomeranian_7.jpg', 'images/Maine_Coon_30.jpg', 'images/Sphynx_170.jpg', 'images/Ragdoll_129.jpg', 'images/scottish_terrier_77.jpg', 'images/miniature_pinscher_21.jpg', 'images/wheaten_terrier_60.jpg', 'images/Bengal_166.jpg', 'images/Maine_Coon_241.jpg', 'images/miniature_pinscher_73.jpg', 'images/american_bulldog_133.jpg', 'images/beagle_79.jpg', 'images/keeshond_11.jpg', 'images/yorkshire_terrier_2.jpg', 'images/wheaten_terrier_110.jpg', 'images/german_shorthaired_56.jpg', 'images/newfoundland_105.jpg', 'images/english_cocker_spaniel_136.jpg', 'images/boxer_199.jpg', 'images/leonberger_8.jpg', 'images/great_pyrenees_82.jpg', 'images/english_setter_157.jpg', 'images/Bombay_180.jpg', 'images/Bombay_206.jpg', 'images/miniature_pinscher_161.jpg', 'images/Birman_182.jpg', 'images/Bombay_101.jpg', 'images/wheaten_terrier_20.jpg', 'images/american_pit_bull_terrier_75.jpg', 'images/keeshond_190.jpg', 'images/scottish_terrier_1.jpg', 'images/leonberger_162.jpg', 'images/chihuahua_193.jpg', 'images/Abyssinian_44.jpg', 'images/leonberger_97.jpg', 'images/scottish_terrier_85.jpg', 'images/newfoundland_78.jpg', 'images/boxer_57.jpg', 'images/Russian_Blue_48.jpg', 'images/British_Shorthair_62.jpg', 'images/wheaten_terrier_132.jpg', 'images/Russian_Blue_40.jpg', 'images/saint_bernard_127.jpg', 'images/yorkshire_terrier_160.jpg', 'images/Ragdoll_245.jpg', 'images/Siamese_40.jpg', 'images/Persian_83.jpg', 'images/boxer_17.jpg', 'images/Sphynx_176.jpg', 'images/pomeranian_43.jpg', 'images/pomeranian_185.jpg', 'images/miniature_pinscher_69.jpg', 'images/Sphynx_121.jpg', 'images/Persian_106.jpg', 'images/american_pit_bull_terrier_4.jpg', 'images/Bengal_55.jpg', 'images/Bengal_96.jpg', 'images/american_pit_bull_terrier_37.jpg', 'images/basset_hound_146.jpg', 'images/Bombay_116.jpg', 'images/boxer_40.jpg', 'images/Sphynx_230.jpg', 'images/shiba_inu_7.jpg', 'images/wheaten_terrier_150.jpg', 'images/shiba_inu_6.jpg', 'images/Russian_Blue_204.jpg', 'images/Russian_Blue_10.jpg', 'images/Egyptian_Mau_176.jpg', 'images/Abyssinian_83.jpg', 'images/Russian_Blue_124.jpg', 'images/wheaten_terrier_139.jpg', 'images/japanese_chin_167.jpg', 'images/leonberger_112.jpg', 'images/Persian_264.jpg', 'images/havanese_172.jpg', 'images/Persian_85.jpg', 'images/Sphynx_133.jpg', 'images/american_pit_bull_terrier_125.jpg', 'images/keeshond_105.jpg', 'images/pug_77.jpg', 'images/american_pit_bull_terrier_196.jpg', 'images/Siamese_103.jpg', 'images/Russian_Blue_253.jpg', 'images/yorkshire_terrier_75.jpg', 'images/havanese_198.jpg', 'images/Birman_165.jpg', 'images/scottish_terrier_125.jpg', 'images/Bengal_40.jpg', 'images/great_pyrenees_15.jpg', 'images/miniature_pinscher_91.jpg', 'images/pomeranian_157.jpg', 'images/english_setter_60.jpg', 'images/Abyssinian_205.jpg', 'images/shiba_inu_66.jpg', 'images/British_Shorthair_116.jpg', 'images/Russian_Blue_69.jpg', 'images/american_bulldog_153.jpg', 'images/keeshond_55.jpg', 'images/german_shorthaired_4.jpg', 'images/german_shorthaired_114.jpg', 'images/leonberger_75.jpg', 'images/wheaten_terrier_131.jpg', 'images/Abyssinian_112.jpg', 'images/pomeranian_110.jpg', 'images/great_pyrenees_78.jpg', 'images/leonberger_182.jpg', 'images/Siamese_112.jpg', 'images/scottish_terrier_138.jpg', 'images/chihuahua_196.jpg', 'images/chihuahua_103.jpg', 'images/staffordshire_bull_terrier_131.jpg', 'images/Bengal_92.jpg', 'images/British_Shorthair_70.jpg', 'images/Maine_Coon_119.jpg', 'images/saint_bernard_188.jpg', 'images/havanese_176.jpg', 'images/beagle_194.jpg', 'images/scottish_terrier_126.jpg', 'images/english_cocker_spaniel_108.jpg', 'images/basset_hound_60.jpg', 'images/Sphynx_178.jpg', 'images/basset_hound_149.jpg', 'images/Ragdoll_179.jpg', 'images/pomeranian_168.jpg', 'images/pomeranian_174.jpg', 'images/german_shorthaired_127.jpg', 'images/wheaten_terrier_75.jpg', 'images/german_shorthaired_152.jpg', 'images/Bombay_139.jpg', 'images/Ragdoll_8.jpg', 'images/american_bulldog_19.jpg', 'images/Bombay_172.jpg', 'images/english_setter_92.jpg', 'images/miniature_pinscher_145.jpg', 'images/german_shorthaired_129.jpg', 'images/english_setter_80.jpg', 'images/samoyed_9.jpg', 'images/beagle_51.jpg', 'images/american_bulldog_13.jpg', 'images/Maine_Coon_82.jpg', 'images/havanese_51.jpg', 'images/japanese_chin_74.jpg', 'images/japanese_chin_147.jpg', 'images/basset_hound_98.jpg', 'images/Bombay_156.jpg', 'images/great_pyrenees_114.jpg', 'images/shiba_inu_206.jpg', 'images/Persian_1.jpg', 'images/saint_bernard_134.jpg', 'images/pug_3.jpg', 'images/chihuahua_106.jpg', 'images/keeshond_3.jpg', 'images/Abyssinian_177.jpg', 'images/miniature_pinscher_176.jpg', 'images/keeshond_134.jpg', 'images/shiba_inu_77.jpg', 'images/japanese_chin_48.jpg', 'images/Bombay_162.jpg', 'images/British_Shorthair_272.jpg', 'images/basset_hound_111.jpg', 'images/american_pit_bull_terrier_159.jpg', 'images/english_setter_15.jpg', 'images/Russian_Blue_64.jpg', 'images/japanese_chin_5.jpg', 'images/Persian_36.jpg', 'images/Sphynx_142.jpg', 'images/miniature_pinscher_130.jpg', 'images/Persian_5.jpg', 'images/wheaten_terrier_101.jpg', 'images/Ragdoll_197.jpg', 'images/Bombay_178.jpg', 'images/Ragdoll_254.jpg', 'images/miniature_pinscher_62.jpg', 'images/pug_200.jpg', 'images/havanese_174.jpg', 'images/Abyssinian_97.jpg', 'images/chihuahua_145.jpg', 'images/pomeranian_181.jpg', 'images/Birman_137.jpg', 'images/leonberger_114.jpg', 'images/saint_bernard_79.jpg', 'images/japanese_chin_57.jpg', 'images/basset_hound_134.jpg', 'images/leonberger_126.jpg', 'images/British_Shorthair_164.jpg', 'images/Egyptian_Mau_183.jpg', 'images/pug_56.jpg', 'images/Russian_Blue_129.jpg', 'images/Maine_Coon_72.jpg', 'images/staffordshire_bull_terrier_155.jpg', 'images/american_pit_bull_terrier_114.jpg', 'images/japanese_chin_194.jpg', 'images/pug_129.jpg', 'images/leonberger_89.jpg', 'images/american_pit_bull_terrier_103.jpg', 'images/miniature_pinscher_180.jpg', 'images/japanese_chin_148.jpg', 'images/chihuahua_85.jpg', 'images/British_Shorthair_72.jpg', 'images/keeshond_154.jpg', 'images/staffordshire_bull_terrier_17.jpg', 'images/miniature_pinscher_35.jpg', 'images/Birman_78.jpg', 'images/boxer_191.jpg', 'images/staffordshire_bull_terrier_108.jpg', 'images/german_shorthaired_91.jpg', 'images/shiba_inu_186.jpg', 'images/British_Shorthair_218.jpg', 'images/american_bulldog_207.jpg', 'images/yorkshire_terrier_66.jpg', 'images/yorkshire_terrier_175.jpg', 'images/Bombay_49.jpg', 'images/english_setter_88.jpg', 'images/shiba_inu_199.jpg', 'images/Ragdoll_101.jpg', 'images/Sphynx_38.jpg', 'images/pomeranian_107.jpg', 'images/Abyssinian_105.jpg', 'images/basset_hound_86.jpg', 'images/Bombay_30.jpg', 'images/Birman_28.jpg', 'images/Maine_Coon_104.jpg', 'images/english_setter_125.jpg', 'images/staffordshire_bull_terrier_58.jpg', 'images/scottish_terrier_53.jpg', 'images/Persian_47.jpg', 'images/Bombay_220.jpg', 'images/american_bulldog_110.jpg', 'images/american_pit_bull_terrier_29.jpg', 'images/chihuahua_19.jpg', 'images/Persian_166.jpg', 'images/japanese_chin_149.jpg', 'images/chihuahua_148.jpg', 'images/Sphynx_206.jpg', 'images/pomeranian_143.jpg', 'images/Bombay_213.jpg', 'images/Maine_Coon_214.jpg', 'images/american_pit_bull_terrier_152.jpg', 'images/pomeranian_76.jpg', 'images/leonberger_153.jpg', 'images/pug_26.jpg', 'images/basset_hound_99.jpg', 'images/german_shorthaired_105.jpg', 'images/Birman_61.jpg', 'images/Maine_Coon_263.jpg', 'images/keeshond_27.jpg', 'images/havanese_117.jpg', 'images/Birman_110.jpg', 'images/boxer_3.jpg', 'images/samoyed_121.jpg', 'images/shiba_inu_92.jpg', 'images/havanese_116.jpg', 'images/yorkshire_terrier_35.jpg', 'images/shiba_inu_173.jpg', 'images/Persian_20.jpg', 'images/Siamese_55.jpg', 'images/Birman_148.jpg', 'images/beagle_73.jpg', 'images/wheaten_terrier_194.jpg', 'images/saint_bernard_190.jpg', 'images/newfoundland_73.jpg', 'images/german_shorthaired_95.jpg', 'images/english_setter_75.jpg', 'images/english_setter_59.jpg', 'images/scottish_terrier_104.jpg', 'images/Bombay_3.jpg', 'images/pug_82.jpg', 'images/Maine_Coon_95.jpg', 'images/keeshond_191.jpg', 'images/British_Shorthair_124.jpg', 'images/keeshond_158.jpg', 'images/samoyed_74.jpg', 'images/english_setter_128.jpg', 'images/Russian_Blue_57.jpg', 'images/Siamese_56.jpg', 'images/Abyssinian_176.jpg', 'images/British_Shorthair_204.jpg', 'images/american_bulldog_167.jpg', 'images/japanese_chin_113.jpg', 'images/miniature_pinscher_160.jpg', 'images/Bengal_71.jpg', 'images/keeshond_111.jpg', 'images/Siamese_110.jpg', 'images/keeshond_135.jpg', 'images/pug_109.jpg', 'images/pug_65.jpg', 'images/staffordshire_bull_terrier_94.jpg', 'images/Bombay_73.jpg', 'images/Sphynx_222.jpg', 'images/english_setter_199.jpg', 'images/miniature_pinscher_198.jpg', 'images/chihuahua_112.jpg', 'images/newfoundland_27.jpg', 'images/basset_hound_161.jpg', 'images/scottish_terrier_79.jpg', 'images/staffordshire_bull_terrier_175.jpg', 'images/yorkshire_terrier_123.jpg', 'images/great_pyrenees_44.jpg', 'images/japanese_chin_76.jpg', 'images/chihuahua_141.jpg', 'images/chihuahua_10.jpg', 'images/samoyed_33.jpg', 'images/japanese_chin_150.jpg', 'images/newfoundland_194.jpg', 'images/Bombay_21.jpg', 'images/Persian_159.jpg', 'images/german_shorthaired_145.jpg', 'images/Sphynx_49.jpg', 'images/yorkshire_terrier_128.jpg', 'images/beagle_35.jpg', 'images/Bengal_125.jpg', 'images/beagle_117.jpg', 'images/staffordshire_bull_terrier_121.jpg', 'images/Egyptian_Mau_188.jpg', 'images/german_shorthaired_3.jpg', 'images/miniature_pinscher_67.jpg', 'images/Egyptian_Mau_112.jpg', 'images/wheaten_terrier_102.jpg', 'images/yorkshire_terrier_22.jpg', 'images/British_Shorthair_51.jpg', 'images/Sphynx_91.jpg', 'images/beagle_45.jpg', 'images/Persian_17.jpg', 'images/keeshond_77.jpg', 'images/chihuahua_35.jpg', 'images/german_shorthaired_31.jpg', 'images/Egyptian_Mau_5.jpg', 'images/beagle_89.jpg', 'images/pug_149.jpg', 'images/keeshond_131.jpg', 'images/japanese_chin_83.jpg', 'images/Maine_Coon_238.jpg', 'images/Abyssinian_206.jpg', 'images/Bombay_4.jpg', 'images/Egyptian_Mau_202.jpg', 'images/scottish_terrier_155.jpg', 'images/shiba_inu_122.jpg', 'images/wheaten_terrier_87.jpg', 'images/wheaten_terrier_78.jpg', 'images/Persian_107.jpg', 'images/great_pyrenees_116.jpg', 'images/boxer_1.jpg', 'images/samoyed_10.jpg', 'images/samoyed_145.jpg', 'images/saint_bernard_135.jpg', 'images/basset_hound_28.jpg', 'images/boxer_100.jpg', 'images/Persian_65.jpg', 'images/staffordshire_bull_terrier_172.jpg', 'images/pug_160.jpg', 'images/Sphynx_131.jpg', 'images/american_bulldog_83.jpg', 'images/shiba_inu_52.jpg', 'images/Siamese_53.jpg', 'images/boxer_158.jpg', 'images/american_pit_bull_terrier_128.jpg', 'images/saint_bernard_128.jpg', 'images/shiba_inu_59.jpg', 'images/german_shorthaired_52.jpg', 'images/great_pyrenees_127.jpg', 'images/scottish_terrier_119.jpg', 'images/Bengal_62.jpg', 'images/Bengal_143.jpg', 'images/Russian_Blue_63.jpg', 'images/Sphynx_165.jpg', 'images/Ragdoll_189.jpg', 'images/Siamese_150.jpg', 'images/staffordshire_bull_terrier_41.jpg', 'images/american_pit_bull_terrier_145.jpg', 'images/Egyptian_Mau_104.jpg', 'images/pomeranian_139.jpg', 'images/miniature_pinscher_70.jpg', 'images/american_bulldog_220.jpg', 'images/shiba_inu_157.jpg', 'images/havanese_109.jpg', 'images/staffordshire_bull_terrier_106.jpg', 'images/chihuahua_130.jpg', 'images/havanese_105.jpg', 'images/leonberger_52.jpg', 'images/japanese_chin_195.jpg', 'images/Persian_153.jpg', 'images/english_cocker_spaniel_156.jpg', 'images/Ragdoll_45.jpg', 'images/american_pit_bull_terrier_98.jpg', 'images/english_cocker_spaniel_64.jpg', 'images/scottish_terrier_120.jpg', 'images/chihuahua_6.jpg', 'images/Ragdoll_118.jpg', 'images/scottish_terrier_135.jpg', 'images/Ragdoll_76.jpg', 'images/chihuahua_47.jpg', 'images/leonberger_161.jpg', 'images/Bengal_105.jpg', 'images/samoyed_55.jpg', 'images/saint_bernard_140.jpg', 'images/Birman_190.jpg', 'images/Maine_Coon_54.jpg', 'images/pug_87.jpg', 'images/Birman_33.jpg', 'images/boxer_21.jpg', 'images/Russian_Blue_115.jpg', 'images/american_pit_bull_terrier_14.jpg', 'images/British_Shorthair_108.jpg', 'images/Bengal_157.jpg', 'images/Abyssinian_183.jpg', 'images/Bengal_197.jpg', 'images/Egyptian_Mau_155.jpg', 'images/american_bulldog_10.jpg', 'images/samoyed_135.jpg', 'images/japanese_chin_65.jpg', 'images/newfoundland_93.jpg', 'images/american_bulldog_81.jpg', 'images/basset_hound_109.jpg', 'images/leonberger_172.jpg', 'images/Ragdoll_141.jpg', 'images/yorkshire_terrier_15.jpg', 'images/chihuahua_109.jpg', 'images/miniature_pinscher_14.jpg', 'images/newfoundland_153.jpg', 'images/Bengal_146.jpg', 'images/scottish_terrier_8.jpg', 'images/Birman_187.jpg', 'images/samoyed_129.jpg', 'images/english_setter_43.jpg', 'images/boxer_182.jpg', 'images/Birman_114.jpg', 'images/Russian_Blue_193.jpg', 'images/Bengal_88.jpg', 'images/Egyptian_Mau_12.jpg', 'images/yorkshire_terrier_95.jpg', 'images/english_cocker_spaniel_45.jpg', 'images/yorkshire_terrier_198.jpg', 'images/pomeranian_160.jpg', 'images/scottish_terrier_49.jpg', 'images/Abyssinian_25.jpg', 'images/yorkshire_terrier_86.jpg', 'images/pomeranian_152.jpg', 'images/yorkshire_terrier_104.jpg', 'images/staffordshire_bull_terrier_59.jpg', 'images/wheaten_terrier_6.jpg', 'images/Siamese_210.jpg', 'images/english_setter_105.jpg', 'images/Persian_162.jpg', 'images/english_setter_45.jpg', 'images/basset_hound_20.jpg', 'images/english_cocker_spaniel_98.jpg', 'images/leonberger_119.jpg', 'images/Maine_Coon_37.jpg', 'images/keeshond_188.jpg', 'images/Abyssinian_68.jpg', 'images/american_bulldog_175.jpg', 'images/basset_hound_148.jpg', 'images/pomeranian_146.jpg', 'images/saint_bernard_136.jpg', 'images/pug_58.jpg', 'images/staffordshire_bull_terrier_88.jpg', 'images/wheaten_terrier_63.jpg', 'images/saint_bernard_185.jpg', 'images/samoyed_83.jpg', 'images/great_pyrenees_175.jpg', 'images/Russian_Blue_198.jpg', 'images/german_shorthaired_98.jpg', 'images/english_setter_192.jpg', 'images/British_Shorthair_157.jpg', 'images/english_cocker_spaniel_153.jpg', 'images/english_setter_165.jpg', 'images/great_pyrenees_189.jpg', 'images/Birman_184.jpg', 'images/pomeranian_74.jpg', 'images/samoyed_146.jpg', 'images/pomeranian_68.jpg', 'images/samoyed_118.jpg', 'images/Bombay_170.jpg', 'images/Birman_128.jpg', 'images/shiba_inu_133.jpg', 'images/samoyed_23.jpg', 'images/Sphynx_93.jpg', 'images/beagle_58.jpg', 'images/scottish_terrier_76.jpg', 'images/Birman_60.jpg', 'images/British_Shorthair_129.jpg', 'images/japanese_chin_26.jpg', 'images/British_Shorthair_54.jpg', 'images/Egyptian_Mau_212.jpg', 'images/Russian_Blue_155.jpg', 'images/Maine_Coon_222.jpg', 'images/Maine_Coon_31.jpg', 'images/beagle_111.jpg', 'images/pug_134.jpg', 'images/Ragdoll_110.jpg', 'images/newfoundland_189.jpg', 'images/leonberger_147.jpg', 'images/Egyptian_Mau_165.jpg', 'images/wheaten_terrier_183.jpg', 'images/British_Shorthair_66.jpg', 'images/shiba_inu_178.jpg', 'images/yorkshire_terrier_43.jpg', 'images/Ragdoll_82.jpg', 'images/leonberger_2.jpg', 'images/Sphynx_243.jpg', 'images/american_bulldog_121.jpg', 'images/miniature_pinscher_122.jpg', 'images/Ragdoll_116.jpg', 'images/saint_bernard_122.jpg', 'images/newfoundland_154.jpg', 'images/Birman_50.jpg', 'images/leonberger_139.jpg', 'images/shiba_inu_174.jpg', 'images/leonberger_149.jpg', 'images/Bengal_51.jpg', 'images/english_cocker_spaniel_184.jpg', 'images/english_setter_169.jpg', 'images/japanese_chin_18.jpg', 'images/basset_hound_162.jpg', 'images/Ragdoll_193.jpg', 'images/Siamese_27.jpg', 'images/British_Shorthair_46.jpg', 'images/wheaten_terrier_186.jpg', 'images/havanese_19.jpg', 'images/samoyed_66.jpg', 'images/miniature_pinscher_108.jpg', 'images/samoyed_128.jpg', 'images/Bengal_14.jpg', 'images/Siamese_117.jpg', 'images/Ragdoll_255.jpg', 'images/British_Shorthair_74.jpg', 'images/Siamese_71.jpg', 'images/saint_bernard_107.jpg', 'images/Birman_121.jpg', 'images/Maine_Coon_162.jpg', 'images/basset_hound_8.jpg', 'images/samoyed_69.jpg', 'images/scottish_terrier_71.jpg', 'images/american_pit_bull_terrier_182.jpg', 'images/yorkshire_terrier_177.jpg', 'images/Abyssinian_103.jpg', 'images/scottish_terrier_130.jpg', 'images/german_shorthaired_149.jpg', 'images/keeshond_24.jpg', 'images/chihuahua_133.jpg', 'images/american_pit_bull_terrier_102.jpg', 'images/japanese_chin_94.jpg', 'images/Sphynx_122.jpg', 'images/British_Shorthair_52.jpg', 'images/pug_145.jpg', 'images/Ragdoll_181.jpg', 'images/wheaten_terrier_99.jpg', 'images/pug_165.jpg', 'images/leonberger_16.jpg', 'images/samoyed_157.jpg', 'images/samoyed_160.jpg', 'images/leonberger_60.jpg', 'images/leonberger_192.jpg', 'images/great_pyrenees_28.jpg', 'images/beagle_8.jpg', 'images/havanese_119.jpg', 'images/great_pyrenees_14.jpg', 'images/miniature_pinscher_49.jpg', 'images/Persian_25.jpg', 'images/Russian_Blue_200.jpg', 'images/British_Shorthair_93.jpg', 'images/american_bulldog_53.jpg', 'images/beagle_127.jpg', 'images/Maine_Coon_147.jpg', 'images/boxer_110.jpg', 'images/Sphynx_229.jpg', 'images/Egyptian_Mau_94.jpg', 'images/British_Shorthair_120.jpg', 'images/english_setter_18.jpg', 'images/Abyssinian_128.jpg', 'images/Russian_Blue_171.jpg', 'images/samoyed_41.jpg', 'images/english_cocker_spaniel_103.jpg', 'images/english_setter_177.jpg', 'images/Maine_Coon_18.jpg', 'images/chihuahua_153.jpg', 'images/great_pyrenees_70.jpg', 'images/Egyptian_Mau_56.jpg', 'images/yorkshire_terrier_8.jpg', 'images/Bengal_173.jpg', 'images/Ragdoll_143.jpg', 'images/great_pyrenees_172.jpg', 'images/Siamese_23.jpg', 'images/boxer_184.jpg', 'images/British_Shorthair_263.jpg', 'images/great_pyrenees_167.jpg', 'images/great_pyrenees_168.jpg', 'images/yorkshire_terrier_54.jpg', 'images/Siamese_163.jpg', 'images/chihuahua_92.jpg', 'images/Persian_271.jpg', 'images/Sphynx_31.jpg', 'images/havanese_64.jpg', 'images/boxer_84.jpg', 'images/samoyed_167.jpg', 'images/leonberger_20.jpg', 'images/basset_hound_54.jpg', 'images/Ragdoll_205.jpg', 'images/japanese_chin_107.jpg', 'images/Maine_Coon_254.jpg', 'images/japanese_chin_123.jpg', 'images/great_pyrenees_106.jpg', 'images/american_pit_bull_terrier_176.jpg', 'images/chihuahua_94.jpg', 'images/leonberger_63.jpg', 'images/boxer_18.jpg', 'images/Sphynx_173.jpg', 'images/Abyssinian_46.jpg', 'images/pug_166.jpg', 'images/Bombay_37.jpg', 'images/newfoundland_152.jpg', 'images/Persian_67.jpg', 'images/leonberger_111.jpg', 'images/Russian_Blue_264.jpg', 'images/samoyed_194.jpg', 'images/great_pyrenees_129.jpg', 'images/yorkshire_terrier_171.jpg', 'images/chihuahua_24.jpg', 'images/Abyssinian_81.jpg', 'images/english_setter_175.jpg', 'images/yorkshire_terrier_143.jpg', 'images/beagle_131.jpg', 'images/german_shorthaired_192.jpg', 'images/havanese_184.jpg', 'images/basset_hound_63.jpg', 'images/japanese_chin_178.jpg', 'images/miniature_pinscher_154.jpg', 'images/pomeranian_140.jpg', 'images/leonberger_55.jpg', 'images/staffordshire_bull_terrier_159.jpg', 'images/newfoundland_187.jpg', 'images/havanese_191.jpg', 'images/newfoundland_193.jpg', 'images/Sphynx_24.jpg', 'images/chihuahua_26.jpg', 'images/english_cocker_spaniel_172.jpg', 'images/Bengal_123.jpg', 'images/yorkshire_terrier_180.jpg', 'images/german_shorthaired_111.jpg', 'images/yorkshire_terrier_68.jpg', 'images/miniature_pinscher_127.jpg', 'images/Bengal_22.jpg', 'images/pomeranian_190.jpg', 'images/shiba_inu_191.jpg', 'images/basset_hound_24.jpg', 'images/Egyptian_Mau_175.jpg', 'images/Bengal_154.jpg', 'images/staffordshire_bull_terrier_180.jpg', 'images/Egyptian_Mau_213.jpg', 'images/japanese_chin_29.jpg', 'images/boxer_194.jpg', 'images/Maine_Coon_7.jpg', 'images/wheaten_terrier_14.jpg', 'images/beagle_62.jpg', 'images/Birman_174.jpg', 'images/beagle_100.jpg', 'images/scottish_terrier_80.jpg', 'images/beagle_99.jpg', 'images/english_setter_184.jpg', 'images/german_shorthaired_93.jpg', 'images/english_setter_110.jpg', 'images/german_shorthaired_160.jpg', 'images/Egyptian_Mau_156.jpg', 'images/basset_hound_56.jpg', 'images/boxer_70.jpg', 'images/boxer_105.jpg', 'images/Siamese_238.jpg', 'images/saint_bernard_153.jpg', 'images/Persian_120.jpg', 'images/german_shorthaired_86.jpg', 'images/staffordshire_bull_terrier_80.jpg', 'images/Abyssinian_140.jpg', 'images/newfoundland_107.jpg', 'images/pomeranian_72.jpg', 'images/scottish_terrier_128.jpg', 'images/Abyssinian_145.jpg', 'images/Birman_18.jpg', 'images/newfoundland_82.jpg', 'images/beagle_130.jpg', 'images/american_pit_bull_terrier_185.jpg', 'images/beagle_135.jpg', 'images/keeshond_152.jpg', 'images/staffordshire_bull_terrier_138.jpg', 'images/Bengal_121.jpg', 'images/pug_123.jpg', 'images/american_bulldog_21.jpg', 'images/Russian_Blue_158.jpg', 'images/Birman_167.jpg', 'images/newfoundland_87.jpg', 'images/Bengal_57.jpg', 'images/wheaten_terrier_42.jpg', 'images/pomeranian_111.jpg', 'images/german_shorthaired_183.jpg', 'images/miniature_pinscher_140.jpg', 'images/basset_hound_9.jpg', 'images/havanese_100.jpg', 'images/basset_hound_154.jpg', 'images/wheaten_terrier_117.jpg', 'images/Bengal_162.jpg', 'images/havanese_151.jpg', 'images/american_pit_bull_terrier_9.jpg', 'images/american_pit_bull_terrier_154.jpg', 'images/chihuahua_115.jpg', 'images/yorkshire_terrier_119.jpg', 'images/american_bulldog_98.jpg', 'images/american_bulldog_101.jpg', 'images/Ragdoll_1.jpg', 'images/yorkshire_terrier_179.jpg', 'images/samoyed_18.jpg', 'images/Bombay_132.jpg', 'images/boxer_198.jpg', 'images/British_Shorthair_133.jpg', 'images/Siamese_202.jpg', 'images/japanese_chin_90.jpg', 'images/miniature_pinscher_50.jpg', 'images/staffordshire_bull_terrier_158.jpg', 'images/miniature_pinscher_152.jpg', 'images/yorkshire_terrier_19.jpg', 'images/english_cocker_spaniel_42.jpg', 'images/german_shorthaired_121.jpg', 'images/Siamese_97.jpg', 'images/saint_bernard_43.jpg', 'images/english_setter_111.jpg', 'images/wheaten_terrier_41.jpg', 'images/basset_hound_166.jpg', 'images/Ragdoll_31.jpg', 'images/Ragdoll_202.jpg', 'images/scottish_terrier_11.jpg', 'images/wheaten_terrier_40.jpg', 'images/basset_hound_25.jpg', 'images/american_bulldog_75.jpg', 'images/yorkshire_terrier_38.jpg', 'images/leonberger_67.jpg', 'images/keeshond_16.jpg', 'images/pug_94.jpg', 'images/Bengal_141.jpg', 'images/Abyssinian_66.jpg', 'images/British_Shorthair_188.jpg', 'images/miniature_pinscher_41.jpg', 'images/Abyssinian_150.jpg', 'images/Bengal_168.jpg', 'images/american_bulldog_104.jpg', 'images/Abyssinian_161.jpg', 'images/Bengal_189.jpg', 'images/pomeranian_30.jpg', 'images/japanese_chin_16.jpg', 'images/scottish_terrier_70.jpg', 'images/Bombay_205.jpg', 'images/american_pit_bull_terrier_97.jpg', 'images/english_setter_98.jpg', 'images/Persian_201.jpg', 'images/Ragdoll_26.jpg', 'images/Sphynx_246.jpg', 'images/yorkshire_terrier_70.jpg', 'images/chihuahua_31.jpg', 'images/Persian_82.jpg', 'images/english_setter_123.jpg', 'images/Maine_Coon_210.jpg', 'images/Persian_185.jpg', 'images/Abyssinian_143.jpg', 'images/english_cocker_spaniel_135.jpg', 'images/Siamese_63.jpg', 'images/english_cocker_spaniel_76.jpg', 'images/american_bulldog_129.jpg', 'images/american_pit_bull_terrier_110.jpg', 'images/wheaten_terrier_15.jpg', 'images/British_Shorthair_88.jpg', 'images/Birman_154.jpg', 'images/Persian_79.jpg', 'images/saint_bernard_98.jpg', 'images/British_Shorthair_8.jpg', 'images/great_pyrenees_74.jpg', 'images/miniature_pinscher_27.jpg', 'images/miniature_pinscher_151.jpg', 'images/Bengal_12.jpg', 'images/american_pit_bull_terrier_140.jpg', 'images/wheaten_terrier_24.jpg', 'images/Ragdoll_103.jpg', 'images/miniature_pinscher_166.jpg', 'images/wheaten_terrier_177.jpg', 'images/Siamese_195.jpg', 'images/american_bulldog_188.jpg', 'images/Siamese_240.jpg', 'images/British_Shorthair_145.jpg', 'images/samoyed_122.jpg', 'images/chihuahua_88.jpg', 'images/american_pit_bull_terrier_186.jpg', 'images/english_setter_172.jpg', 'images/chihuahua_164.jpg', 'images/Abyssinian_210.jpg', 'images/basset_hound_124.jpg', 'images/scottish_terrier_88.jpg', 'images/Egyptian_Mau_69.jpg', 'images/american_bulldog_190.jpg', 'images/basset_hound_57.jpg', 'images/great_pyrenees_68.jpg', 'images/great_pyrenees_125.jpg', 'images/staffordshire_bull_terrier_189.jpg', 'images/Egyptian_Mau_113.jpg', 'images/Bengal_5.jpg', 'images/yorkshire_terrier_130.jpg', 'images/Egyptian_Mau_33.jpg', 'images/Egyptian_Mau_111.jpg', 'images/Birman_74.jpg', 'images/german_shorthaired_32.jpg', 'images/german_shorthaired_156.jpg', 'images/newfoundland_159.jpg', 'images/newfoundland_42.jpg', 'images/german_shorthaired_144.jpg', 'images/great_pyrenees_111.jpg', 'images/american_bulldog_112.jpg', 'images/Birman_193.jpg', 'images/beagle_177.jpg', 'images/shiba_inu_58.jpg', 'images/scottish_terrier_40.jpg', 'images/pomeranian_40.jpg', 'images/pomeranian_32.jpg', 'images/British_Shorthair_197.jpg', 'images/chihuahua_29.jpg', 'images/havanese_133.jpg', 'images/basset_hound_11.jpg', 'images/english_setter_65.jpg', 'images/Ragdoll_188.jpg', 'images/Bombay_117.jpg', 'images/german_shorthaired_73.jpg', 'images/american_bulldog_73.jpg', 'images/havanese_110.jpg', 'images/basset_hound_62.jpg', 'images/pug_179.jpg', 'images/Russian_Blue_100.jpg', 'images/great_pyrenees_19.jpg', 'images/wheaten_terrier_170.jpg', 'images/keeshond_100.jpg', 'images/Abyssinian_13.jpg', 'images/Sphynx_223.jpg', 'images/staffordshire_bull_terrier_51.jpg', 'images/Bengal_171.jpg', 'images/Birman_86.jpg', 'images/shiba_inu_195.jpg', 'images/american_pit_bull_terrier_123.jpg', 'images/Birman_5.jpg', 'images/english_setter_119.jpg', 'images/beagle_179.jpg', 'images/boxer_37.jpg', 'images/beagle_70.jpg', 'images/Persian_66.jpg', 'images/staffordshire_bull_terrier_92.jpg', 'images/Maine_Coon_129.jpg', 'images/samoyed_191.jpg', 'images/Persian_228.jpg', 'images/Maine_Coon_194.jpg', 'images/havanese_17.jpg', 'images/english_setter_95.jpg', 'images/boxer_190.jpg', 'images/leonberger_68.jpg', 'images/Bengal_68.jpg', 'images/samoyed_45.jpg', 'images/pomeranian_18.jpg', 'images/Bengal_180.jpg', 'images/saint_bernard_148.jpg', 'images/Birman_46.jpg', 'images/basset_hound_137.jpg', 'images/Ragdoll_265.jpg', 'images/shiba_inu_10.jpg', 'images/havanese_9.jpg', 'images/samoyed_14.jpg', 'images/saint_bernard_68.jpg', 'images/basset_hound_143.jpg', 'images/Abyssinian_129.jpg', 'images/Abyssinian_133.jpg', 'images/staffordshire_bull_terrier_114.jpg', 'images/american_pit_bull_terrier_86.jpg', 'images/Siamese_26.jpg', 'images/British_Shorthair_275.jpg', 'images/american_bulldog_128.jpg', 'images/english_setter_29.jpg', 'images/Bengal_26.jpg', 'images/miniature_pinscher_134.jpg', 'images/British_Shorthair_18.jpg', 'images/wheaten_terrier_76.jpg', 'images/Bengal_9.jpg', 'images/samoyed_60.jpg', 'images/Bengal_75.jpg', 'images/american_pit_bull_terrier_175.jpg', 'images/Ragdoll_58.jpg', 'images/British_Shorthair_57.jpg', 'images/beagle_187.jpg', 'images/staffordshire_bull_terrier_110.jpg', 'images/wheaten_terrier_70.jpg', 'images/shiba_inu_1.jpg', 'images/american_bulldog_64.jpg', 'images/Ragdoll_125.jpg', 'images/leonberger_173.jpg', 'images/great_pyrenees_58.jpg', 'images/great_pyrenees_164.jpg', 'images/english_cocker_spaniel_190.jpg', 'images/great_pyrenees_131.jpg', 'images/Persian_268.jpg', 'images/keeshond_81.jpg', 'images/keeshond_93.jpg', 'images/wheaten_terrier_167.jpg', 'images/scottish_terrier_38.jpg', 'images/Bengal_83.jpg', 'images/keeshond_153.jpg', 'images/chihuahua_90.jpg', 'images/english_setter_117.jpg', 'images/chihuahua_82.jpg', 'images/Bombay_148.jpg', 'images/newfoundland_149.jpg', 'images/japanese_chin_99.jpg', 'images/english_cocker_spaniel_110.jpg', 'images/Birman_45.jpg', 'images/scottish_terrier_36.jpg', 'images/basset_hound_117.jpg', 'images/miniature_pinscher_48.jpg', 'images/japanese_chin_59.jpg', 'images/Abyssinian_100.jpg', 'images/Russian_Blue_170.jpg', 'images/scottish_terrier_68.jpg', 'images/havanese_148.jpg', 'images/samoyed_16.jpg', 'images/leonberger_84.jpg', 'images/samoyed_158.jpg', 'images/saint_bernard_95.jpg', 'images/great_pyrenees_51.jpg', 'images/chihuahua_123.jpg', 'images/miniature_pinscher_74.jpg', 'images/newfoundland_80.jpg', 'images/newfoundland_81.jpg', 'images/Abyssinian_89.jpg', 'images/Abyssinian_98.jpg', 'images/havanese_199.jpg', 'images/scottish_terrier_140.jpg', 'images/saint_bernard_35.jpg', 'images/newfoundland_198.jpg', 'images/boxer_124.jpg', 'images/havanese_155.jpg', 'images/chihuahua_181.jpg', 'images/miniature_pinscher_107.jpg', 'images/Birman_4.jpg', 'images/japanese_chin_80.jpg', 'images/Sphynx_148.jpg', 'images/Maine_Coon_81.jpg', 'images/Egyptian_Mau_60.jpg', 'images/newfoundland_72.jpg', 'images/Maine_Coon_264.jpg', 'images/japanese_chin_189.jpg', 'images/Siamese_133.jpg', 'images/german_shorthaired_8.jpg', 'images/scottish_terrier_124.jpg', 'images/leonberger_109.jpg', 'images/British_Shorthair_2.jpg', 'images/wheaten_terrier_83.jpg', 'images/great_pyrenees_75.jpg', 'images/german_shorthaired_128.jpg', 'images/wheaten_terrier_57.jpg', 'images/samoyed_120.jpg', 'images/Persian_172.jpg', 'images/basset_hound_15.jpg', 'images/american_pit_bull_terrier_23.jpg', 'images/american_pit_bull_terrier_1.jpg', 'images/Russian_Blue_178.jpg', 'images/basset_hound_93.jpg', 'images/english_setter_187.jpg', 'images/beagle_10.jpg', 'images/staffordshire_bull_terrier_190.jpg', 'images/leonberger_17.jpg', 'images/shiba_inu_83.jpg', 'images/Abyssinian_108.jpg', 'images/Sphynx_82.jpg', 'images/Maine_Coon_35.jpg', 'images/Russian_Blue_99.jpg', 'images/Russian_Blue_162.jpg', 'images/german_shorthaired_35.jpg', 'images/chihuahua_93.jpg', 'images/english_setter_130.jpg', 'images/basset_hound_14.jpg', 'images/Egyptian_Mau_4.jpg', 'images/pomeranian_28.jpg', 'images/Siamese_228.jpg', 'images/Ragdoll_152.jpg', 'images/great_pyrenees_48.jpg', 'images/pomeranian_83.jpg', 'images/english_cocker_spaniel_102.jpg', 'images/boxer_148.jpg', 'images/american_bulldog_95.jpg', 'images/newfoundland_77.jpg', 'images/Russian_Blue_152.jpg', 'images/saint_bernard_4.jpg', 'images/Ragdoll_198.jpg', 'images/shiba_inu_54.jpg', 'images/staffordshire_bull_terrier_3.jpg', 'images/staffordshire_bull_terrier_62.jpg', 'images/Sphynx_57.jpg', 'images/Birman_83.jpg', 'images/leonberger_136.jpg', 'images/keeshond_96.jpg', 'images/wheaten_terrier_29.jpg', 'images/chihuahua_149.jpg', 'images/great_pyrenees_156.jpg', 'images/english_setter_90.jpg', 'images/boxer_93.jpg', 'images/Maine_Coon_26.jpg', 'images/basset_hound_200.jpg', 'images/Birman_99.jpg', 'images/yorkshire_terrier_40.jpg', 'images/Birman_48.jpg', 'images/chihuahua_51.jpg', 'images/basset_hound_165.jpg', 'images/Birman_26.jpg', 'images/japanese_chin_170.jpg', 'images/scottish_terrier_136.jpg', 'images/Egyptian_Mau_34.jpg', 'images/great_pyrenees_21.jpg', 'images/yorkshire_terrier_42.jpg', 'images/german_shorthaired_25.jpg', 'images/saint_bernard_46.jpg', 'images/beagle_168.jpg', 'images/Birman_59.jpg', 'images/Bengal_90.jpg', 'images/boxer_43.jpg', 'images/american_pit_bull_terrier_81.jpg', 'images/english_cocker_spaniel_178.jpg', 'images/keeshond_114.jpg', 'images/chihuahua_21.jpg', 'images/pomeranian_41.jpg', 'images/Egyptian_Mau_191.jpg', 'images/keeshond_138.jpg', 'images/pomeranian_62.jpg', 'images/Egyptian_Mau_98.jpg', 'images/german_shorthaired_190.jpg', 'images/Maine_Coon_267.jpg', 'images/Bombay_185.jpg', 'images/Sphynx_108.jpg', 'images/yorkshire_terrier_173.jpg', 'images/miniature_pinscher_114.jpg', 'images/Siamese_81.jpg', 'images/shiba_inu_116.jpg', 'images/samoyed_81.jpg', 'images/Bengal_138.jpg', 'images/boxer_189.jpg', 'images/newfoundland_110.jpg', 'images/boxer_38.jpg', 'images/great_pyrenees_169.jpg', 'images/boxer_111.jpg', 'images/pomeranian_100.jpg', 'images/american_bulldog_28.jpg', 'images/Bombay_176.jpg', 'images/Ragdoll_52.jpg', 'images/staffordshire_bull_terrier_75.jpg', 'images/american_bulldog_200.jpg', 'images/basset_hound_2.jpg', 'images/german_shorthaired_80.jpg', 'images/Persian_138.jpg', 'images/havanese_92.jpg', 'images/american_bulldog_107.jpg', 'images/scottish_terrier_18.jpg', 'images/great_pyrenees_64.jpg', 'images/British_Shorthair_165.jpg', 'images/samoyed_172.jpg', 'images/boxer_31.jpg', 'images/great_pyrenees_16.jpg', 'images/wheaten_terrier_13.jpg', 'images/leonberger_163.jpg', 'images/Ragdoll_98.jpg', 'images/miniature_pinscher_100.jpg', 'images/saint_bernard_66.jpg', 'images/wheaten_terrier_174.jpg', 'images/samoyed_96.jpg', 'images/pug_183.jpg', 'images/saint_bernard_131.jpg', 'images/havanese_131.jpg', 'images/miniature_pinscher_175.jpg', 'images/great_pyrenees_80.jpg', 'images/Egyptian_Mau_110.jpg', 'images/havanese_78.jpg', 'images/scottish_terrier_35.jpg', 'images/saint_bernard_170.jpg', 'images/leonberger_59.jpg', 'images/keeshond_18.jpg', 'images/yorkshire_terrier_154.jpg', 'images/yorkshire_terrier_79.jpg', 'images/newfoundland_71.jpg', 'images/Russian_Blue_106.jpg', 'images/basset_hound_49.jpg', 'images/great_pyrenees_130.jpg', 'images/pug_15.jpg', 'images/beagle_192.jpg', 'images/shiba_inu_93.jpg', 'images/wheaten_terrier_77.jpg', 'images/Persian_22.jpg', 'images/saint_bernard_6.jpg', 'images/Sphynx_129.jpg', 'images/beagle_76.jpg', 'images/samoyed_137.jpg', 'images/Birman_16.jpg', 'images/Sphynx_37.jpg', 'images/Birman_156.jpg', 'images/german_shorthaired_177.jpg', 'images/Sphynx_159.jpg', 'images/Siamese_136.jpg', 'images/saint_bernard_146.jpg', 'images/yorkshire_terrier_118.jpg', 'images/beagle_139.jpg', 'images/scottish_terrier_33.jpg', 'images/Russian_Blue_174.jpg', 'images/beagle_97.jpg', 'images/Bombay_184.jpg', 'images/havanese_186.jpg', 'images/great_pyrenees_153.jpg', 'images/British_Shorthair_27.jpg', 'images/Egyptian_Mau_23.jpg', 'images/leonberger_98.jpg', 'images/pomeranian_22.jpg', 'images/British_Shorthair_213.jpg', 'images/beagle_24.jpg', 'images/boxer_152.jpg', 'images/Abyssinian_24.jpg', 'images/Sphynx_234.jpg', 'images/Bengal_43.jpg', 'images/Bombay_181.jpg', 'images/staffordshire_bull_terrier_48.jpg', 'images/yorkshire_terrier_133.jpg', 'images/chihuahua_135.jpg', 'images/german_shorthaired_85.jpg', 'images/samoyed_151.jpg', 'images/Siamese_116.jpg', 'images/japanese_chin_91.jpg', 'images/samoyed_119.jpg', 'images/havanese_59.jpg', 'images/american_pit_bull_terrier_166.jpg', 'images/Siamese_178.jpg', 'images/Sphynx_205.jpg', 'images/pug_17.jpg', 'images/great_pyrenees_79.jpg', 'images/yorkshire_terrier_163.jpg', 'images/german_shorthaired_53.jpg', 'images/newfoundland_147.jpg', 'images/wheaten_terrier_27.jpg', 'images/Abyssinian_134.jpg', 'images/english_setter_188.jpg', 'images/Persian_175.jpg', 'images/chihuahua_5.jpg', 'images/Bengal_116.jpg', 'images/american_bulldog_41.jpg', 'images/leonberger_100.jpg', 'images/pomeranian_45.jpg', 'images/Maine_Coon_201.jpg', 'images/Bombay_69.jpg', 'images/Birman_76.jpg', 'images/Egyptian_Mau_84.jpg', 'images/shiba_inu_180.jpg', 'images/Bombay_18.jpg', 'images/Sphynx_180.jpg', 'images/scottish_terrier_115.jpg', 'images/japanese_chin_15.jpg', 'images/american_pit_bull_terrier_137.jpg', 'images/pug_6.jpg', 'images/leonberger_171.jpg', 'images/Sphynx_102.jpg', 'images/american_pit_bull_terrier_101.jpg', 'images/staffordshire_bull_terrier_66.jpg', 'images/Bombay_63.jpg', 'images/Ragdoll_3.jpg', 'images/shiba_inu_40.jpg', 'images/pug_99.jpg', 'images/scottish_terrier_143.jpg', 'images/american_bulldog_138.jpg', 'images/Ragdoll_24.jpg', 'images/Persian_89.jpg', 'images/Siamese_200.jpg', 'images/Birman_80.jpg', 'images/basset_hound_135.jpg', 'images/Persian_273.jpg', 'images/great_pyrenees_181.jpg', 'images/wheaten_terrier_11.jpg', 'images/pomeranian_161.jpg', 'images/British_Shorthair_77.jpg', 'images/wheaten_terrier_2.jpg', 'images/american_bulldog_67.jpg', 'images/keeshond_186.jpg', 'images/staffordshire_bull_terrier_35.jpg', 'images/scottish_terrier_178.jpg', 'images/newfoundland_106.jpg', 'images/great_pyrenees_137.jpg', 'images/newfoundland_14.jpg', 'images/saint_bernard_67.jpg', 'images/British_Shorthair_32.jpg', 'images/boxer_112.jpg', 'images/pug_117.jpg', 'images/american_bulldog_69.jpg', 'images/german_shorthaired_107.jpg', 'images/Siamese_5.jpg', 'images/British_Shorthair_30.jpg', 'images/english_cocker_spaniel_52.jpg', 'images/shiba_inu_60.jpg', 'images/american_pit_bull_terrier_162.jpg', 'images/keeshond_192.jpg', 'images/Persian_29.jpg', 'images/British_Shorthair_134.jpg', 'images/Birman_200.jpg', 'images/Sphynx_188.jpg', 'images/Ragdoll_187.jpg', 'images/Ragdoll_59.jpg', 'images/Abyssinian_131.jpg', 'images/wheaten_terrier_160.jpg', 'images/chihuahua_25.jpg', 'images/english_cocker_spaniel_173.jpg', 'images/newfoundland_167.jpg', 'images/Bengal_134.jpg', 'images/boxer_135.jpg', 'images/chihuahua_45.jpg', 'images/saint_bernard_85.jpg', 'images/Persian_257.jpg', 'images/newfoundland_20.jpg', 'images/Russian_Blue_20.jpg', 'images/english_cocker_spaniel_86.jpg', 'images/pomeranian_23.jpg', 'images/american_pit_bull_terrier_2.jpg', 'images/Maine_Coon_244.jpg', 'images/pomeranian_59.jpg', 'images/shiba_inu_164.jpg', 'images/Maine_Coon_42.jpg', 'images/german_shorthaired_87.jpg', 'images/keeshond_140.jpg', 'images/Abyssinian_86.jpg', 'images/British_Shorthair_40.jpg', 'images/Bengal_69.jpg', 'images/american_bulldog_158.jpg', 'images/saint_bernard_116.jpg', 'images/staffordshire_bull_terrier_162.jpg', 'images/english_cocker_spaniel_195.jpg', 'images/leonberger_197.jpg', 'images/Bombay_99.jpg', 'images/samoyed_82.jpg', 'images/german_shorthaired_60.jpg', 'images/samoyed_169.jpg', 'images/scottish_terrier_9.jpg', 'images/saint_bernard_151.jpg', 'images/basset_hound_108.jpg', 'images/scottish_terrier_168.jpg', 'images/basset_hound_147.jpg', 'images/Egyptian_Mau_6.jpg', 'images/British_Shorthair_48.jpg', 'images/Bombay_201.jpg', 'images/pomeranian_169.jpg', 'images/american_bulldog_118.jpg', 'images/staffordshire_bull_terrier_61.jpg', 'images/english_setter_58.jpg', 'images/Bengal_10.jpg', 'images/basset_hound_121.jpg', 'images/Maine_Coon_138.jpg', 'images/samoyed_1.jpg', 'images/miniature_pinscher_143.jpg', 'images/boxer_102.jpg', 'images/beagle_160.jpg', 'images/english_cocker_spaniel_145.jpg', 'images/havanese_27.jpg', 'images/samoyed_131.jpg', 'images/Siamese_24.jpg', 'images/havanese_140.jpg', 'images/Abyssinian_180.jpg', 'images/newfoundland_192.jpg', 'images/chihuahua_32.jpg', 'images/american_pit_bull_terrier_203.jpg', 'images/shiba_inu_165.jpg', 'images/wheaten_terrier_26.jpg', 'images/pug_90.jpg', 'images/basset_hound_197.jpg', 'images/keeshond_35.jpg', 'images/wheaten_terrier_16.jpg', 'images/Bombay_192.jpg', 'images/japanese_chin_153.jpg', 'images/Bengal_191.jpg', 'images/chihuahua_122.jpg', 'images/german_shorthaired_54.jpg', 'images/wheaten_terrier_185.jpg', 'images/english_setter_31.jpg', 'images/english_cocker_spaniel_17.jpg', 'images/pug_51.jpg', 'images/beagle_182.jpg', 'images/wheaten_terrier_47.jpg', 'images/Maine_Coon_167.jpg', 'images/Siamese_176.jpg', 'images/Russian_Blue_83.jpg', 'images/pug_70.jpg', 'images/Egyptian_Mau_40.jpg', 'images/havanese_122.jpg', 'images/boxer_55.jpg', 'images/wheaten_terrier_59.jpg', 'images/shiba_inu_120.jpg', 'images/chihuahua_91.jpg', 'images/Ragdoll_252.jpg', 'images/english_cocker_spaniel_82.jpg', 'images/scottish_terrier_51.jpg', 'images/Persian_18.jpg', 'images/Ragdoll_137.jpg', 'images/shiba_inu_94.jpg', 'images/basset_hound_90.jpg', 'images/boxer_115.jpg', 'images/havanese_181.jpg', 'images/beagle_175.jpg', 'images/american_pit_bull_terrier_161.jpg', 'images/Russian_Blue_86.jpg', 'images/german_shorthaired_119.jpg', 'images/Sphynx_87.jpg', 'images/keeshond_47.jpg', 'images/yorkshire_terrier_116.jpg', 'images/Persian_160.jpg', 'images/staffordshire_bull_terrier_70.jpg', 'images/keeshond_87.jpg', 'images/Ragdoll_147.jpg', 'images/havanese_31.jpg', 'images/havanese_25.jpg', 'images/Egyptian_Mau_214.jpg', 'images/great_pyrenees_85.jpg', 'images/american_pit_bull_terrier_45.jpg', 'images/yorkshire_terrier_195.jpg', 'images/american_pit_bull_terrier_189.jpg', 'images/yorkshire_terrier_24.jpg', 'images/staffordshire_bull_terrier_129.jpg', 'images/yorkshire_terrier_151.jpg', 'images/japanese_chin_162.jpg', 'images/american_bulldog_198.jpg', 'images/havanese_83.jpg', 'images/great_pyrenees_83.jpg', 'images/english_cocker_spaniel_54.jpg', 'images/Ragdoll_10.jpg', 'images/german_shorthaired_154.jpg', 'images/yorkshire_terrier_145.jpg', 'images/Siamese_169.jpg', 'images/basset_hound_61.jpg', 'images/staffordshire_bull_terrier_37.jpg', 'images/japanese_chin_88.jpg', 'images/keeshond_136.jpg', 'images/chihuahua_143.jpg', 'images/pomeranian_88.jpg', 'images/chihuahua_63.jpg', 'images/Maine_Coon_67.jpg', 'images/Birman_25.jpg', 'images/havanese_132.jpg', 'images/german_shorthaired_134.jpg', 'images/scottish_terrier_118.jpg', 'images/american_bulldog_169.jpg', 'images/Sphynx_103.jpg', 'images/leonberger_140.jpg', 'images/Maine_Coon_87.jpg', 'images/havanese_15.jpg', 'images/Maine_Coon_89.jpg', 'images/Russian_Blue_89.jpg', 'images/Bombay_19.jpg', 'images/beagle_78.jpg', 'images/pomeranian_172.jpg', 'images/saint_bernard_187.jpg', 'images/Abyssinian_20.jpg', 'images/shiba_inu_75.jpg', 'images/newfoundland_89.jpg', 'images/samoyed_77.jpg', 'images/basset_hound_189.jpg', 'images/Bombay_38.jpg', 'images/shiba_inu_70.jpg', 'images/British_Shorthair_153.jpg', 'images/saint_bernard_196.jpg', 'images/newfoundland_7.jpg', 'images/english_cocker_spaniel_168.jpg', 'images/miniature_pinscher_93.jpg', 'images/Persian_32.jpg', 'images/Bombay_215.jpg', 'images/staffordshire_bull_terrier_50.jpg', 'images/yorkshire_terrier_53.jpg', 'images/Sphynx_111.jpg', 'images/basset_hound_52.jpg', 'images/english_cocker_spaniel_138.jpg', 'images/staffordshire_bull_terrier_156.jpg', 'images/pomeranian_135.jpg', 'images/Bombay_53.jpg', 'images/British_Shorthair_178.jpg', 'images/miniature_pinscher_11.jpg', 'images/saint_bernard_108.jpg', 'images/beagle_91.jpg', 'images/great_pyrenees_188.jpg', 'images/yorkshire_terrier_51.jpg', 'images/keeshond_86.jpg', 'images/Siamese_95.jpg', 'images/Bombay_169.jpg', 'images/pomeranian_65.jpg', 'images/Siamese_122.jpg', 'images/american_bulldog_117.jpg', 'images/Bombay_200.jpg', 'images/scottish_terrier_129.jpg', 'images/Persian_266.jpg', 'images/pomeranian_155.jpg', 'images/beagle_170.jpg', 'images/basset_hound_21.jpg', 'images/Russian_Blue_17.jpg', 'images/german_shorthaired_116.jpg', 'images/newfoundland_111.jpg', 'images/saint_bernard_184.jpg', 'images/Bengal_137.jpg', 'images/american_pit_bull_terrier_165.jpg', 'images/pomeranian_116.jpg', 'images/american_pit_bull_terrier_90.jpg', 'images/scottish_terrier_161.jpg', 'images/Russian_Blue_201.jpg', 'images/chihuahua_81.jpg', 'images/British_Shorthair_10.jpg', 'images/samoyed_179.jpg', 'images/basset_hound_129.jpg', 'images/german_shorthaired_191.jpg', 'images/Bombay_138.jpg', 'images/havanese_76.jpg', 'images/beagle_49.jpg', 'images/american_pit_bull_terrier_204.jpg', 'images/beagle_88.jpg', 'images/Russian_Blue_71.jpg', 'images/Maine_Coon_271.jpg', 'images/miniature_pinscher_142.jpg', 'images/Bombay_127.jpg', 'images/leonberger_7.jpg', 'images/keeshond_160.jpg', 'images/pomeranian_70.jpg', 'images/pug_154.jpg', 'images/saint_bernard_50.jpg', 'images/samoyed_30.jpg', 'images/Bengal_161.jpg', 'images/Sphynx_201.jpg', 'images/Bombay_107.jpg', 'images/Bengal_82.jpg', 'images/Sphynx_125.jpg', 'images/english_setter_185.jpg', 'images/Ragdoll_29.jpg', 'images/Russian_Blue_182.jpg', 'images/Bengal_52.jpg', 'images/japanese_chin_127.jpg', 'images/japanese_chin_168.jpg', 'images/yorkshire_terrier_85.jpg', 'images/chihuahua_58.jpg', 'images/miniature_pinscher_128.jpg', 'images/Bombay_174.jpg', 'images/Persian_101.jpg', 'images/Abyssinian_172.jpg', 'images/wheaten_terrier_196.jpg', 'images/english_setter_189.jpg', 'images/havanese_168.jpg', 'images/beagle_199.jpg', 'images/boxer_27.jpg', 'images/yorkshire_terrier_184.jpg', 'images/staffordshire_bull_terrier_141.jpg', 'images/shiba_inu_104.jpg', 'images/leonberger_148.jpg', 'images/Russian_Blue_151.jpg', 'images/Russian_Blue_92.jpg', 'images/english_cocker_spaniel_63.jpg', 'images/keeshond_67.jpg', 'images/beagle_152.jpg', 'images/havanese_175.jpg', 'images/boxer_145.jpg', 'images/Siamese_9.jpg', 'images/basset_hound_192.jpg', 'images/saint_bernard_5.jpg', 'images/miniature_pinscher_65.jpg', 'images/miniature_pinscher_53.jpg', 'images/scottish_terrier_153.jpg', 'images/Maine_Coon_121.jpg', 'images/leonberger_181.jpg', 'images/Bombay_9.jpg', 'images/staffordshire_bull_terrier_27.jpg', 'images/Persian_173.jpg', 'images/pug_190.jpg', 'images/shiba_inu_62.jpg', 'images/Abyssinian_40.jpg', 'images/Sphynx_4.jpg', 'images/pomeranian_164.jpg', 'images/great_pyrenees_41.jpg', 'images/Abyssinian_36.jpg', 'images/Abyssinian_195.jpg', 'images/boxer_71.jpg', 'images/great_pyrenees_62.jpg', 'images/Abyssinian_149.jpg', 'images/havanese_50.jpg', 'images/english_setter_96.jpg', 'images/staffordshire_bull_terrier_1.jpg', 'images/Birman_185.jpg', 'images/keeshond_164.jpg', 'images/english_cocker_spaniel_40.jpg', 'images/german_shorthaired_47.jpg', 'images/yorkshire_terrier_80.jpg', 'images/Abyssinian_169.jpg', 'images/Maine_Coon_140.jpg', 'images/staffordshire_bull_terrier_90.jpg', 'images/Russian_Blue_196.jpg', 'images/japanese_chin_40.jpg', 'images/boxer_8.jpg', 'images/Abyssinian_146.jpg', 'images/Bengal_97.jpg', 'images/Bombay_106.jpg', 'images/Bengal_169.jpg', 'images/newfoundland_188.jpg', 'images/Birman_172.jpg', 'images/Persian_239.jpg', 'images/german_shorthaired_1.jpg', 'images/Egyptian_Mau_46.jpg', 'images/Maine_Coon_84.jpg', 'images/basset_hound_176.jpg', 'images/Maine_Coon_77.jpg', 'images/english_cocker_spaniel_77.jpg', 'images/german_shorthaired_115.jpg', 'images/samoyed_87.jpg', 'images/Siamese_224.jpg', 'images/keeshond_83.jpg', 'images/german_shorthaired_180.jpg', 'images/Siamese_115.jpg', 'images/beagle_202.jpg', 'images/Russian_Blue_184.jpg', 'images/american_pit_bull_terrier_191.jpg', 'images/Ragdoll_106.jpg', 'images/scottish_terrier_190.jpg', 'images/pug_31.jpg', 'images/chihuahua_117.jpg', 'images/japanese_chin_161.jpg', 'images/Abyssinian_30.jpg', 'images/Egyptian_Mau_95.jpg', 'images/Russian_Blue_111.jpg', 'images/Bengal_76.jpg', 'images/boxer_90.jpg', 'images/american_bulldog_65.jpg', 'images/beagle_134.jpg', 'images/Ragdoll_166.jpg', 'images/american_pit_bull_terrier_12.jpg', 'images/saint_bernard_119.jpg', 'images/British_Shorthair_106.jpg', 'images/english_setter_114.jpg', 'images/german_shorthaired_165.jpg', 'images/great_pyrenees_1.jpg', 'images/basset_hound_50.jpg', 'images/japanese_chin_154.jpg', 'images/newfoundland_64.jpg', 'images/basset_hound_48.jpg', 'images/saint_bernard_11.jpg', 'images/english_setter_116.jpg', 'images/beagle_25.jpg', 'images/samoyed_36.jpg', 'images/american_pit_bull_terrier_13.jpg', 'images/newfoundland_157.jpg', 'images/scottish_terrier_164.jpg', 'images/Ragdoll_178.jpg', 'images/Russian_Blue_88.jpg', 'images/pomeranian_25.jpg', 'images/japanese_chin_144.jpg', 'images/Persian_55.jpg', 'images/yorkshire_terrier_157.jpg', 'images/saint_bernard_125.jpg', 'images/american_bulldog_186.jpg', 'images/american_pit_bull_terrier_30.jpg', 'images/Ragdoll_234.jpg', 'images/english_setter_33.jpg', 'images/Ragdoll_79.jpg', 'images/Persian_4.jpg', 'images/shiba_inu_177.jpg', 'images/Bengal_3.jpg', 'images/beagle_183.jpg', 'images/Siamese_99.jpg', 'images/scottish_terrier_176.jpg', 'images/Persian_6.jpg', 'images/great_pyrenees_88.jpg', 'images/Bombay_60.jpg', 'images/pug_115.jpg', 'images/newfoundland_120.jpg', 'images/japanese_chin_63.jpg', 'images/samoyed_4.jpg', 'images/Ragdoll_168.jpg', 'images/pomeranian_163.jpg', 'images/scottish_terrier_158.jpg', 'images/beagle_82.jpg', 'images/Egyptian_Mau_194.jpg', 'images/great_pyrenees_46.jpg', 'images/keeshond_130.jpg', 'images/boxer_81.jpg', 'images/shiba_inu_24.jpg', 'images/english_cocker_spaniel_93.jpg', 'images/Egyptian_Mau_83.jpg', 'images/american_bulldog_166.jpg', 'images/Russian_Blue_147.jpg', 'images/Russian_Blue_76.jpg', 'images/scottish_terrier_188.jpg', 'images/havanese_104.jpg', 'images/Persian_233.jpg', 'images/beagle_178.jpg', 'images/american_bulldog_151.jpg', 'images/samoyed_177.jpg', 'images/samoyed_80.jpg', 'images/chihuahua_108.jpg', 'images/american_pit_bull_terrier_109.jpg', 'images/great_pyrenees_186.jpg', 'images/beagle_29.jpg', 'images/basset_hound_118.jpg', 'images/Bengal_85.jpg', 'images/german_shorthaired_153.jpg', 'images/chihuahua_189.jpg', 'images/japanese_chin_25.jpg', 'images/wheaten_terrier_106.jpg', 'images/Sphynx_164.jpg', 'images/american_bulldog_161.jpg', 'images/boxer_88.jpg', 'images/Russian_Blue_109.jpg', 'images/wheaten_terrier_147.jpg', 'images/saint_bernard_1.jpg', 'images/american_bulldog_176.jpg', 'images/Russian_Blue_34.jpg', 'images/american_pit_bull_terrier_122.jpg', 'images/american_pit_bull_terrier_11.jpg', 'images/Russian_Blue_226.jpg', 'images/Sphynx_65.jpg', 'images/pomeranian_35.jpg', 'images/Egyptian_Mau_47.jpg', 'images/Birman_155.jpg', 'images/samoyed_28.jpg', 'images/saint_bernard_137.jpg', 'images/Russian_Blue_228.jpg', 'images/chihuahua_95.jpg', 'images/boxer_185.jpg', 'images/Bengal_65.jpg', 'images/Siamese_104.jpg', 'images/keeshond_196.jpg', 'images/english_cocker_spaniel_150.jpg', 'images/Bengal_167.jpg', 'images/British_Shorthair_125.jpg', 'images/Birman_55.jpg', 'images/Ragdoll_190.jpg', 'images/Russian_Blue_73.jpg', 'images/Abyssinian_26.jpg', 'images/staffordshire_bull_terrier_8.jpg', 'images/Bengal_156.jpg', 'images/British_Shorthair_273.jpg', 'images/Persian_42.jpg', 'images/Sphynx_168.jpg', 'images/Maine_Coon_175.jpg', 'images/basset_hound_130.jpg', 'images/english_cocker_spaniel_75.jpg', 'images/japanese_chin_130.jpg', 'images/Russian_Blue_181.jpg', 'images/beagle_2.jpg', 'images/great_pyrenees_60.jpg', 'images/chihuahua_166.jpg', 'images/pomeranian_92.jpg', 'images/english_cocker_spaniel_92.jpg', 'images/pug_34.jpg', 'images/Abyssinian_87.jpg', 'images/Abyssinian_124.jpg', 'images/Russian_Blue_123.jpg', 'images/Egyptian_Mau_14.jpg', 'images/great_pyrenees_38.jpg', 'images/keeshond_143.jpg', 'images/havanese_10.jpg', 'images/shiba_inu_89.jpg', 'images/British_Shorthair_68.jpg', 'images/basset_hound_142.jpg', 'images/Egyptian_Mau_186.jpg', 'images/wheaten_terrier_188.jpg', 'images/saint_bernard_112.jpg', 'images/beagle_172.jpg', 'images/beagle_186.jpg', 'images/miniature_pinscher_150.jpg', 'images/shiba_inu_81.jpg', 'images/beagle_163.jpg', 'images/chihuahua_138.jpg', 'images/Egyptian_Mau_207.jpg', 'images/Persian_180.jpg', 'images/boxer_53.jpg', 'images/saint_bernard_138.jpg', 'images/Bengal_152.jpg', 'images/english_setter_16.jpg', 'images/Birman_68.jpg', 'images/samoyed_156.jpg', 'images/havanese_129.jpg', 'images/Birman_29.jpg', 'images/shiba_inu_132.jpg', 'images/chihuahua_162.jpg', 'images/keeshond_155.jpg', 'images/Birman_98.jpg', 'images/scottish_terrier_184.jpg', 'images/Abyssinian_120.jpg', 'images/Siamese_191.jpg', 'images/boxer_138.jpg', 'images/Abyssinian_8.jpg', 'images/american_bulldog_29.jpg', 'images/english_cocker_spaniel_88.jpg', 'images/staffordshire_bull_terrier_9.jpg', 'images/Birman_164.jpg', 'images/pug_43.jpg', 'images/saint_bernard_106.jpg', 'images/pomeranian_39.jpg', 'images/Egyptian_Mau_178.jpg', 'images/yorkshire_terrier_197.jpg', 'images/Birman_149.jpg', 'images/english_cocker_spaniel_143.jpg', 'images/german_shorthaired_81.jpg', 'images/yorkshire_terrier_131.jpg', 'images/german_shorthaired_102.jpg', 'images/Ragdoll_184.jpg', 'images/British_Shorthair_50.jpg', 'images/shiba_inu_21.jpg', 'images/great_pyrenees_155.jpg', 'images/newfoundland_47.jpg', 'images/staffordshire_bull_terrier_201.jpg', 'images/Maine_Coon_131.jpg', 'images/keeshond_19.jpg', 'images/Ragdoll_159.jpg', 'images/keeshond_200.jpg', 'images/havanese_177.jpg', 'images/Birman_194.jpg', 'images/British_Shorthair_269.jpg', 'images/japanese_chin_118.jpg', 'images/Bombay_135.jpg', 'images/saint_bernard_38.jpg', 'images/great_pyrenees_32.jpg', 'images/staffordshire_bull_terrier_86.jpg', 'images/japanese_chin_97.jpg', 'images/scottish_terrier_28.jpg', 'images/Siamese_135.jpg', 'images/Ragdoll_9.jpg', 'images/pug_119.jpg', 'images/english_setter_150.jpg', 'images/saint_bernard_30.jpg', 'images/scottish_terrier_91.jpg', 'images/beagle_156.jpg', 'images/wheaten_terrier_122.jpg', 'images/Maine_Coon_158.jpg', 'images/english_setter_24.jpg', 'images/Egyptian_Mau_190.jpg', 'images/Ragdoll_95.jpg', 'images/Russian_Blue_108.jpg', 'images/beagle_109.jpg', 'images/yorkshire_terrier_111.jpg', 'images/British_Shorthair_59.jpg', 'images/american_bulldog_50.jpg', 'images/german_shorthaired_23.jpg', 'images/japanese_chin_173.jpg', 'images/keeshond_34.jpg', 'images/american_bulldog_218.jpg', 'images/english_setter_11.jpg', 'images/British_Shorthair_65.jpg', 'images/Birman_198.jpg', 'images/scottish_terrier_60.jpg', 'images/basset_hound_5.jpg', 'images/Siamese_42.jpg', 'images/Abyssinian_190.jpg', 'images/american_bulldog_177.jpg', 'images/staffordshire_bull_terrier_139.jpg', 'images/saint_bernard_31.jpg', 'images/english_cocker_spaniel_152.jpg', 'images/Russian_Blue_258.jpg', 'images/saint_bernard_177.jpg', 'images/staffordshire_bull_terrier_74.jpg', 'images/Abyssinian_15.jpg', 'images/staffordshire_bull_terrier_122.jpg', 'images/american_pit_bull_terrier_144.jpg', 'images/yorkshire_terrier_30.jpg', 'images/Egyptian_Mau_50.jpg', 'images/Persian_259.jpg', 'images/Bombay_82.jpg', 'images/pomeranian_101.jpg', 'images/Bombay_209.jpg', 'images/keeshond_146.jpg', 'images/miniature_pinscher_123.jpg', 'images/staffordshire_bull_terrier_174.jpg', 'images/boxer_28.jpg', 'images/Persian_139.jpg', 'images/staffordshire_bull_terrier_103.jpg', 'images/japanese_chin_145.jpg', 'images/american_bulldog_114.jpg', 'images/american_pit_bull_terrier_62.jpg', 'images/samoyed_29.jpg', 'images/Persian_27.jpg', 'images/Siamese_222.jpg', 'images/english_cocker_spaniel_62.jpg', 'images/scottish_terrier_160.jpg', 'images/american_pit_bull_terrier_197.jpg', 'images/British_Shorthair_271.jpg', 'images/Persian_78.jpg', 'images/scottish_terrier_66.jpg', 'images/yorkshire_terrier_117.jpg', 'images/keeshond_171.jpg', 'images/Egyptian_Mau_195.jpg', 'images/german_shorthaired_140.jpg', 'images/great_pyrenees_185.jpg', 'images/staffordshire_bull_terrier_42.jpg', 'images/english_cocker_spaniel_29.jpg', 'images/Sphynx_249.jpg', 'images/american_pit_bull_terrier_47.jpg', 'images/British_Shorthair_184.jpg', 'images/japanese_chin_146.jpg', 'images/wheaten_terrier_88.jpg', 'images/Abyssinian_17.jpg', 'images/Bengal_196.jpg', 'images/newfoundland_21.jpg', 'images/Persian_270.jpg', 'images/saint_bernard_58.jpg', 'images/newfoundland_33.jpg', 'images/Bengal_188.jpg', 'images/shiba_inu_154.jpg', 'images/chihuahua_12.jpg', 'images/leonberger_85.jpg', 'images/Bengal_195.jpg', 'images/great_pyrenees_84.jpg', 'images/pug_63.jpg', 'images/pomeranian_123.jpg', 'images/Bombay_36.jpg', 'images/Birman_175.jpg', 'images/Sphynx_29.jpg', 'images/leonberger_40.jpg', 'images/Sphynx_44.jpg', 'images/scottish_terrier_193.jpg', 'images/english_setter_2.jpg', 'images/newfoundland_115.jpg', 'images/boxer_39.jpg', 'images/Maine_Coon_207.jpg', 'images/samoyed_62.jpg', 'images/Abyssinian_137.jpg', 'images/miniature_pinscher_51.jpg', 'images/pug_92.jpg', 'images/english_setter_161.jpg', 'images/american_pit_bull_terrier_194.jpg', 'images/scottish_terrier_25.jpg', 'images/British_Shorthair_119.jpg', 'images/yorkshire_terrier_109.jpg', 'images/yorkshire_terrier_200.jpg', 'images/pug_163.jpg', 'images/staffordshire_bull_terrier_99.jpg', 'images/Birman_112.jpg', 'images/Russian_Blue_87.jpg', 'images/saint_bernard_21.jpg', 'images/British_Shorthair_201.jpg', 'images/newfoundland_5.jpg', 'images/wheaten_terrier_69.jpg', 'images/japanese_chin_102.jpg', 'images/Sphynx_126.jpg', 'images/saint_bernard_158.jpg', 'images/Ragdoll_158.jpg', 'images/scottish_terrier_98.jpg', 'images/english_setter_30.jpg', 'images/Siamese_208.jpg', 'images/english_cocker_spaniel_12.jpg', 'images/basset_hound_132.jpg', 'images/Bombay_143.jpg', 'images/pomeranian_14.jpg', 'images/Bengal_49.jpg', 'images/Sphynx_77.jpg', 'images/newfoundland_169.jpg', 'images/newfoundland_68.jpg', 'images/pug_157.jpg', 'images/beagle_201.jpg', 'images/havanese_143.jpg', 'images/newfoundland_25.jpg', 'images/miniature_pinscher_136.jpg', 'images/Sphynx_48.jpg', 'images/Sphynx_146.jpg', 'images/havanese_91.jpg', 'images/basset_hound_150.jpg', 'images/english_setter_36.jpg', 'images/leonberger_12.jpg', 'images/german_shorthaired_103.jpg', 'images/keeshond_10.jpg', 'images/Sphynx_59.jpg', 'images/american_bulldog_134.jpg', 'images/Russian_Blue_143.jpg', 'images/staffordshire_bull_terrier_179.jpg', 'images/samoyed_171.jpg', 'images/Sphynx_192.jpg', 'images/Siamese_125.jpg', 'images/yorkshire_terrier_3.jpg', 'images/leonberger_188.jpg', 'images/Siamese_65.jpg', 'images/wheaten_terrier_173.jpg', 'images/havanese_167.jpg', 'images/basset_hound_102.jpg', 'images/great_pyrenees_7.jpg', 'images/english_cocker_spaniel_68.jpg', 'images/Persian_118.jpg', 'images/american_bulldog_71.jpg', 'images/miniature_pinscher_4.jpg', 'images/great_pyrenees_193.jpg', 'images/english_setter_25.jpg', 'images/scottish_terrier_103.jpg', 'images/staffordshire_bull_terrier_173.jpg', 'images/Ragdoll_2.jpg', 'images/great_pyrenees_143.jpg', 'images/Egyptian_Mau_3.jpg', 'images/scottish_terrier_90.jpg', 'images/english_setter_156.jpg', 'images/pug_173.jpg', 'images/boxer_64.jpg', 'images/Ragdoll_173.jpg', 'images/boxer_83.jpg', 'images/Maine_Coon_143.jpg', 'images/chihuahua_126.jpg', 'images/shiba_inu_8.jpg', 'images/english_cocker_spaniel_11.jpg', 'images/miniature_pinscher_147.jpg', 'images/Persian_61.jpg', 'images/pomeranian_58.jpg', 'images/japanese_chin_180.jpg', 'images/Bengal_151.jpg', 'images/Russian_Blue_85.jpg', 'images/Maine_Coon_108.jpg', 'images/newfoundland_40.jpg', 'images/great_pyrenees_184.jpg', 'images/Maine_Coon_96.jpg', 'images/english_setter_40.jpg', 'images/yorkshire_terrier_138.jpg', 'images/samoyed_189.jpg', 'images/staffordshire_bull_terrier_107.jpg', 'images/japanese_chin_37.jpg', 'images/japanese_chin_43.jpg', 'images/staffordshire_bull_terrier_69.jpg', 'images/english_setter_178.jpg', 'images/miniature_pinscher_170.jpg', 'images/american_bulldog_25.jpg', 'images/staffordshire_bull_terrier_78.jpg', 'images/keeshond_74.jpg', 'images/British_Shorthair_205.jpg', 'images/american_pit_bull_terrier_200.jpg', 'images/beagle_116.jpg', 'images/Abyssinian_34.jpg', 'images/english_setter_180.jpg', 'images/american_bulldog_150.jpg', 'images/japanese_chin_109.jpg', 'images/german_shorthaired_11.jpg', 'images/great_pyrenees_63.jpg', 'images/german_shorthaired_77.jpg', 'images/german_shorthaired_59.jpg', 'images/scottish_terrier_106.jpg', 'images/american_bulldog_147.jpg', 'images/boxer_116.jpg', 'images/staffordshire_bull_terrier_136.jpg', 'images/american_pit_bull_terrier_107.jpg', 'images/leonberger_38.jpg', 'images/pug_126.jpg', 'images/great_pyrenees_12.jpg', 'images/samoyed_116.jpg', 'images/saint_bernard_126.jpg', 'images/great_pyrenees_148.jpg', 'images/english_setter_171.jpg', 'images/pug_114.jpg', 'images/Egyptian_Mau_222.jpg', 'images/Bengal_25.jpg', 'images/pug_125.jpg', 'images/scottish_terrier_196.jpg', 'images/german_shorthaired_186.jpg', 'images/boxer_179.jpg', 'images/german_shorthaired_72.jpg', 'images/Ragdoll_131.jpg', 'images/Egyptian_Mau_82.jpg', 'images/basset_hound_95.jpg', 'images/havanese_71.jpg', 'images/leonberger_54.jpg', 'images/beagle_153.jpg', 'images/boxer_122.jpg', 'images/yorkshire_terrier_50.jpg', 'images/Egyptian_Mau_15.jpg', 'images/British_Shorthair_71.jpg', 'images/pug_102.jpg', 'images/havanese_193.jpg', 'images/english_cocker_spaniel_18.jpg', 'images/german_shorthaired_36.jpg', 'images/beagle_67.jpg', 'images/scottish_terrier_156.jpg', 'images/samoyed_107.jpg', 'images/staffordshire_bull_terrier_25.jpg', 'images/basset_hound_71.jpg', 'images/Persian_91.jpg', 'images/japanese_chin_100.jpg', 'images/japanese_chin_163.jpg', 'images/Birman_116.jpg', 'images/boxer_172.jpg', 'images/Bengal_72.jpg', 'images/pug_175.jpg', 'images/boxer_192.jpg', 'images/pug_159.jpg', 'images/pug_155.jpg', 'images/Egyptian_Mau_193.jpg', 'images/chihuahua_36.jpg', 'images/British_Shorthair_185.jpg', 'images/pug_27.jpg', 'images/great_pyrenees_96.jpg', 'images/staffordshire_bull_terrier_39.jpg', 'images/staffordshire_bull_terrier_115.jpg', 'images/keeshond_184.jpg', 'images/german_shorthaired_148.jpg', 'images/Sphynx_212.jpg', 'images/keeshond_39.jpg', 'images/Bengal_98.jpg', 'images/staffordshire_bull_terrier_181.jpg', 'images/japanese_chin_8.jpg', 'images/pug_68.jpg', 'images/wheaten_terrier_162.jpg', 'images/staffordshire_bull_terrier_63.jpg', 'images/staffordshire_bull_terrier_197.jpg', 'images/boxer_118.jpg', 'images/Bombay_40.jpg', 'images/Abyssinian_9.jpg', 'images/newfoundland_44.jpg', 'images/american_bulldog_31.jpg', 'images/german_shorthaired_176.jpg', 'images/english_setter_120.jpg', 'images/great_pyrenees_113.jpg', 'images/german_shorthaired_172.jpg', 'images/Maine_Coon_231.jpg', 'images/wheaten_terrier_112.jpg', 'images/american_bulldog_63.jpg', 'images/japanese_chin_38.jpg', 'images/american_pit_bull_terrier_173.jpg', 'images/Maine_Coon_24.jpg', 'images/scottish_terrier_180.jpg', 'images/chihuahua_121.jpg', 'images/beagle_50.jpg', 'images/Sphynx_75.jpg', 'images/pomeranian_78.jpg', 'images/Bombay_93.jpg', 'images/Egyptian_Mau_53.jpg', 'images/wheaten_terrier_31.jpg', 'images/english_cocker_spaniel_174.jpg', 'images/Siamese_91.jpg', 'images/Egyptian_Mau_101.jpg', 'images/english_setter_118.jpg', 'images/Russian_Blue_81.jpg', 'images/american_pit_bull_terrier_111.jpg', 'images/British_Shorthair_175.jpg', 'images/leonberger_169.jpg', 'images/great_pyrenees_115.jpg', 'images/pug_10.jpg', 'images/staffordshire_bull_terrier_183.jpg', 'images/pomeranian_17.jpg', 'images/basset_hound_125.jpg', 'images/american_pit_bull_terrier_112.jpg', 'images/pomeranian_165.jpg', 'images/miniature_pinscher_120.jpg', 'images/yorkshire_terrier_103.jpg', 'images/Ragdoll_174.jpg', 'images/english_setter_102.jpg', 'images/samoyed_42.jpg', 'images/chihuahua_102.jpg', 'images/english_cocker_spaniel_10.jpg', 'images/pug_52.jpg', 'images/Birman_180.jpg', 'images/Birman_97.jpg', 'images/pomeranian_170.jpg', 'images/american_bulldog_132.jpg', 'images/shiba_inu_31.jpg', 'images/yorkshire_terrier_94.jpg', 'images/english_setter_6.jpg', 'images/pug_42.jpg', 'images/Sphynx_70.jpg', 'images/staffordshire_bull_terrier_168.jpg', 'images/german_shorthaired_170.jpg', 'images/Bengal_142.jpg', 'images/miniature_pinscher_113.jpg', 'images/japanese_chin_177.jpg', 'images/Ragdoll_262.jpg', 'images/Siamese_69.jpg', 'images/japanese_chin_30.jpg', 'images/newfoundland_58.jpg', 'images/samoyed_147.jpg', 'images/Bengal_128.jpg', 'images/Bengal_42.jpg', 'images/japanese_chin_114.jpg', 'images/american_pit_bull_terrier_66.jpg', 'images/keeshond_60.jpg', 'images/Persian_100.jpg', 'images/miniature_pinscher_39.jpg', 'images/shiba_inu_88.jpg', 'images/scottish_terrier_5.jpg', 'images/Maine_Coon_8.jpg', 'images/german_shorthaired_24.jpg', 'images/miniature_pinscher_64.jpg', 'images/great_pyrenees_72.jpg', 'images/newfoundland_143.jpg', 'images/Egyptian_Mau_121.jpg', 'images/pug_28.jpg', 'images/samoyed_63.jpg', 'images/Ragdoll_107.jpg', 'images/Siamese_159.jpg', 'images/leonberger_46.jpg', 'images/Sphynx_244.jpg', 'images/great_pyrenees_144.jpg', 'images/basset_hound_13.jpg', 'images/Russian_Blue_148.jpg', 'images/american_pit_bull_terrier_138.jpg', 'images/Maine_Coon_268.jpg', 'images/wheaten_terrier_129.jpg', 'images/samoyed_102.jpg', 'images/shiba_inu_25.jpg', 'images/great_pyrenees_139.jpg', 'images/Egyptian_Mau_114.jpg', 'images/Birman_147.jpg', 'images/miniature_pinscher_196.jpg', 'images/chihuahua_49.jpg', 'images/Egyptian_Mau_152.jpg', 'images/Persian_195.jpg', 'images/keeshond_112.jpg', 'images/pomeranian_177.jpg', 'images/wheaten_terrier_54.jpg', 'images/basset_hound_119.jpg', 'images/great_pyrenees_133.jpg', 'images/scottish_terrier_92.jpg', 'images/shiba_inu_124.jpg', 'images/newfoundland_138.jpg', 'images/american_bulldog_97.jpg', 'images/Egyptian_Mau_122.jpg', 'images/Bombay_102.jpg', 'images/japanese_chin_198.jpg', 'images/boxer_58.jpg', 'images/miniature_pinscher_32.jpg', 'images/great_pyrenees_195.jpg', 'images/samoyed_192.jpg', 'images/pomeranian_89.jpg', 'images/shiba_inu_49.jpg', 'images/wheaten_terrier_12.jpg', 'images/Bombay_204.jpg', 'images/leonberger_110.jpg', 'images/Egyptian_Mau_16.jpg', 'images/staffordshire_bull_terrier_176.jpg', 'images/scottish_terrier_55.jpg', 'images/beagle_120.jpg', 'images/japanese_chin_179.jpg', 'images/havanese_43.jpg', 'images/samoyed_31.jpg', 'images/pug_25.jpg', 'images/newfoundland_16.jpg', 'images/staffordshire_bull_terrier_137.jpg', 'images/Egyptian_Mau_36.jpg', 'images/Ragdoll_148.jpg', 'images/saint_bernard_25.jpg', 'images/scottish_terrier_21.jpg', 'images/german_shorthaired_7.jpg', 'images/basset_hound_64.jpg', 'images/Persian_128.jpg', 'images/Maine_Coon_204.jpg', 'images/staffordshire_bull_terrier_64.jpg', 'images/Sphynx_76.jpg', 'images/wheaten_terrier_107.jpg', 'images/havanese_194.jpg', 'images/Birman_37.jpg', 'images/basset_hound_140.jpg', 'images/american_pit_bull_terrier_115.jpg', 'images/Bombay_221.jpg', 'images/english_cocker_spaniel_140.jpg', 'images/Persian_114.jpg', 'images/english_cocker_spaniel_192.jpg', 'images/samoyed_182.jpg', 'images/pug_118.jpg', 'images/Egyptian_Mau_102.jpg', 'images/Ragdoll_140.jpg', 'images/german_shorthaired_12.jpg', 'images/Sphynx_3.jpg', 'images/leonberger_11.jpg', 'images/Ragdoll_57.jpg', 'images/english_cocker_spaniel_149.jpg', 'images/Siamese_31.jpg', 'images/Siamese_44.jpg', 'images/British_Shorthair_61.jpg', 'images/pug_100.jpg', 'images/beagle_72.jpg', 'images/great_pyrenees_136.jpg', 'images/german_shorthaired_179.jpg', 'images/Persian_269.jpg', 'images/Bengal_11.jpg', 'images/saint_bernard_193.jpg', 'images/staffordshire_bull_terrier_149.jpg', 'images/Sphynx_190.jpg', 'images/american_bulldog_76.jpg', 'images/boxer_153.jpg', 'images/beagle_104.jpg', 'images/great_pyrenees_42.jpg', 'images/miniature_pinscher_156.jpg', 'images/japanese_chin_190.jpg', 'images/Bombay_126.jpg', 'images/leonberger_31.jpg', 'images/beagle_144.jpg', 'images/beagle_136.jpg', 'images/english_cocker_spaniel_176.jpg', 'images/Maine_Coon_16.jpg', 'images/scottish_terrier_145.jpg', 'images/Bengal_158.jpg', 'images/yorkshire_terrier_158.jpg', 'images/beagle_41.jpg', 'images/basset_hound_69.jpg', 'images/beagle_1.jpg', 'images/Russian_Blue_27.jpg', 'images/Birman_54.jpg', 'images/saint_bernard_133.jpg', 'images/Bengal_176.jpg', 'images/saint_bernard_28.jpg', 'images/keeshond_79.jpg', 'images/Egyptian_Mau_70.jpg', 'images/saint_bernard_27.jpg', 'images/yorkshire_terrier_125.jpg', 'images/great_pyrenees_101.jpg', 'images/basset_hound_78.jpg', 'images/boxer_33.jpg', 'images/samoyed_152.jpg', 'images/Birman_161.jpg', 'images/wheaten_terrier_18.jpg', 'images/chihuahua_66.jpg', 'images/miniature_pinscher_117.jpg', 'images/basset_hound_179.jpg', 'images/newfoundland_32.jpg', 'images/english_cocker_spaniel_155.jpg', 'images/basset_hound_170.jpg', 'images/english_cocker_spaniel_131.jpg', 'images/Maine_Coon_61.jpg', 'images/chihuahua_180.jpg', 'images/keeshond_41.jpg', 'images/shiba_inu_128.jpg', 'images/american_bulldog_214.jpg', 'images/american_bulldog_119.jpg', 'images/american_pit_bull_terrier_177.jpg', 'images/Bombay_152.jpg', 'images/samoyed_89.jpg', 'images/american_pit_bull_terrier_127.jpg', 'images/american_bulldog_105.jpg', 'images/havanese_160.jpg', 'images/Persian_184.jpg', 'images/keeshond_40.jpg', 'images/newfoundland_43.jpg', 'images/pug_71.jpg', 'images/chihuahua_169.jpg', 'images/Bombay_173.jpg', 'images/Siamese_85.jpg', 'images/great_pyrenees_147.jpg', 'images/pomeranian_93.jpg', 'images/german_shorthaired_167.jpg', 'images/german_shorthaired_157.jpg', 'images/Persian_28.jpg', 'images/american_pit_bull_terrier_77.jpg', 'images/beagle_7.jpg', 'images/newfoundland_148.jpg', 'images/boxer_168.jpg', 'images/chihuahua_80.jpg', 'images/beagle_113.jpg', 'images/Egyptian_Mau_116.jpg', 'images/pomeranian_11.jpg', 'images/saint_bernard_130.jpg', 'images/miniature_pinscher_135.jpg', 'images/basset_hound_30.jpg', 'images/Sphynx_34.jpg', 'images/samoyed_91.jpg', 'images/Bengal_19.jpg', 'images/Siamese_182.jpg', 'images/english_setter_17.jpg', 'images/havanese_142.jpg', 'images/boxer_155.jpg', 'images/shiba_inu_198.jpg', 'images/american_bulldog_44.jpg', 'images/american_bulldog_85.jpg', 'images/Bengal_48.jpg', 'images/staffordshire_bull_terrier_113.jpg', 'images/Bengal_61.jpg', 'images/Ragdoll_153.jpg', 'images/pug_84.jpg', 'images/Bengal_192.jpg', 'images/english_cocker_spaniel_53.jpg', 'images/Birman_23.jpg', 'images/Egyptian_Mau_2.jpg', 'images/Persian_2.jpg', 'images/leonberger_77.jpg', 'images/english_setter_27.jpg', 'images/scottish_terrier_110.jpg', 'images/pug_72.jpg', 'images/saint_bernard_117.jpg', 'images/havanese_164.jpg', 'images/pug_201.jpg', 'images/shiba_inu_71.jpg', 'images/shiba_inu_142.jpg', 'images/samoyed_154.jpg', 'images/japanese_chin_69.jpg', 'images/British_Shorthair_156.jpg', 'images/pug_192.jpg', 'images/Russian_Blue_77.jpg', 'images/basset_hound_120.jpg', 'images/Birman_57.jpg', 'images/basset_hound_31.jpg', 'images/Abyssinian_31.jpg', 'images/Siamese_184.jpg', 'images/beagle_154.jpg', 'images/beagle_71.jpg', 'images/Bengal_6.jpg', 'images/english_setter_145.jpg', 'images/wheaten_terrier_126.jpg', 'images/scottish_terrier_192.jpg', 'images/havanese_44.jpg', 'images/wheaten_terrier_142.jpg', 'images/newfoundland_139.jpg', 'images/havanese_150.jpg', 'images/pomeranian_44.jpg', 'images/Birman_58.jpg', 'images/basset_hound_58.jpg', 'images/great_pyrenees_179.jpg', 'images/staffordshire_bull_terrier_143.jpg', 'images/Persian_31.jpg', 'images/chihuahua_11.jpg', 'images/japanese_chin_166.jpg', 'images/Russian_Blue_72.jpg', 'images/basset_hound_180.jpg', 'images/leonberger_131.jpg', 'images/Abyssinian_11.jpg', 'images/newfoundland_26.jpg', 'images/Sphynx_85.jpg', 'images/Egyptian_Mau_78.jpg', 'images/Russian_Blue_82.jpg', 'images/japanese_chin_199.jpg', 'images/great_pyrenees_118.jpg', 'images/leonberger_78.jpg', 'images/Abyssinian_32.jpg', 'images/great_pyrenees_91.jpg', 'images/samoyed_37.jpg', 'images/german_shorthaired_184.jpg', 'images/scottish_terrier_6.jpg', 'images/Birman_21.jpg', 'images/english_cocker_spaniel_49.jpg', 'images/leonberger_191.jpg', 'images/pug_47.jpg', 'images/newfoundland_94.jpg', 'images/Russian_Blue_51.jpg', 'images/Bengal_91.jpg', 'images/British_Shorthair_98.jpg', 'images/american_bulldog_171.jpg', 'images/Russian_Blue_43.jpg', 'images/samoyed_132.jpg', 'images/British_Shorthair_248.jpg', 'images/chihuahua_16.jpg', 'images/great_pyrenees_3.jpg', 'images/saint_bernard_22.jpg', 'images/havanese_185.jpg', 'images/Maine_Coon_128.jpg', 'images/Ragdoll_68.jpg', 'images/newfoundland_168.jpg', 'images/Abyssinian_57.jpg', 'images/Bombay_145.jpg', 'images/Abyssinian_138.jpg', 'images/leonberger_135.jpg', 'images/english_cocker_spaniel_166.jpg', 'images/miniature_pinscher_22.jpg', 'images/Egyptian_Mau_35.jpg', 'images/english_setter_162.jpg', 'images/shiba_inu_28.jpg', 'images/shiba_inu_86.jpg', 'images/Egyptian_Mau_26.jpg', 'images/Egyptian_Mau_96.jpg', 'images/american_pit_bull_terrier_49.jpg', 'images/pug_106.jpg', 'images/american_pit_bull_terrier_108.jpg', 'images/Bengal_126.jpg', 'images/Russian_Blue_14.jpg', 'images/beagle_167.jpg', 'images/newfoundland_8.jpg', 'images/beagle_66.jpg', 'images/Russian_Blue_263.jpg', 'images/wheaten_terrier_81.jpg', 'images/german_shorthaired_20.jpg', 'images/boxer_141.jpg', 'images/Birman_131.jpg', 'images/pug_108.jpg', 'images/Bengal_115.jpg', 'images/basset_hound_156.jpg', 'images/english_cocker_spaniel_185.jpg', 'images/Russian_Blue_117.jpg', 'images/newfoundland_98.jpg', 'images/chihuahua_84.jpg', 'images/shiba_inu_183.jpg', 'images/great_pyrenees_103.jpg', 'images/english_cocker_spaniel_171.jpg', 'images/Sphynx_14.jpg', 'images/Maine_Coon_246.jpg', 'images/scottish_terrier_46.jpg', 'images/Sphynx_252.jpg', 'images/Egyptian_Mau_118.jpg', 'images/great_pyrenees_122.jpg', 'images/shiba_inu_159.jpg', 'images/havanese_47.jpg', 'images/beagle_138.jpg', 'images/english_setter_41.jpg', 'images/miniature_pinscher_146.jpg', 'images/Birman_123.jpg', 'images/pug_44.jpg', 'images/shiba_inu_103.jpg', 'images/keeshond_57.jpg', 'images/Ragdoll_136.jpg', 'images/Maine_Coon_269.jpg', 'images/chihuahua_125.jpg', 'images/great_pyrenees_27.jpg', 'images/wheaten_terrier_10.jpg', 'images/beagle_34.jpg', 'images/staffordshire_bull_terrier_22.jpg', 'images/shiba_inu_57.jpg', 'images/english_cocker_spaniel_107.jpg', 'images/japanese_chin_164.jpg', 'images/beagle_112.jpg', 'images/Persian_87.jpg', 'images/english_setter_137.jpg', 'images/american_bulldog_39.jpg', 'images/shiba_inu_114.jpg', 'images/great_pyrenees_76.jpg', 'images/Russian_Blue_221.jpg', 'images/shiba_inu_48.jpg', 'images/staffordshire_bull_terrier_46.jpg', 'images/leonberger_10.jpg', 'images/english_cocker_spaniel_133.jpg', 'images/Russian_Blue_41.jpg', 'images/basset_hound_85.jpg', 'images/pomeranian_144.jpg', 'images/saint_bernard_143.jpg', 'images/chihuahua_86.jpg', 'images/Maine_Coon_52.jpg', 'images/leonberger_24.jpg', 'images/Persian_187.jpg', 'images/Maine_Coon_270.jpg', 'images/Maine_Coon_168.jpg', 'images/beagle_180.jpg', 'images/keeshond_182.jpg', 'images/scottish_terrier_73.jpg', 'images/leonberger_155.jpg', 'images/american_pit_bull_terrier_6.jpg', 'images/Bengal_199.jpg', 'images/great_pyrenees_200.jpg', 'images/havanese_118.jpg', 'images/wheaten_terrier_97.jpg', 'images/British_Shorthair_127.jpg', 'images/pug_33.jpg', 'images/Bombay_129.jpg', 'images/Maine_Coon_174.jpg', 'images/Egyptian_Mau_25.jpg', 'images/Russian_Blue_156.jpg', 'images/Persian_70.jpg', 'images/english_setter_84.jpg', 'images/american_pit_bull_terrier_99.jpg', 'images/Ragdoll_53.jpg', 'images/Persian_182.jpg', 'images/shiba_inu_51.jpg', 'images/basset_hound_72.jpg', 'images/Abyssinian_50.jpg', 'images/newfoundland_195.jpg', 'images/german_shorthaired_68.jpg', 'images/chihuahua_160.jpg', 'images/miniature_pinscher_182.jpg', 'images/staffordshire_bull_terrier_34.jpg', 'images/great_pyrenees_20.jpg', 'images/Egyptian_Mau_142.jpg', 'images/american_pit_bull_terrier_180.jpg', 'images/miniature_pinscher_163.jpg', 'images/beagle_18.jpg', 'images/staffordshire_bull_terrier_123.jpg', 'images/american_bulldog_40.jpg', 'images/shiba_inu_20.jpg', 'images/samoyed_11.jpg', 'images/Egyptian_Mau_151.jpg', 'images/boxer_108.jpg', 'images/newfoundland_185.jpg', 'images/basset_hound_158.jpg', 'images/Egyptian_Mau_58.jpg', 'images/japanese_chin_75.jpg', 'images/Bombay_163.jpg', 'images/saint_bernard_65.jpg', 'images/Maine_Coon_135.jpg', 'images/keeshond_42.jpg', 'images/miniature_pinscher_8.jpg', 'images/Siamese_171.jpg', 'images/Sphynx_245.jpg', 'images/beagle_69.jpg', 'images/havanese_72.jpg', 'images/Bombay_76.jpg', 'images/samoyed_47.jpg', 'images/Birman_44.jpg', 'images/american_pit_bull_terrier_44.jpg', 'images/miniature_pinscher_191.jpg', 'images/leonberger_70.jpg', 'images/Birman_124.jpg', 'images/keeshond_187.jpg', 'images/american_pit_bull_terrier_71.jpg', 'images/boxer_52.jpg', 'images/beagle_75.jpg', 'images/yorkshire_terrier_96.jpg', 'images/beagle_150.jpg', 'images/basset_hound_82.jpg', 'images/Maine_Coon_217.jpg', 'images/keeshond_95.jpg', 'images/staffordshire_bull_terrier_76.jpg', 'images/great_pyrenees_183.jpg', 'images/chihuahua_99.jpg', 'images/saint_bernard_97.jpg', 'images/Siamese_137.jpg', 'images/Bengal_27.jpg', 'images/Persian_112.jpg', 'images/wheaten_terrier_166.jpg', 'images/german_shorthaired_39.jpg', 'images/Bombay_186.jpg', 'images/basset_hound_110.jpg', 'images/British_Shorthair_154.jpg', 'images/samoyed_139.jpg', 'images/Birman_196.jpg', 'images/shiba_inu_102.jpg', 'images/german_shorthaired_196.jpg', 'images/english_setter_186.jpg', 'images/keeshond_6.jpg', 'images/american_pit_bull_terrier_129.jpg', 'images/Persian_40.jpg', 'images/scottish_terrier_198.jpg', 'images/japanese_chin_174.jpg', 'images/english_cocker_spaniel_175.jpg', 'images/scottish_terrier_149.jpg', 'images/pomeranian_71.jpg', 'images/japanese_chin_58.jpg', 'images/english_cocker_spaniel_90.jpg', 'images/beagle_53.jpg', 'images/german_shorthaired_57.jpg', 'images/keeshond_159.jpg', 'images/pomeranian_33.jpg', 'images/pug_158.jpg', 'images/miniature_pinscher_172.jpg', 'images/Bombay_125.jpg', 'images/Sphynx_42.jpg', 'images/beagle_119.jpg', 'images/Birman_159.jpg', 'images/Bengal_198.jpg', 'images/scottish_terrier_182.jpg', 'images/scottish_terrier_42.jpg', 'images/staffordshire_bull_terrier_112.jpg', 'images/Bombay_105.jpg', 'images/pomeranian_134.jpg', 'images/basset_hound_174.jpg', 'images/Birman_153.jpg', 'images/keeshond_139.jpg', 'images/Sphynx_158.jpg', 'images/american_bulldog_183.jpg', 'images/leonberger_74.jpg', 'images/wheaten_terrier_138.jpg', 'images/english_setter_136.jpg', 'images/Birman_62.jpg', 'images/english_cocker_spaniel_100.jpg', 'images/Maine_Coon_14.jpg', 'images/american_bulldog_9.jpg', 'images/scottish_terrier_159.jpg', 'images/american_pit_bull_terrier_141.jpg', 'images/leonberger_23.jpg', 'images/miniature_pinscher_102.jpg', 'images/miniature_pinscher_16.jpg', 'images/japanese_chin_120.jpg', 'images/english_cocker_spaniel_169.jpg', 'images/shiba_inu_64.jpg', 'images/japanese_chin_115.jpg', 'images/english_setter_1.jpg', 'images/german_shorthaired_141.jpg', 'images/leonberger_49.jpg', 'images/Persian_156.jpg', 'images/wheaten_terrier_149.jpg', 'images/yorkshire_terrier_153.jpg', 'images/wheaten_terrier_82.jpg', 'images/keeshond_4.jpg', 'images/Persian_121.jpg', 'images/Ragdoll_117.jpg', 'images/Siamese_204.jpg', 'images/Egyptian_Mau_99.jpg', 'images/staffordshire_bull_terrier_145.jpg', 'images/Russian_Blue_29.jpg', 'images/Maine_Coon_107.jpg', 'images/wheaten_terrier_137.jpg', 'images/shiba_inu_98.jpg', 'images/basset_hound_155.jpg', 'images/Persian_86.jpg', 'images/german_shorthaired_79.jpg', 'images/pomeranian_186.jpg', 'images/yorkshire_terrier_105.jpg', 'images/leonberger_88.jpg', 'images/german_shorthaired_82.jpg', 'images/Bombay_121.jpg', 'images/Maine_Coon_76.jpg', 'images/american_pit_bull_terrier_31.jpg', 'images/samoyed_75.jpg', 'images/american_pit_bull_terrier_80.jpg', 'images/american_bulldog_45.jpg', 'images/pug_29.jpg', 'images/Bombay_14.jpg', 'images/great_pyrenees_182.jpg', 'images/shiba_inu_16.jpg', 'images/keeshond_120.jpg', 'images/chihuahua_71.jpg', 'images/shiba_inu_118.jpg', 'images/British_Shorthair_173.jpg', 'images/chihuahua_79.jpg', 'images/scottish_terrier_111.jpg', 'images/basset_hound_67.jpg', 'images/english_cocker_spaniel_71.jpg', 'images/leonberger_156.jpg', 'images/Persian_105.jpg', 'images/american_pit_bull_terrier_153.jpg', 'images/Abyssinian_72.jpg', 'images/boxer_25.jpg', 'images/pug_167.jpg', 'images/yorkshire_terrier_9.jpg', 'images/chihuahua_118.jpg', 'images/miniature_pinscher_139.jpg', 'images/boxer_200.jpg', 'images/japanese_chin_187.jpg', 'images/chihuahua_23.jpg', 'images/scottish_terrier_167.jpg', 'images/american_bulldog_66.jpg', 'images/Bombay_133.jpg', 'images/scottish_terrier_133.jpg', 'images/Abyssinian_55.jpg', 'images/chihuahua_75.jpg', 'images/Bengal_50.jpg', 'images/boxer_146.jpg', 'images/Birman_90.jpg', 'images/basset_hound_190.jpg', 'images/newfoundland_164.jpg', 'images/havanese_79.jpg', 'images/german_shorthaired_188.jpg', 'images/pug_203.jpg', 'images/great_pyrenees_65.jpg', 'images/beagle_21.jpg', 'images/Egyptian_Mau_153.jpg', 'images/Persian_140.jpg', 'images/chihuahua_33.jpg', 'images/german_shorthaired_166.jpg', 'images/Abyssinian_157.jpg', 'images/staffordshire_bull_terrier_87.jpg', 'images/pug_137.jpg', 'images/Sphynx_67.jpg', 'images/Siamese_201.jpg', 'images/Egyptian_Mau_224.jpg', 'images/Ragdoll_27.jpg', 'images/american_bulldog_173.jpg', 'images/Ragdoll_177.jpg', 'images/Abyssinian_156.jpg', 'images/Birman_142.jpg', 'images/keeshond_198.jpg', 'images/boxer_132.jpg', 'images/shiba_inu_141.jpg', 'images/staffordshire_bull_terrier_184.jpg', 'images/american_bulldog_30.jpg', 'images/newfoundland_158.jpg', 'images/great_pyrenees_23.jpg', 'images/wheaten_terrier_114.jpg', 'images/keeshond_151.jpg', 'images/newfoundland_61.jpg', 'images/newfoundland_59.jpg', 'images/Sphynx_239.jpg', 'images/British_Shorthair_239.jpg', 'images/shiba_inu_26.jpg', 'images/saint_bernard_156.jpg', 'images/British_Shorthair_3.jpg', 'images/german_shorthaired_97.jpg', 'images/Ragdoll_67.jpg', 'images/Sphynx_143.jpg', 'images/boxer_92.jpg', 'images/shiba_inu_36.jpg', 'images/pug_202.jpg', 'images/scottish_terrier_64.jpg', 'images/chihuahua_165.jpg', 'images/wheaten_terrier_116.jpg', 'images/english_cocker_spaniel_125.jpg', 'images/Sphynx_134.jpg', 'images/Bombay_164.jpg', 'images/newfoundland_28.jpg', 'images/Birman_105.jpg', 'images/leonberger_154.jpg', 'images/newfoundland_91.jpg', 'images/Maine_Coon_182.jpg', 'images/Birman_126.jpg', 'images/Bombay_191.jpg', 'images/keeshond_175.jpg', 'images/japanese_chin_143.jpg', 'images/pug_86.jpg', 'images/american_bulldog_55.jpg', 'images/beagle_129.jpg', 'images/staffordshire_bull_terrier_98.jpg', 'images/american_pit_bull_terrier_92.jpg', 'images/pomeranian_184.jpg', 'images/chihuahua_134.jpg', 'images/beagle_176.jpg', 'images/Ragdoll_62.jpg', 'images/great_pyrenees_5.jpg', 'images/Bombay_55.jpg', 'images/Bengal_145.jpg', 'images/pomeranian_191.jpg', 'images/Egyptian_Mau_61.jpg', 'images/Birman_72.jpg', 'images/boxer_174.jpg', 'images/miniature_pinscher_85.jpg', 'images/japanese_chin_134.jpg', 'images/Egyptian_Mau_75.jpg', 'images/saint_bernard_73.jpg', 'images/Abyssinian_144.jpg', 'images/basset_hound_167.jpg', 'images/american_pit_bull_terrier_82.jpg', 'images/american_bulldog_35.jpg', 'images/Sphynx_144.jpg', 'images/Persian_183.jpg', 'images/pug_88.jpg', 'images/Siamese_90.jpg', 'images/miniature_pinscher_89.jpg', 'images/wheaten_terrier_84.jpg', 'images/Bengal_112.jpg', 'images/havanese_63.jpg', 'images/miniature_pinscher_157.jpg', 'images/newfoundland_35.jpg', 'images/leonberger_122.jpg', 'images/leonberger_183.jpg', 'images/havanese_95.jpg', 'images/chihuahua_22.jpg', 'images/Russian_Blue_153.jpg', 'images/japanese_chin_192.jpg', 'images/staffordshire_bull_terrier_100.jpg', 'images/British_Shorthair_39.jpg', 'images/beagle_110.jpg', 'images/havanese_6.jpg', 'images/basset_hound_160.jpg', 'images/British_Shorthair_193.jpg', 'images/Russian_Blue_137.jpg', 'images/english_setter_54.jpg', 'images/miniature_pinscher_80.jpg', 'images/Maine_Coon_171.jpg', 'images/Ragdoll_40.jpg', 'images/german_shorthaired_6.jpg', 'images/japanese_chin_4.jpg', 'images/staffordshire_bull_terrier_30.jpg', 'images/basset_hound_171.jpg', 'images/american_bulldog_61.jpg', 'images/scottish_terrier_152.jpg', 'images/pug_55.jpg', 'images/Birman_118.jpg', 'images/chihuahua_157.jpg', 'images/newfoundland_144.jpg', 'images/basset_hound_186.jpg', 'images/samoyed_43.jpg', 'images/Egyptian_Mau_10.jpg', 'images/newfoundland_179.jpg', 'images/american_pit_bull_terrier_19.jpg', 'images/japanese_chin_10.jpg', 'images/japanese_chin_1.jpg', 'images/keeshond_102.jpg', 'images/Birman_181.jpg', 'images/havanese_60.jpg', 'images/Egyptian_Mau_161.jpg', 'images/beagle_149.jpg', 'images/Bombay_91.jpg', 'images/chihuahua_42.jpg', 'images/saint_bernard_195.jpg', 'images/Bombay_198.jpg', 'images/samoyed_2.jpg', 'images/Birman_53.jpg', 'images/english_setter_176.jpg', 'images/shiba_inu_65.jpg', 'images/Maine_Coon_153.jpg', 'images/beagle_162.jpg', 'images/Siamese_196.jpg', 'images/newfoundland_142.jpg', 'images/pomeranian_167.jpg', 'images/chihuahua_186.jpg', 'images/american_bulldog_62.jpg', 'images/Bombay_8.jpg', 'images/chihuahua_105.jpg', 'images/boxer_159.jpg', 'images/english_cocker_spaniel_22.jpg', 'images/american_pit_bull_terrier_76.jpg', 'images/boxer_9.jpg', 'images/Russian_Blue_172.jpg', 'images/english_cocker_spaniel_189.jpg', 'images/chihuahua_3.jpg', 'images/Ragdoll_60.jpg', 'images/havanese_23.jpg', 'images/miniature_pinscher_38.jpg', 'images/saint_bernard_121.jpg', 'images/scottish_terrier_186.jpg', 'images/samoyed_153.jpg', 'images/chihuahua_30.jpg', 'images/keeshond_62.jpg', 'images/german_shorthaired_46.jpg', 'images/pug_116.jpg', 'images/american_bulldog_113.jpg', 'images/great_pyrenees_50.jpg', 'images/keeshond_183.jpg', 'images/beagle_27.jpg', 'images/american_pit_bull_terrier_156.jpg', 'images/havanese_182.jpg', 'images/saint_bernard_72.jpg', 'images/leonberger_87.jpg', 'images/leonberger_21.jpg', 'images/Sphynx_160.jpg', 'images/Egyptian_Mau_129.jpg', 'images/Birman_43.jpg', 'images/Maine_Coon_115.jpg', 'images/keeshond_84.jpg', 'images/american_pit_bull_terrier_133.jpg', 'images/Bombay_158.jpg', 'images/Bombay_100.jpg', 'images/english_cocker_spaniel_129.jpg', 'images/german_shorthaired_113.jpg', 'images/British_Shorthair_189.jpg', 'images/pomeranian_117.jpg', 'images/chihuahua_182.jpg', 'images/boxer_180.jpg', 'images/english_setter_3.jpg', 'images/Birman_188.jpg', 'images/Bengal_149.jpg', 'images/miniature_pinscher_162.jpg', 'images/english_cocker_spaniel_56.jpg', 'images/scottish_terrier_154.jpg', 'images/great_pyrenees_163.jpg', 'images/shiba_inu_200.jpg', 'images/yorkshire_terrier_44.jpg', 'images/leonberger_133.jpg', 'images/Russian_Blue_113.jpg', 'images/german_shorthaired_33.jpg', 'images/english_cocker_spaniel_191.jpg', 'images/British_Shorthair_200.jpg', 'images/keeshond_156.jpg', 'images/great_pyrenees_102.jpg', 'images/yorkshire_terrier_136.jpg', 'images/english_cocker_spaniel_164.jpg', 'images/english_setter_190.jpg', 'images/yorkshire_terrier_120.jpg', 'images/British_Shorthair_29.jpg', 'images/great_pyrenees_198.jpg', 'images/chihuahua_142.jpg', 'images/Egyptian_Mau_133.jpg', 'images/Birman_125.jpg', 'images/Siamese_74.jpg', 'images/Persian_129.jpg', 'images/Abyssinian_27.jpg', 'images/american_pit_bull_terrier_146.jpg', 'images/keeshond_12.jpg', 'images/wheaten_terrier_192.jpg', 'images/basset_hound_4.jpg', 'images/Abyssinian_225.jpg', 'images/Egyptian_Mau_177.jpg', 'images/saint_bernard_89.jpg', 'images/newfoundland_112.jpg', 'images/British_Shorthair_21.jpg', 'images/Persian_131.jpg', 'images/pug_198.jpg', 'images/saint_bernard_200.jpg', 'images/Egyptian_Mau_160.jpg', 'images/Egyptian_Mau_86.jpg', 'images/shiba_inu_12.jpg', 'images/Abyssinian_12.jpg', 'images/keeshond_173.jpg', 'images/shiba_inu_163.jpg', 'images/saint_bernard_111.jpg', 'images/Russian_Blue_208.jpg', 'images/Ragdoll_71.jpg', 'images/keeshond_101.jpg', 'images/Ragdoll_199.jpg', 'images/havanese_45.jpg', 'images/scottish_terrier_2.jpg', 'images/Ragdoll_183.jpg', 'images/japanese_chin_121.jpg', 'images/Egyptian_Mau_127.jpg', 'images/Russian_Blue_95.jpg', 'images/staffordshire_bull_terrier_185.jpg', 'images/wheaten_terrier_143.jpg', 'images/Abyssinian_76.jpg', 'images/keeshond_181.jpg', 'images/yorkshire_terrier_99.jpg', 'images/miniature_pinscher_15.jpg', 'images/scottish_terrier_100.jpg', 'images/newfoundland_125.jpg', 'images/Bombay_54.jpg', 'images/scottish_terrier_163.jpg', 'images/Egyptian_Mau_1.jpg', 'images/Persian_53.jpg', 'images/Sphynx_17.jpg', 'images/boxer_154.jpg', 'images/wheaten_terrier_164.jpg', 'images/basset_hound_43.jpg', 'images/miniature_pinscher_173.jpg', 'images/havanese_153.jpg', 'images/beagle_108.jpg', 'images/pomeranian_114.jpg', 'images/British_Shorthair_112.jpg', 'images/basset_hound_73.jpg', 'images/Russian_Blue_28.jpg', 'images/english_cocker_spaniel_137.jpg', 'images/english_cocker_spaniel_128.jpg', 'images/Ragdoll_80.jpg', 'images/staffordshire_bull_terrier_12.jpg', 'images/pomeranian_148.jpg', 'images/Bengal_160.jpg', 'images/Sphynx_198.jpg', 'images/boxer_48.jpg', 'images/leonberger_138.jpg', 'images/german_shorthaired_106.jpg', 'images/British_Shorthair_110.jpg', 'images/miniature_pinscher_68.jpg', 'images/scottish_terrier_96.jpg', 'images/Maine_Coon_17.jpg', 'images/keeshond_109.jpg', 'images/chihuahua_129.jpg', 'images/havanese_121.jpg', 'images/pomeranian_194.jpg', 'images/newfoundland_182.jpg', 'images/beagle_137.jpg', 'images/yorkshire_terrier_1.jpg', 'images/beagle_84.jpg', 'images/scottish_terrier_43.jpg', 'images/havanese_101.jpg', 'images/saint_bernard_100.jpg', 'images/Bombay_96.jpg', 'images/British_Shorthair_49.jpg', 'images/german_shorthaired_130.jpg', 'images/american_bulldog_196.jpg', 'images/Bengal_194.jpg', 'images/Bengal_73.jpg', 'images/Egyptian_Mau_45.jpg', 'images/British_Shorthair_53.jpg', 'images/boxer_49.jpg', 'images/miniature_pinscher_25.jpg', 'images/american_bulldog_179.jpg', 'images/pomeranian_48.jpg', 'images/english_setter_101.jpg', 'images/miniature_pinscher_103.jpg', 'images/Birman_24.jpg', 'images/samoyed_117.jpg', 'images/Russian_Blue_112.jpg', 'images/keeshond_97.jpg', 'images/american_pit_bull_terrier_178.jpg', 'images/havanese_99.jpg', 'images/leonberger_167.jpg', 'images/Bengal_103.jpg', 'images/english_setter_155.jpg', 'images/Russian_Blue_220.jpg', 'images/newfoundland_34.jpg', 'images/British_Shorthair_195.jpg', 'images/beagle_140.jpg', 'images/miniature_pinscher_126.jpg', 'images/beagle_28.jpg', 'images/yorkshire_terrier_14.jpg', 'images/Siamese_48.jpg', 'images/saint_bernard_82.jpg', 'images/shiba_inu_19.jpg', 'images/beagle_118.jpg', 'images/saint_bernard_52.jpg', 'images/Egyptian_Mau_11.jpg', 'images/great_pyrenees_95.jpg', 'images/staffordshire_bull_terrier_29.jpg', 'images/Abyssinian_217.jpg', 'images/boxer_128.jpg', 'images/Bombay_42.jpg', 'images/basset_hound_96.jpg', 'images/havanese_68.jpg', 'images/boxer_149.jpg', 'images/saint_bernard_110.jpg', 'images/newfoundland_45.jpg', 'images/samoyed_166.jpg', 'images/Egyptian_Mau_52.jpg', 'images/staffordshire_bull_terrier_170.jpg', 'images/english_setter_131.jpg', 'images/British_Shorthair_41.jpg', 'images/american_pit_bull_terrier_74.jpg', 'images/pug_181.jpg', 'images/english_setter_51.jpg', 'images/Siamese_218.jpg', 'images/Maine_Coon_43.jpg', 'images/Sphynx_138.jpg', 'images/german_shorthaired_199.jpg', 'images/great_pyrenees_52.jpg', 'images/basset_hound_97.jpg', 'images/scottish_terrier_24.jpg', 'images/Egyptian_Mau_18.jpg', 'images/Ragdoll_146.jpg', 'images/Persian_14.jpg', 'images/saint_bernard_183.jpg', 'images/american_pit_bull_terrier_168.jpg', 'images/american_bulldog_115.jpg', 'images/Bombay_41.jpg', 'images/Egyptian_Mau_174.jpg', 'images/yorkshire_terrier_194.jpg', 'images/japanese_chin_51.jpg', 'images/Bengal_165.jpg', 'images/english_cocker_spaniel_109.jpg', 'images/american_bulldog_34.jpg', 'images/Bengal_29.jpg', 'images/miniature_pinscher_184.jpg', 'images/yorkshire_terrier_126.jpg', 'images/Bombay_95.jpg', 'images/leonberger_50.jpg', 'images/Egyptian_Mau_220.jpg', 'images/newfoundland_79.jpg', 'images/newfoundland_1.jpg', 'images/pug_196.jpg', 'images/newfoundland_56.jpg', 'images/Siamese_160.jpg', 'images/leonberger_177.jpg', 'images/shiba_inu_73.jpg', 'images/miniature_pinscher_112.jpg', 'images/Ragdoll_94.jpg']\n"
     ]
    }
   ],
   "source": [
    "import pickle\n",
    "\n",
    "# Load the list from the file using pickle\n",
    "def load_paths_file(file_name):\n",
    "    with open(f\"./paths/{file_name}.pkl\", \"rb\") as file:\n",
    "        paths = pickle.load(file)\n",
    "    return paths\n",
    "\n",
    "train_input_img_paths = load_paths_file(\"train_input_img_paths\")\n",
    "train_target_img_paths = load_paths_file(\"train_target_img_paths\")\n",
    "val_input_img_paths = load_paths_file(\"val_input_img_paths\")\n",
    "val_target_img_paths = load_paths_file(\"val_target_img_paths\")\n",
    "test_input_img_paths = load_paths_file(\"test_input_img_paths\")\n",
    "test_target_img_paths = load_paths_file(\"test_target_img_paths\")\n",
    "\n",
    "print(\"Data paths loaded\")\n",
    "\n",
    "print(train_input_img_paths)"
   ]
  },
  {
   "cell_type": "markdown",
   "metadata": {
    "id": "7MfA1zKn-vwA"
   },
   "source": [
    "## Load datasets"
   ]
  },
  {
   "cell_type": "code",
   "execution_count": 4,
   "metadata": {},
   "outputs": [
    {
     "name": "stdout",
     "output_type": "stream",
     "text": [
      "Datasets loaded.\n"
     ]
    },
    {
     "name": "stderr",
     "output_type": "stream",
     "text": [
      "2024-08-26 09:20:31.631394: I tensorflow/core/common_runtime/process_util.cc:146] Creating new thread pool with default inter op setting: 2. Tune using inter_op_parallelism_threads for best performance.\n"
     ]
    }
   ],
   "source": [
    "train_dataset_path = 'saved_data/train_dataset'\n",
    "valid_dataset_path = 'saved_data/valid_dataset'\n",
    "test_dataset_path = 'saved_data/test_dataset'\n",
    "\n",
    "# Load datasets\n",
    "train_dataset = tf.data.Dataset.load(train_dataset_path)\n",
    "valid_dataset = tf.data.Dataset.load(valid_dataset_path)\n",
    "test_dataset = tf.data.Dataset.load(test_dataset_path)\n",
    "\n",
    "print(\"Datasets loaded.\")"
   ]
  },
  {
   "cell_type": "markdown",
   "metadata": {},
   "source": [
    "## Function to save results"
   ]
  },
  {
   "cell_type": "code",
   "execution_count": 5,
   "metadata": {},
   "outputs": [],
   "source": [
    "saved_model_dir = \"./saved_models\"\n",
    "\n",
    "# Function to extract image name for the image path \n",
    "def extract_image_name(image_path):\n",
    "    return os.path.basename(image_path)\n",
    "\n",
    "# Prepare lists to hold all results\n",
    "individual_results = []\n",
    "average_results = []\n",
    "\n",
    "# Helper function to save individual and average results\n",
    "def save_results(platform, model_name, epochs, num_filters, norm_status, quantization, iteration, execution_times, peak_lists, iou_scores, dice_scores):\n",
    "    for i, (iou, dice) in enumerate(zip(iou_scores, dice_scores)):\n",
    "        individual_results.append({\n",
    "            \"Iteration\": iteration + 1,\n",
    "            \"Platform\": platform,\n",
    "            \"Model\": model_name,\n",
    "            \"Epoch\": epochs,\n",
    "            \"Filters\": num_filters,\n",
    "            \"Normalization\": norm_status,\n",
    "            \"Quantization\": quantization,\n",
    "            \"Image_Name\": extract_image_name(test_target_img_paths[i]),\n",
    "            \"Execution_time\": execution_times[i],\n",
    "            \"Memory_usage\": peak_lists[i],\n",
    "            \"IoU_score\": iou,\n",
    "            \"Dice_score\": dice\n",
    "        })\n",
    "\n",
    "    average_results.append({\n",
    "        \"Model\": model_name,\n",
    "        \"Epoch\": epochs,\n",
    "        \"Filters\": num_filters,\n",
    "        \"Normalization\": norm_status,\n",
    "        \"Quantization\": quantization,\n",
    "        \"Average_Execution_time\": np.mean(execution_times),\n",
    "        \"Average_Memory_usage\": np.mean(peak_lists),\n",
    "        \"Average_IoU_score\": np.mean(iou_scores),\n",
    "        \"Average_Dice_score\": np.mean(dice_scores)\n",
    "    })\n",
    "    print(f\"Completed: {model_name} | Iteration: {iteration + 1}\")    "
   ]
  },
  {
   "cell_type": "markdown",
   "metadata": {},
   "source": [
    "## Calculate Dice and IoU scores"
   ]
  },
  {
   "cell_type": "code",
   "execution_count": 6,
   "metadata": {},
   "outputs": [],
   "source": [
    "# Function to calculate Dice coefficient\n",
    "def dice_coefficient(y_true, y_pred):\n",
    "    y_true = tf.keras.backend.cast(y_true, 'float32')\n",
    "    y_pred = tf.keras.backend.cast(y_pred, 'float32')\n",
    "    y_true = tf.keras.backend.flatten(y_true)\n",
    "    y_pred = tf.keras.backend.flatten(y_pred)\n",
    "    intersection = tf.keras.backend.sum(y_true * y_pred)\n",
    "    return (2. * intersection + 1) / (tf.keras.backend.sum(y_true) + tf.keras.backend.sum(y_pred) + 1)\n",
    "\n",
    "# Function to calculate IoU score\n",
    "def iou_score(y_true, y_pred):\n",
    "    y_true = tf.keras.backend.cast(y_true, 'float32')\n",
    "    y_pred = tf.keras.backend.cast(y_pred, 'float32')\n",
    "    y_true = tf.keras.backend.flatten(y_true)\n",
    "    y_pred = tf.keras.backend.flatten(y_pred)\n",
    "    intersection = tf.keras.backend.sum(y_true * y_pred)\n",
    "    union = tf.keras.backend.sum(y_true) + tf.keras.backend.sum(y_pred) - intersection\n",
    "    return (intersection + 1) / (union + 1)"
   ]
  },
  {
   "cell_type": "code",
   "execution_count": 7,
   "metadata": {},
   "outputs": [],
   "source": [
    "from tensorflow.keras.preprocessing.image import load_img, img_to_array\n",
    "\n",
    "# Function to convert grayscale mask to binary mask\n",
    "def get_binary_mask(mask, threshold = 1):\n",
    "    \"\"\"Convert grayscale mask to binary mask with black background and white object.\"\"\"\n",
    "    return (mask > threshold).astype(np.uint8)\n",
    "\n",
    "# Helper function to calculate metrics for predictions\n",
    "def calculate_metrics(test_preds_array):\n",
    "    iou_scores, dice_scores = [],[]\n",
    "    for i, target_img_path in enumerate(test_target_img_paths):\n",
    "        # Load and normalize the ground truth mask\n",
    "        ground_truth_mask = img_to_array(load_img(target_img_path, color_mode=\"grayscale\", target_size=img_size))\n",
    "        ground_truth_mask = np.squeeze(ground_truth_mask / np.max(ground_truth_mask)).astype(np.uint8)\n",
    "        \n",
    "        # Get the model's prediction, resize, and convert to binary\n",
    "        pred_mask = tf.image.resize(test_preds_array[i], img_size).numpy()\n",
    "        pred_mask = get_binary_mask(np.argmax(pred_mask, axis=-1))\n",
    "        \n",
    "        # Append scores to the lists\n",
    "        iou_scores.append(iou_score(ground_truth_mask, pred_mask).numpy())\n",
    "        dice_scores.append(dice_coefficient(ground_truth_mask, pred_mask).numpy())\n",
    "    return iou_scores, dice_scores"
   ]
  },
  {
   "cell_type": "markdown",
   "metadata": {},
   "source": [
    "## Processing the Tensorflow model"
   ]
  },
  {
   "cell_type": "code",
   "execution_count": 8,
   "metadata": {},
   "outputs": [],
   "source": [
    "import time\n",
    "import tracemalloc\n",
    "\n",
    "# Helper function to process a single model configuration\n",
    "def process_model(epochs, num_filters, normalization, quantization):\n",
    "    '''\n",
    "    This function helps to:\n",
    "    # Predict on the test dataset \n",
    "    # Caculate the execution time and memory usage for each image prediction\n",
    "    # Perform Dice and IoU calculations\n",
    "    # Save the model\n",
    "    '''     \n",
    "    \n",
    "    norm_status = \"with_batch_norm\" if normalization else \"without_batch_norm\"\n",
    "    model_name = f\"model_epochs_{epochs}_filters_{num_filters}_{norm_status}\"\n",
    "    model_path = os.path.join(saved_model_dir, model_name)\n",
    "\n",
    "    # Load the model\n",
    "    model = tf.saved_model.load(model_path)\n",
    "    infer = model.signatures['serving_default']\n",
    "    print(f\"Model {model_name} loaded\")\n",
    "    \n",
    "    # Initialize lists for scores and metrics\n",
    "    test_preds, execution_times, peak_lists = [], [], []\n",
    "\n",
    "    # Loop through each batch and image\n",
    "    for batch in test_dataset:\n",
    "        # Process each image in the batch\n",
    "        for img in batch[0]:\n",
    "            start_time = time.time()\n",
    "            tracemalloc.start()\n",
    "\n",
    "            # Prepare input data and perform inference\n",
    "            input_tensor = tf.expand_dims(img, axis=0)\n",
    "           \n",
    "            preds = infer(input_tensor)\n",
    "            test_preds.append(preds)\n",
    "\n",
    "            # Record time and memory usage\n",
    "            execution_times.append(time.time() - start_time)\n",
    "            \n",
    "            _, peak = tracemalloc.get_traced_memory()\n",
    "            tracemalloc.stop()\n",
    "            peak_lists.append(peak / 1024)  # Convert to KB\n",
    "            \n",
    "    output_key = 'output_0'\n",
    "    \n",
    "    # Combine predictions and calculate metrics\n",
    "    if test_preds:\n",
    "        final_test_preds = {key: np.concatenate([pred[key].numpy() for pred in test_preds], axis=0) for key in test_preds[0]}\n",
    "        test_preds_array = final_test_preds[output_key]\n",
    "        iou_scores, dice_scores = calculate_metrics(test_preds_array)\n",
    "    else:\n",
    "        iou_scores, dice_scores = [], []\n",
    "\n",
    "    return model_name, execution_times, peak_lists, iou_scores, dice_scores    "
   ]
  },
  {
   "cell_type": "markdown",
   "metadata": {},
   "source": [
    "## Processing the Tensorflow Lite model"
   ]
  },
  {
   "cell_type": "code",
   "execution_count": 9,
   "metadata": {},
   "outputs": [],
   "source": [
    "# Helper function to process a single TFLite model configuration\n",
    "def process_tflite_model(epochs, num_filters, normalization, quantization):\n",
    "    '''\n",
    "    This function helps to:\n",
    "    # Predict on the test dataset \n",
    "    # Caculate the execution time and memory usage for each image prediction\n",
    "    # Perform Dice and IoU calculations\n",
    "    # Save model\n",
    "    '''\n",
    "    norm_status = \"with_batch_norm\" if normalization else \"without_batch_norm\"\n",
    "    model_name = f\"model_epochs_{epochs}_filters_{num_filters}_{norm_status}_{quantization}.tflite\"\n",
    "    model_path = os.path.join(saved_model_dir, model_name)\n",
    "\n",
    "    # Load the TFLite model\n",
    "    interpreter = tf.lite.Interpreter(model_path)\n",
    "    interpreter.allocate_tensors()  \n",
    "\n",
    "    # Get input and output details\n",
    "    input_index = interpreter.get_input_details()[0]['index']\n",
    "    output_index = interpreter.get_output_details()[0]['index']\n",
    "    print(f\"Model {model_name} loaded\")\n",
    "    \n",
    "    # Initialize lists for scores and metrics\n",
    "    test_preds, execution_times, peak_lists = [], [], []\n",
    "\n",
    "    # Loop through each batch and image\n",
    "    for batch in test_dataset:\n",
    "        for img in batch[0]:\n",
    "            start_time = time.time()\n",
    "            tracemalloc.start()\n",
    "            \n",
    "            # Prepare input data and run inference\n",
    "            interpreter.set_tensor(input_index, np.expand_dims(img.numpy(), axis=0))\n",
    "            interpreter.invoke()\n",
    "            \n",
    "            # Extract and store the prediction\n",
    "            test_preds.append(interpreter.get_tensor(output_index))\n",
    "            # Record time and memory usage\n",
    "            execution_times.append(time.time() - start_time)\n",
    "            \n",
    "            _, peak = tracemalloc.get_traced_memory()\n",
    "            tracemalloc.stop()\n",
    "            peak_lists.append(peak / 1024)  # Convert to KB\n",
    "        \n",
    "    # Convert the list of predictions to a single numpy array\n",
    "    test_preds_array = np.vstack(test_preds)\n",
    "    iou_scores, dice_scores = calculate_metrics(test_preds_array)\n",
    "    \n",
    "    return model_name, execution_times, peak_lists, iou_scores, dice_scores"
   ]
  },
  {
   "cell_type": "markdown",
   "metadata": {},
   "source": [
    "## Main Function"
   ]
  },
  {
   "cell_type": "code",
   "execution_count": 12,
   "metadata": {},
   "outputs": [
    {
     "name": "stdout",
     "output_type": "stream",
     "text": [
      "Model model_epochs_50_filters_32_with_batch_norm loaded\n",
      "Completed: model_epochs_50_filters_32_with_batch_norm | Iteration: 1\n",
      "Model model_epochs_50_filters_32_with_batch_norm loaded\n",
      "Completed: model_epochs_50_filters_32_with_batch_norm | Iteration: 2\n",
      "Model model_epochs_50_filters_32_with_batch_norm loaded\n",
      "Completed: model_epochs_50_filters_32_with_batch_norm | Iteration: 3\n",
      "Model model_epochs_50_filters_32_with_batch_norm loaded\n",
      "Completed: model_epochs_50_filters_32_with_batch_norm | Iteration: 4\n",
      "Model model_epochs_50_filters_32_with_batch_norm loaded\n",
      "Completed: model_epochs_50_filters_32_with_batch_norm | Iteration: 5\n",
      "Model model_epochs_50_filters_32_with_batch_norm loaded\n",
      "Completed: model_epochs_50_filters_32_with_batch_norm | Iteration: 6\n",
      "Model model_epochs_50_filters_32_with_batch_norm loaded\n",
      "Completed: model_epochs_50_filters_32_with_batch_norm | Iteration: 7\n",
      "Model model_epochs_50_filters_32_with_batch_norm loaded\n",
      "Completed: model_epochs_50_filters_32_with_batch_norm | Iteration: 8\n",
      "Model model_epochs_50_filters_32_with_batch_norm loaded\n",
      "Completed: model_epochs_50_filters_32_with_batch_norm | Iteration: 9\n",
      "Model model_epochs_50_filters_32_with_batch_norm loaded\n",
      "Completed: model_epochs_50_filters_32_with_batch_norm | Iteration: 10\n",
      "Model model_epochs_50_filters_32_with_batch_norm_default.tflite loaded\n"
     ]
    },
    {
     "name": "stderr",
     "output_type": "stream",
     "text": [
      "INFO: Created TensorFlow Lite delegate for select TF ops.\n",
      "2024-08-26 13:11:16.898190: I tensorflow/core/common_runtime/process_util.cc:146] Creating new thread pool with default inter op setting: 2. Tune using inter_op_parallelism_threads for best performance.\n",
      "INFO: TfLiteFlexDelegate delegate: 3 nodes delegated out of 176 nodes with 3 partitions.\n",
      "\n",
      "INFO: Created TensorFlow Lite XNNPACK delegate for CPU.\n"
     ]
    },
    {
     "name": "stdout",
     "output_type": "stream",
     "text": [
      "Completed: model_epochs_50_filters_32_with_batch_norm_default.tflite | Iteration: 1\n",
      "Model model_epochs_50_filters_32_with_batch_norm_default.tflite loaded\n"
     ]
    },
    {
     "name": "stderr",
     "output_type": "stream",
     "text": [
      "2024-08-26 13:12:24.194990: I tensorflow/core/common_runtime/process_util.cc:146] Creating new thread pool with default inter op setting: 2. Tune using inter_op_parallelism_threads for best performance.\n"
     ]
    },
    {
     "name": "stdout",
     "output_type": "stream",
     "text": [
      "Completed: model_epochs_50_filters_32_with_batch_norm_default.tflite | Iteration: 2\n",
      "Model model_epochs_50_filters_32_with_batch_norm_default.tflite loaded\n"
     ]
    },
    {
     "name": "stderr",
     "output_type": "stream",
     "text": [
      "2024-08-26 13:13:31.059118: I tensorflow/core/common_runtime/process_util.cc:146] Creating new thread pool with default inter op setting: 2. Tune using inter_op_parallelism_threads for best performance.\n"
     ]
    },
    {
     "name": "stdout",
     "output_type": "stream",
     "text": [
      "Completed: model_epochs_50_filters_32_with_batch_norm_default.tflite | Iteration: 3\n",
      "Model model_epochs_50_filters_32_with_batch_norm_default.tflite loaded\n"
     ]
    },
    {
     "name": "stderr",
     "output_type": "stream",
     "text": [
      "2024-08-26 13:14:44.405767: I tensorflow/core/common_runtime/process_util.cc:146] Creating new thread pool with default inter op setting: 2. Tune using inter_op_parallelism_threads for best performance.\n"
     ]
    },
    {
     "name": "stdout",
     "output_type": "stream",
     "text": [
      "Completed: model_epochs_50_filters_32_with_batch_norm_default.tflite | Iteration: 4\n",
      "Model model_epochs_50_filters_32_with_batch_norm_default.tflite loaded\n"
     ]
    },
    {
     "name": "stderr",
     "output_type": "stream",
     "text": [
      "2024-08-26 13:15:53.542427: I tensorflow/core/common_runtime/process_util.cc:146] Creating new thread pool with default inter op setting: 2. Tune using inter_op_parallelism_threads for best performance.\n"
     ]
    },
    {
     "name": "stdout",
     "output_type": "stream",
     "text": [
      "Completed: model_epochs_50_filters_32_with_batch_norm_default.tflite | Iteration: 5\n",
      "Model model_epochs_50_filters_32_with_batch_norm_default.tflite loaded\n"
     ]
    },
    {
     "name": "stderr",
     "output_type": "stream",
     "text": [
      "2024-08-26 13:17:01.471162: I tensorflow/core/common_runtime/process_util.cc:146] Creating new thread pool with default inter op setting: 2. Tune using inter_op_parallelism_threads for best performance.\n"
     ]
    },
    {
     "name": "stdout",
     "output_type": "stream",
     "text": [
      "Completed: model_epochs_50_filters_32_with_batch_norm_default.tflite | Iteration: 6\n",
      "Model model_epochs_50_filters_32_with_batch_norm_default.tflite loaded\n"
     ]
    },
    {
     "name": "stderr",
     "output_type": "stream",
     "text": [
      "2024-08-26 13:18:09.595052: I tensorflow/core/common_runtime/process_util.cc:146] Creating new thread pool with default inter op setting: 2. Tune using inter_op_parallelism_threads for best performance.\n"
     ]
    },
    {
     "name": "stdout",
     "output_type": "stream",
     "text": [
      "Completed: model_epochs_50_filters_32_with_batch_norm_default.tflite | Iteration: 7\n",
      "Model model_epochs_50_filters_32_with_batch_norm_default.tflite loaded\n"
     ]
    },
    {
     "name": "stderr",
     "output_type": "stream",
     "text": [
      "2024-08-26 13:19:16.675869: I tensorflow/core/common_runtime/process_util.cc:146] Creating new thread pool with default inter op setting: 2. Tune using inter_op_parallelism_threads for best performance.\n"
     ]
    },
    {
     "name": "stdout",
     "output_type": "stream",
     "text": [
      "Completed: model_epochs_50_filters_32_with_batch_norm_default.tflite | Iteration: 8\n",
      "Model model_epochs_50_filters_32_with_batch_norm_default.tflite loaded\n"
     ]
    },
    {
     "name": "stderr",
     "output_type": "stream",
     "text": [
      "2024-08-26 13:20:25.549576: I tensorflow/core/common_runtime/process_util.cc:146] Creating new thread pool with default inter op setting: 2. Tune using inter_op_parallelism_threads for best performance.\n"
     ]
    },
    {
     "name": "stdout",
     "output_type": "stream",
     "text": [
      "Completed: model_epochs_50_filters_32_with_batch_norm_default.tflite | Iteration: 9\n",
      "Model model_epochs_50_filters_32_with_batch_norm_default.tflite loaded\n"
     ]
    },
    {
     "name": "stderr",
     "output_type": "stream",
     "text": [
      "2024-08-26 13:21:33.870656: I tensorflow/core/common_runtime/process_util.cc:146] Creating new thread pool with default inter op setting: 2. Tune using inter_op_parallelism_threads for best performance.\n"
     ]
    },
    {
     "name": "stdout",
     "output_type": "stream",
     "text": [
      "Completed: model_epochs_50_filters_32_with_batch_norm_default.tflite | Iteration: 10\n",
      "Model model_epochs_50_filters_32_with_batch_norm_float16.tflite loaded\n"
     ]
    },
    {
     "name": "stderr",
     "output_type": "stream",
     "text": [
      "2024-08-26 13:22:42.506477: I tensorflow/core/common_runtime/process_util.cc:146] Creating new thread pool with default inter op setting: 2. Tune using inter_op_parallelism_threads for best performance.\n"
     ]
    },
    {
     "name": "stdout",
     "output_type": "stream",
     "text": [
      "Completed: model_epochs_50_filters_32_with_batch_norm_float16.tflite | Iteration: 1\n",
      "Model model_epochs_50_filters_32_with_batch_norm_float16.tflite loaded\n"
     ]
    },
    {
     "name": "stderr",
     "output_type": "stream",
     "text": [
      "2024-08-26 13:23:46.358582: I tensorflow/core/common_runtime/process_util.cc:146] Creating new thread pool with default inter op setting: 2. Tune using inter_op_parallelism_threads for best performance.\n"
     ]
    },
    {
     "name": "stdout",
     "output_type": "stream",
     "text": [
      "Completed: model_epochs_50_filters_32_with_batch_norm_float16.tflite | Iteration: 2\n",
      "Model model_epochs_50_filters_32_with_batch_norm_float16.tflite loaded\n"
     ]
    },
    {
     "name": "stderr",
     "output_type": "stream",
     "text": [
      "2024-08-26 13:24:48.461599: I tensorflow/core/common_runtime/process_util.cc:146] Creating new thread pool with default inter op setting: 2. Tune using inter_op_parallelism_threads for best performance.\n"
     ]
    },
    {
     "name": "stdout",
     "output_type": "stream",
     "text": [
      "Completed: model_epochs_50_filters_32_with_batch_norm_float16.tflite | Iteration: 3\n",
      "Model model_epochs_50_filters_32_with_batch_norm_float16.tflite loaded\n"
     ]
    },
    {
     "name": "stderr",
     "output_type": "stream",
     "text": [
      "2024-08-26 13:25:50.538415: I tensorflow/core/common_runtime/process_util.cc:146] Creating new thread pool with default inter op setting: 2. Tune using inter_op_parallelism_threads for best performance.\n"
     ]
    },
    {
     "name": "stdout",
     "output_type": "stream",
     "text": [
      "Completed: model_epochs_50_filters_32_with_batch_norm_float16.tflite | Iteration: 4\n",
      "Model model_epochs_50_filters_32_with_batch_norm_float16.tflite loaded\n"
     ]
    },
    {
     "name": "stderr",
     "output_type": "stream",
     "text": [
      "2024-08-26 13:26:52.567026: I tensorflow/core/common_runtime/process_util.cc:146] Creating new thread pool with default inter op setting: 2. Tune using inter_op_parallelism_threads for best performance.\n"
     ]
    },
    {
     "name": "stdout",
     "output_type": "stream",
     "text": [
      "Completed: model_epochs_50_filters_32_with_batch_norm_float16.tflite | Iteration: 5\n",
      "Model model_epochs_50_filters_32_with_batch_norm_float16.tflite loaded\n"
     ]
    },
    {
     "name": "stderr",
     "output_type": "stream",
     "text": [
      "2024-08-26 13:27:54.831924: I tensorflow/core/common_runtime/process_util.cc:146] Creating new thread pool with default inter op setting: 2. Tune using inter_op_parallelism_threads for best performance.\n"
     ]
    },
    {
     "name": "stdout",
     "output_type": "stream",
     "text": [
      "Completed: model_epochs_50_filters_32_with_batch_norm_float16.tflite | Iteration: 6\n",
      "Model model_epochs_50_filters_32_with_batch_norm_float16.tflite loaded\n"
     ]
    },
    {
     "name": "stderr",
     "output_type": "stream",
     "text": [
      "2024-08-26 13:28:56.956658: I tensorflow/core/common_runtime/process_util.cc:146] Creating new thread pool with default inter op setting: 2. Tune using inter_op_parallelism_threads for best performance.\n"
     ]
    },
    {
     "name": "stdout",
     "output_type": "stream",
     "text": [
      "Completed: model_epochs_50_filters_32_with_batch_norm_float16.tflite | Iteration: 7\n",
      "Model model_epochs_50_filters_32_with_batch_norm_float16.tflite loaded\n"
     ]
    },
    {
     "name": "stderr",
     "output_type": "stream",
     "text": [
      "2024-08-26 13:29:59.393844: I tensorflow/core/common_runtime/process_util.cc:146] Creating new thread pool with default inter op setting: 2. Tune using inter_op_parallelism_threads for best performance.\n"
     ]
    },
    {
     "name": "stdout",
     "output_type": "stream",
     "text": [
      "Completed: model_epochs_50_filters_32_with_batch_norm_float16.tflite | Iteration: 8\n",
      "Model model_epochs_50_filters_32_with_batch_norm_float16.tflite loaded\n"
     ]
    },
    {
     "name": "stderr",
     "output_type": "stream",
     "text": [
      "2024-08-26 13:31:01.523971: I tensorflow/core/common_runtime/process_util.cc:146] Creating new thread pool with default inter op setting: 2. Tune using inter_op_parallelism_threads for best performance.\n"
     ]
    },
    {
     "name": "stdout",
     "output_type": "stream",
     "text": [
      "Completed: model_epochs_50_filters_32_with_batch_norm_float16.tflite | Iteration: 9\n",
      "Model model_epochs_50_filters_32_with_batch_norm_float16.tflite loaded\n"
     ]
    },
    {
     "name": "stderr",
     "output_type": "stream",
     "text": [
      "2024-08-26 13:32:03.959110: I tensorflow/core/common_runtime/process_util.cc:146] Creating new thread pool with default inter op setting: 2. Tune using inter_op_parallelism_threads for best performance.\n"
     ]
    },
    {
     "name": "stdout",
     "output_type": "stream",
     "text": [
      "Completed: model_epochs_50_filters_32_with_batch_norm_float16.tflite | Iteration: 10\n",
      "Model model_epochs_50_filters_32_without_batch_norm loaded\n",
      "Completed: model_epochs_50_filters_32_without_batch_norm | Iteration: 1\n",
      "Model model_epochs_50_filters_32_without_batch_norm loaded\n",
      "Completed: model_epochs_50_filters_32_without_batch_norm | Iteration: 2\n",
      "Model model_epochs_50_filters_32_without_batch_norm loaded\n",
      "Completed: model_epochs_50_filters_32_without_batch_norm | Iteration: 3\n",
      "Model model_epochs_50_filters_32_without_batch_norm loaded\n",
      "Completed: model_epochs_50_filters_32_without_batch_norm | Iteration: 4\n",
      "Model model_epochs_50_filters_32_without_batch_norm loaded\n",
      "Completed: model_epochs_50_filters_32_without_batch_norm | Iteration: 5\n",
      "Model model_epochs_50_filters_32_without_batch_norm loaded\n",
      "Completed: model_epochs_50_filters_32_without_batch_norm | Iteration: 6\n",
      "Model model_epochs_50_filters_32_without_batch_norm loaded\n",
      "Completed: model_epochs_50_filters_32_without_batch_norm | Iteration: 7\n",
      "Model model_epochs_50_filters_32_without_batch_norm loaded\n",
      "Completed: model_epochs_50_filters_32_without_batch_norm | Iteration: 8\n",
      "Model model_epochs_50_filters_32_without_batch_norm loaded\n",
      "Completed: model_epochs_50_filters_32_without_batch_norm | Iteration: 9\n",
      "Model model_epochs_50_filters_32_without_batch_norm loaded\n",
      "Completed: model_epochs_50_filters_32_without_batch_norm | Iteration: 10\n",
      "Model model_epochs_50_filters_32_without_batch_norm_default.tflite loaded\n"
     ]
    },
    {
     "name": "stderr",
     "output_type": "stream",
     "text": [
      "2024-08-26 13:43:37.597334: I tensorflow/core/common_runtime/process_util.cc:146] Creating new thread pool with default inter op setting: 2. Tune using inter_op_parallelism_threads for best performance.\n"
     ]
    },
    {
     "name": "stdout",
     "output_type": "stream",
     "text": [
      "Completed: model_epochs_50_filters_32_without_batch_norm_default.tflite | Iteration: 1\n",
      "Model model_epochs_50_filters_32_without_batch_norm_default.tflite loaded\n"
     ]
    },
    {
     "name": "stderr",
     "output_type": "stream",
     "text": [
      "2024-08-26 13:44:45.144530: I tensorflow/core/common_runtime/process_util.cc:146] Creating new thread pool with default inter op setting: 2. Tune using inter_op_parallelism_threads for best performance.\n"
     ]
    },
    {
     "name": "stdout",
     "output_type": "stream",
     "text": [
      "Completed: model_epochs_50_filters_32_without_batch_norm_default.tflite | Iteration: 2\n",
      "Model model_epochs_50_filters_32_without_batch_norm_default.tflite loaded\n"
     ]
    },
    {
     "name": "stderr",
     "output_type": "stream",
     "text": [
      "2024-08-26 13:45:51.487168: I tensorflow/core/common_runtime/process_util.cc:146] Creating new thread pool with default inter op setting: 2. Tune using inter_op_parallelism_threads for best performance.\n"
     ]
    },
    {
     "name": "stdout",
     "output_type": "stream",
     "text": [
      "Completed: model_epochs_50_filters_32_without_batch_norm_default.tflite | Iteration: 3\n",
      "Model model_epochs_50_filters_32_without_batch_norm_default.tflite loaded\n"
     ]
    },
    {
     "name": "stderr",
     "output_type": "stream",
     "text": [
      "2024-08-26 13:46:57.619873: I tensorflow/core/common_runtime/process_util.cc:146] Creating new thread pool with default inter op setting: 2. Tune using inter_op_parallelism_threads for best performance.\n"
     ]
    },
    {
     "name": "stdout",
     "output_type": "stream",
     "text": [
      "Completed: model_epochs_50_filters_32_without_batch_norm_default.tflite | Iteration: 4\n",
      "Model model_epochs_50_filters_32_without_batch_norm_default.tflite loaded\n"
     ]
    },
    {
     "name": "stderr",
     "output_type": "stream",
     "text": [
      "2024-08-26 13:48:03.668306: I tensorflow/core/common_runtime/process_util.cc:146] Creating new thread pool with default inter op setting: 2. Tune using inter_op_parallelism_threads for best performance.\n"
     ]
    },
    {
     "name": "stdout",
     "output_type": "stream",
     "text": [
      "Completed: model_epochs_50_filters_32_without_batch_norm_default.tflite | Iteration: 5\n",
      "Model model_epochs_50_filters_32_without_batch_norm_default.tflite loaded\n"
     ]
    },
    {
     "name": "stderr",
     "output_type": "stream",
     "text": [
      "2024-08-26 13:49:09.662141: I tensorflow/core/common_runtime/process_util.cc:146] Creating new thread pool with default inter op setting: 2. Tune using inter_op_parallelism_threads for best performance.\n"
     ]
    },
    {
     "name": "stdout",
     "output_type": "stream",
     "text": [
      "Completed: model_epochs_50_filters_32_without_batch_norm_default.tflite | Iteration: 6\n",
      "Model model_epochs_50_filters_32_without_batch_norm_default.tflite loaded\n"
     ]
    },
    {
     "name": "stderr",
     "output_type": "stream",
     "text": [
      "2024-08-26 13:50:15.354323: I tensorflow/core/common_runtime/process_util.cc:146] Creating new thread pool with default inter op setting: 2. Tune using inter_op_parallelism_threads for best performance.\n"
     ]
    },
    {
     "name": "stdout",
     "output_type": "stream",
     "text": [
      "Completed: model_epochs_50_filters_32_without_batch_norm_default.tflite | Iteration: 7\n",
      "Model model_epochs_50_filters_32_without_batch_norm_default.tflite loaded\n"
     ]
    },
    {
     "name": "stderr",
     "output_type": "stream",
     "text": [
      "2024-08-26 13:51:21.541718: I tensorflow/core/common_runtime/process_util.cc:146] Creating new thread pool with default inter op setting: 2. Tune using inter_op_parallelism_threads for best performance.\n"
     ]
    },
    {
     "name": "stdout",
     "output_type": "stream",
     "text": [
      "Completed: model_epochs_50_filters_32_without_batch_norm_default.tflite | Iteration: 8\n",
      "Model model_epochs_50_filters_32_without_batch_norm_default.tflite loaded\n"
     ]
    },
    {
     "name": "stderr",
     "output_type": "stream",
     "text": [
      "2024-08-26 13:52:27.609995: I tensorflow/core/common_runtime/process_util.cc:146] Creating new thread pool with default inter op setting: 2. Tune using inter_op_parallelism_threads for best performance.\n"
     ]
    },
    {
     "name": "stdout",
     "output_type": "stream",
     "text": [
      "Completed: model_epochs_50_filters_32_without_batch_norm_default.tflite | Iteration: 9\n",
      "Model model_epochs_50_filters_32_without_batch_norm_default.tflite loaded\n"
     ]
    },
    {
     "name": "stderr",
     "output_type": "stream",
     "text": [
      "2024-08-26 13:53:33.779436: I tensorflow/core/common_runtime/process_util.cc:146] Creating new thread pool with default inter op setting: 2. Tune using inter_op_parallelism_threads for best performance.\n"
     ]
    },
    {
     "name": "stdout",
     "output_type": "stream",
     "text": [
      "Completed: model_epochs_50_filters_32_without_batch_norm_default.tflite | Iteration: 10\n",
      "Model model_epochs_50_filters_32_without_batch_norm_float16.tflite loaded\n"
     ]
    },
    {
     "name": "stderr",
     "output_type": "stream",
     "text": [
      "2024-08-26 13:54:39.518769: I tensorflow/core/common_runtime/process_util.cc:146] Creating new thread pool with default inter op setting: 2. Tune using inter_op_parallelism_threads for best performance.\n"
     ]
    },
    {
     "name": "stdout",
     "output_type": "stream",
     "text": [
      "Completed: model_epochs_50_filters_32_without_batch_norm_float16.tflite | Iteration: 1\n",
      "Model model_epochs_50_filters_32_without_batch_norm_float16.tflite loaded\n"
     ]
    },
    {
     "name": "stderr",
     "output_type": "stream",
     "text": [
      "2024-08-26 13:55:41.953718: I tensorflow/core/common_runtime/process_util.cc:146] Creating new thread pool with default inter op setting: 2. Tune using inter_op_parallelism_threads for best performance.\n"
     ]
    },
    {
     "name": "stdout",
     "output_type": "stream",
     "text": [
      "Completed: model_epochs_50_filters_32_without_batch_norm_float16.tflite | Iteration: 2\n",
      "Model model_epochs_50_filters_32_without_batch_norm_float16.tflite loaded\n"
     ]
    },
    {
     "name": "stderr",
     "output_type": "stream",
     "text": [
      "2024-08-26 13:56:44.234869: I tensorflow/core/common_runtime/process_util.cc:146] Creating new thread pool with default inter op setting: 2. Tune using inter_op_parallelism_threads for best performance.\n"
     ]
    },
    {
     "name": "stdout",
     "output_type": "stream",
     "text": [
      "Completed: model_epochs_50_filters_32_without_batch_norm_float16.tflite | Iteration: 3\n",
      "Model model_epochs_50_filters_32_without_batch_norm_float16.tflite loaded\n"
     ]
    },
    {
     "name": "stderr",
     "output_type": "stream",
     "text": [
      "2024-08-26 13:57:46.847349: I tensorflow/core/common_runtime/process_util.cc:146] Creating new thread pool with default inter op setting: 2. Tune using inter_op_parallelism_threads for best performance.\n"
     ]
    },
    {
     "name": "stdout",
     "output_type": "stream",
     "text": [
      "Completed: model_epochs_50_filters_32_without_batch_norm_float16.tflite | Iteration: 4\n",
      "Model model_epochs_50_filters_32_without_batch_norm_float16.tflite loaded\n"
     ]
    },
    {
     "name": "stderr",
     "output_type": "stream",
     "text": [
      "2024-08-26 13:58:49.136439: I tensorflow/core/common_runtime/process_util.cc:146] Creating new thread pool with default inter op setting: 2. Tune using inter_op_parallelism_threads for best performance.\n"
     ]
    },
    {
     "name": "stdout",
     "output_type": "stream",
     "text": [
      "Completed: model_epochs_50_filters_32_without_batch_norm_float16.tflite | Iteration: 5\n",
      "Model model_epochs_50_filters_32_without_batch_norm_float16.tflite loaded\n"
     ]
    },
    {
     "name": "stderr",
     "output_type": "stream",
     "text": [
      "2024-08-26 13:59:51.564730: I tensorflow/core/common_runtime/process_util.cc:146] Creating new thread pool with default inter op setting: 2. Tune using inter_op_parallelism_threads for best performance.\n"
     ]
    },
    {
     "name": "stdout",
     "output_type": "stream",
     "text": [
      "Completed: model_epochs_50_filters_32_without_batch_norm_float16.tflite | Iteration: 6\n",
      "Model model_epochs_50_filters_32_without_batch_norm_float16.tflite loaded\n"
     ]
    },
    {
     "name": "stderr",
     "output_type": "stream",
     "text": [
      "2024-08-26 14:00:53.879517: I tensorflow/core/common_runtime/process_util.cc:146] Creating new thread pool with default inter op setting: 2. Tune using inter_op_parallelism_threads for best performance.\n"
     ]
    },
    {
     "ename": "KeyboardInterrupt",
     "evalue": "",
     "output_type": "error",
     "traceback": [
      "\u001b[0;31m---------------------------------------------------------------------------\u001b[0m",
      "\u001b[0;31mKeyboardInterrupt\u001b[0m                         Traceback (most recent call last)",
      "Cell \u001b[0;32mIn[12], line 22\u001b[0m\n\u001b[1;32m     19\u001b[0m model_processing_function \u001b[38;5;241m=\u001b[39m process_model \u001b[38;5;28;01mif\u001b[39;00m quantization \u001b[38;5;241m==\u001b[39m \u001b[38;5;124m'\u001b[39m\u001b[38;5;124mno\u001b[39m\u001b[38;5;124m'\u001b[39m \u001b[38;5;28;01melse\u001b[39;00m process_tflite_model\n\u001b[1;32m     21\u001b[0m \u001b[38;5;66;03m# Process the model and get the results\u001b[39;00m\n\u001b[0;32m---> 22\u001b[0m model_name, execution_times, peak_lists, iou_scores, dice_scores \u001b[38;5;241m=\u001b[39m \u001b[43mmodel_processing_function\u001b[49m\u001b[43m(\u001b[49m\n\u001b[1;32m     23\u001b[0m \u001b[43m    \u001b[49m\u001b[43mepochs\u001b[49m\u001b[43m,\u001b[49m\u001b[43m \u001b[49m\u001b[43mnum_filters\u001b[49m\u001b[43m,\u001b[49m\u001b[43m \u001b[49m\u001b[43mnormalization\u001b[49m\u001b[43m,\u001b[49m\u001b[43m \u001b[49m\u001b[43mquantization\u001b[49m\u001b[43m)\u001b[49m\n\u001b[1;32m     25\u001b[0m \u001b[38;5;66;03m# Save the results\u001b[39;00m\n\u001b[1;32m     26\u001b[0m save_results(platform, model_name, epochs, num_filters, normalization, quantization, iteration, \n\u001b[1;32m     27\u001b[0m             execution_times, peak_lists, iou_scores, dice_scores)\n",
      "Cell \u001b[0;32mIn[9], line 34\u001b[0m, in \u001b[0;36mprocess_tflite_model\u001b[0;34m(epochs, num_filters, normalization, quantization)\u001b[0m\n\u001b[1;32m     32\u001b[0m \u001b[38;5;66;03m# Prepare input data and run inference\u001b[39;00m\n\u001b[1;32m     33\u001b[0m interpreter\u001b[38;5;241m.\u001b[39mset_tensor(input_index, np\u001b[38;5;241m.\u001b[39mexpand_dims(img\u001b[38;5;241m.\u001b[39mnumpy(), axis\u001b[38;5;241m=\u001b[39m\u001b[38;5;241m0\u001b[39m))\n\u001b[0;32m---> 34\u001b[0m \u001b[43minterpreter\u001b[49m\u001b[38;5;241;43m.\u001b[39;49m\u001b[43minvoke\u001b[49m\u001b[43m(\u001b[49m\u001b[43m)\u001b[49m\n\u001b[1;32m     36\u001b[0m \u001b[38;5;66;03m# Extract and store the prediction\u001b[39;00m\n\u001b[1;32m     37\u001b[0m test_preds\u001b[38;5;241m.\u001b[39mappend(interpreter\u001b[38;5;241m.\u001b[39mget_tensor(output_index))\n",
      "File \u001b[0;32m~/Documents/Course/STAGE/tflite/.conda/lib/python3.11/site-packages/tensorflow/lite/python/interpreter.py:917\u001b[0m, in \u001b[0;36mInterpreter.invoke\u001b[0;34m(self)\u001b[0m\n\u001b[1;32m    905\u001b[0m \u001b[38;5;250m\u001b[39m\u001b[38;5;124;03m\"\"\"Invoke the interpreter.\u001b[39;00m\n\u001b[1;32m    906\u001b[0m \n\u001b[1;32m    907\u001b[0m \u001b[38;5;124;03mBe sure to set the input sizes, allocate tensors and fill values before\u001b[39;00m\n\u001b[0;32m   (...)\u001b[0m\n\u001b[1;32m    914\u001b[0m \u001b[38;5;124;03m  ValueError: When the underlying interpreter fails raise ValueError.\u001b[39;00m\n\u001b[1;32m    915\u001b[0m \u001b[38;5;124;03m\"\"\"\u001b[39;00m\n\u001b[1;32m    916\u001b[0m \u001b[38;5;28mself\u001b[39m\u001b[38;5;241m.\u001b[39m_ensure_safe()\n\u001b[0;32m--> 917\u001b[0m \u001b[38;5;28;43mself\u001b[39;49m\u001b[38;5;241;43m.\u001b[39;49m\u001b[43m_interpreter\u001b[49m\u001b[38;5;241;43m.\u001b[39;49m\u001b[43mInvoke\u001b[49m\u001b[43m(\u001b[49m\u001b[43m)\u001b[49m\n",
      "\u001b[0;31mKeyboardInterrupt\u001b[0m: "
     ]
    }
   ],
   "source": [
    "import pandas as pd\n",
    "\n",
    "# Experiment parameters\n",
    "epochs_list = [50, 100]\n",
    "num_filters_list = [32, 64, 128]\n",
    "quantization_types = ['no', 'default', 'float16']\n",
    "iterations = 10\n",
    "platform = \"CPU\"\n",
    "quantization = \"Default\"\n",
    "output_key = 'output_0'\n",
    "saved_model_dir = \"./saved_models\"\n",
    "\n",
    "# Main loop to process all configurations\n",
    "for epochs in epochs_list:\n",
    "    for num_filters in num_filters_list:        \n",
    "        for normalization in [True, False]:\n",
    "            for quantization in quantization_types: \n",
    "                for iteration in range(iterations):\n",
    "                    model_processing_function = process_model if quantization == 'no' else process_tflite_model\n",
    "\n",
    "                    # Process the model and get the results\n",
    "                    model_name, execution_times, peak_lists, iou_scores, dice_scores = model_processing_function(\n",
    "                        epochs, num_filters, normalization, quantization)\n",
    "\n",
    "                    # Save the results\n",
    "                    save_results(platform, model_name, epochs, num_filters, normalization, quantization, iteration, \n",
    "                                execution_times, peak_lists, iou_scores, dice_scores)\n",
    "\n",
    "# Save results to CSV files\n",
    "pd.DataFrame(individual_results).to_csv(\"model_tflite_performance_individual_results.csv\", index=False)\n",
    "pd.DataFrame(average_results).to_csv(\"model_tflite_performance_average_results.csv\", index=False)\n",
    "\n",
    "print(\"Results saved to CSV files\")"
   ]
  },
  {
   "cell_type": "code",
   "execution_count": null,
   "metadata": {},
   "outputs": [],
   "source": []
  }
 ],
 "metadata": {
  "accelerator": "GPU",
  "colab": {
   "name": "oxford_pets_image_segmentation",
   "provenance": [],
   "toc_visible": true
  },
  "kernelspec": {
   "display_name": "Python 3 (ipykernel)",
   "language": "python",
   "name": "python3"
  },
  "language_info": {
   "codemirror_mode": {
    "name": "ipython",
    "version": 3
   },
   "file_extension": ".py",
   "mimetype": "text/x-python",
   "name": "python",
   "nbconvert_exporter": "python",
   "pygments_lexer": "ipython3",
   "version": "3.11.5"
  }
 },
 "nbformat": 4,
 "nbformat_minor": 4
}
